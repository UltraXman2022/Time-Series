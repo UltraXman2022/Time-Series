{
 "cells": [
  {
   "cell_type": "markdown",
   "metadata": {},
   "source": [
    "# Project description\n",
    "\n",
    "Sweet Lift Taxi company has collected historical data on taxi orders at airports. To attract more drivers during peak hours, we need to predict the amount of taxi orders for the next hour. Build a model for such a prediction.\n",
    "\n",
    "The RMSE metric on the test set should not be more than 48.\n",
    "\n",
    "## Project instructions\n",
    "\n",
    "1. Download the data and resample it by one hour.\n",
    "2. Analyze the data.\n",
    "3. Train different models with different hyperparameters. The test sample should be 10% of the initial dataset. \n",
    "4. Test the data using the test sample and provide a conclusion.\n",
    "\n",
    "## Data description\n",
    "\n",
    "The data is stored in file `taxi.csv`. The number of orders is in the '*num_orders*' column."
   ]
  },
  {
   "cell_type": "code",
   "execution_count": 1,
   "metadata": {},
   "outputs": [
    {
     "name": "stdout",
     "output_type": "stream",
     "text": [
      "Project libraries has been successfully been imported!\n"
     ]
    }
   ],
   "source": [
    "# Load libraries\n",
    "import pandas as pd\n",
    "import numpy as np\n",
    "from scipy.stats import norm\n",
    "\n",
    "# Load matplotlib\n",
    "import matplotlib.pyplot as plt\n",
    "%matplotlib inline\n",
    "\n",
    "# seaborn for visualization\n",
    "import seaborn as sns\n",
    "sns.set_style(\"darkgrid\")\n",
    "\n",
    "# Load sklearn\n",
    "from sklearn.preprocessing import StandardScaler \n",
    "from sklearn.pipeline import Pipeline\n",
    "from sklearn.model_selection import train_test_split\n",
    "from sklearn.model_selection import TimeSeriesSplit, GridSearchCV\n",
    "from sklearn.model_selection import cross_val_score\n",
    "from sklearn.linear_model import LinearRegression\n",
    "from sklearn.tree import DecisionTreeRegressor\n",
    "from sklearn.ensemble import RandomForestRegressor\n",
    "from sklearn.metrics import mean_absolute_error\n",
    "from sklearn.metrics import mean_squared_error\n",
    "from sklearn.metrics import make_scorer\n",
    "from sklearn import model_selection\n",
    "from sklearn import metrics\n",
    "from sklearn.model_selection import cross_validate\n",
    "from sklearn.svm import LinearSVC\n",
    "\n",
    "# Load other ml models \n",
    "from catboost import CatBoostRegressor\n",
    "from lightgbm import LGBMRegressor\n",
    "from xgboost import XGBRegressor\n",
    "from statsmodels.tsa.seasonal import seasonal_decompose\n",
    "\n",
    "#Remove warnings\n",
    "import sys\n",
    "import warnings\n",
    "if not sys.warnoptions:\n",
    "       warnings.simplefilter(action='ignore', category=FutureWarning)\n",
    "\n",
    "print('Project libraries has been successfully been imported!')"
   ]
  },
  {
   "cell_type": "code",
   "execution_count": 2,
   "metadata": {},
   "outputs": [
    {
     "name": "stdout",
     "output_type": "stream",
     "text": [
      "Data has been read correctly!\n"
     ]
    }
   ],
   "source": [
    "# read the data\n",
    "try:\n",
    "    taxi = pd.read_csv('/datasets/taxi.csv', index_col=[0], parse_dates=[0])\n",
    "    \n",
    "except:\n",
    "    taxi = pd.read_csv('taxi.csv', index_col=[0], parse_dates=[0]) \n",
    "    \n",
    "print('Data has been read correctly!')"
   ]
  },
  {
   "cell_type": "code",
   "execution_count": 3,
   "metadata": {},
   "outputs": [],
   "source": [
    "# Checking 0's\n",
    "def zero_check(df):\n",
    "    for i in df:\n",
    "        print(i,len(df[df[i]==0]))\n",
    "        \n",
    "# function to determine if columns in file have null values        \n",
    "def get_percent_of_na(df, num):\n",
    "    count = 0\n",
    "    df = df.copy()\n",
    "    s = (df.isna().sum() / df.shape[0])\n",
    "    for column, percent in zip(s.index, s.values):\n",
    "        num_of_nulls = df[column].isna().sum()\n",
    "        if num_of_nulls == 0:\n",
    "            continue\n",
    "        else:\n",
    "            count += 1\n",
    "        print('{} has {} nulls, which is {:.{}%} percent of Nulls'.format(column, num_of_nulls, percent, num))\n",
    "    if count != 0:\n",
    "        print(\"\\033[1m\" + 'There are {} columns with NA.'.format(count) + \"\\033[0m\")\n",
    "    else:\n",
    "        print()\n",
    "        print(\"\\033[1m\" + 'There are no columns with NA.' + \"\\033[0m\")       \n",
    "        \n",
    "# function to display general information about the dataset\n",
    "def general_info(df):\n",
    "    print(\"\\033[1m\" + \"\\033[0m\")\n",
    "    display(pd.concat([df.dtypes, df.count(),df.isna().sum(),df.isna().sum()/len(df)], keys=['type','count','na','na%'],\n",
    "                      axis=1))\n",
    "    print()\n",
    "    print(\"\\033[1m\" + 'Head:')  \n",
    "    display(df.head())\n",
    "    print()\n",
    "    print(\"\\033[1m\" + 'Tail:')\n",
    "    display(df.tail())\n",
    "    print()\n",
    "    print(\"\\033[1m\" + 'Info:')\n",
    "    print()\n",
    "    display(df.info())\n",
    "    print()\n",
    "    print(\"\\033[1m\" + 'Describe:')\n",
    "    print()\n",
    "    display(df.describe())\n",
    "    print()\n",
    "    print(\"\\033[1m\" + 'Describe include: all :')\n",
    "    print()\n",
    "    display(df.describe(include='all'))\n",
    "    print()\n",
    "    print(\"\\033[1m\" + 'nulls in the columns:')\n",
    "    print()\n",
    "    display(get_percent_of_na(df, 4))  # check this out\n",
    "    print()\n",
    "    print(\"\\033[1m\" + 'Zeros in the columns:') \n",
    "    print()\n",
    "    display(zero_check(df))\n",
    "    print()\n",
    "    print(\"\\033[1m\" + 'Shape:', df.shape)\n",
    "    print()\n",
    "    print()\n",
    "    print('Duplicated:',\"\\033[1m\" + 'We have {} duplicated rows\\n'.format(df.duplicated().sum()) + \"\\033[0m\")\n",
    "    print()\n",
    "    print(\"\\033[1m\" + 'Dtypes:')  \n",
    "    display(df.dtypes)\n",
    "    print()\n",
    "    print(\"\\033[1m\" + 'correlation:')  \n",
    "    display(df.corr())\n",
    "    print()"
   ]
  },
  {
   "cell_type": "code",
   "execution_count": 4,
   "metadata": {},
   "outputs": [
    {
     "name": "stdout",
     "output_type": "stream",
     "text": [
      "information about Our \"taxi\" dataset:\n",
      "\u001b[1m\u001b[0m\n"
     ]
    },
    {
     "data": {
      "text/html": [
       "<div>\n",
       "<style scoped>\n",
       "    .dataframe tbody tr th:only-of-type {\n",
       "        vertical-align: middle;\n",
       "    }\n",
       "\n",
       "    .dataframe tbody tr th {\n",
       "        vertical-align: top;\n",
       "    }\n",
       "\n",
       "    .dataframe thead th {\n",
       "        text-align: right;\n",
       "    }\n",
       "</style>\n",
       "<table border=\"1\" class=\"dataframe\">\n",
       "  <thead>\n",
       "    <tr style=\"text-align: right;\">\n",
       "      <th></th>\n",
       "      <th>type</th>\n",
       "      <th>count</th>\n",
       "      <th>na</th>\n",
       "      <th>na%</th>\n",
       "    </tr>\n",
       "  </thead>\n",
       "  <tbody>\n",
       "    <tr>\n",
       "      <th>num_orders</th>\n",
       "      <td>int64</td>\n",
       "      <td>26496</td>\n",
       "      <td>0</td>\n",
       "      <td>0.0</td>\n",
       "    </tr>\n",
       "  </tbody>\n",
       "</table>\n",
       "</div>"
      ],
      "text/plain": [
       "             type  count  na  na%\n",
       "num_orders  int64  26496   0  0.0"
      ]
     },
     "metadata": {},
     "output_type": "display_data"
    },
    {
     "name": "stdout",
     "output_type": "stream",
     "text": [
      "\n",
      "\u001b[1mHead:\n"
     ]
    },
    {
     "data": {
      "text/html": [
       "<div>\n",
       "<style scoped>\n",
       "    .dataframe tbody tr th:only-of-type {\n",
       "        vertical-align: middle;\n",
       "    }\n",
       "\n",
       "    .dataframe tbody tr th {\n",
       "        vertical-align: top;\n",
       "    }\n",
       "\n",
       "    .dataframe thead th {\n",
       "        text-align: right;\n",
       "    }\n",
       "</style>\n",
       "<table border=\"1\" class=\"dataframe\">\n",
       "  <thead>\n",
       "    <tr style=\"text-align: right;\">\n",
       "      <th></th>\n",
       "      <th>num_orders</th>\n",
       "    </tr>\n",
       "    <tr>\n",
       "      <th>datetime</th>\n",
       "      <th></th>\n",
       "    </tr>\n",
       "  </thead>\n",
       "  <tbody>\n",
       "    <tr>\n",
       "      <th>2018-03-01 00:00:00</th>\n",
       "      <td>9</td>\n",
       "    </tr>\n",
       "    <tr>\n",
       "      <th>2018-03-01 00:10:00</th>\n",
       "      <td>14</td>\n",
       "    </tr>\n",
       "    <tr>\n",
       "      <th>2018-03-01 00:20:00</th>\n",
       "      <td>28</td>\n",
       "    </tr>\n",
       "    <tr>\n",
       "      <th>2018-03-01 00:30:00</th>\n",
       "      <td>20</td>\n",
       "    </tr>\n",
       "    <tr>\n",
       "      <th>2018-03-01 00:40:00</th>\n",
       "      <td>32</td>\n",
       "    </tr>\n",
       "  </tbody>\n",
       "</table>\n",
       "</div>"
      ],
      "text/plain": [
       "                     num_orders\n",
       "datetime                       \n",
       "2018-03-01 00:00:00           9\n",
       "2018-03-01 00:10:00          14\n",
       "2018-03-01 00:20:00          28\n",
       "2018-03-01 00:30:00          20\n",
       "2018-03-01 00:40:00          32"
      ]
     },
     "metadata": {},
     "output_type": "display_data"
    },
    {
     "name": "stdout",
     "output_type": "stream",
     "text": [
      "\n",
      "\u001b[1mTail:\n"
     ]
    },
    {
     "data": {
      "text/html": [
       "<div>\n",
       "<style scoped>\n",
       "    .dataframe tbody tr th:only-of-type {\n",
       "        vertical-align: middle;\n",
       "    }\n",
       "\n",
       "    .dataframe tbody tr th {\n",
       "        vertical-align: top;\n",
       "    }\n",
       "\n",
       "    .dataframe thead th {\n",
       "        text-align: right;\n",
       "    }\n",
       "</style>\n",
       "<table border=\"1\" class=\"dataframe\">\n",
       "  <thead>\n",
       "    <tr style=\"text-align: right;\">\n",
       "      <th></th>\n",
       "      <th>num_orders</th>\n",
       "    </tr>\n",
       "    <tr>\n",
       "      <th>datetime</th>\n",
       "      <th></th>\n",
       "    </tr>\n",
       "  </thead>\n",
       "  <tbody>\n",
       "    <tr>\n",
       "      <th>2018-08-31 23:10:00</th>\n",
       "      <td>32</td>\n",
       "    </tr>\n",
       "    <tr>\n",
       "      <th>2018-08-31 23:20:00</th>\n",
       "      <td>24</td>\n",
       "    </tr>\n",
       "    <tr>\n",
       "      <th>2018-08-31 23:30:00</th>\n",
       "      <td>27</td>\n",
       "    </tr>\n",
       "    <tr>\n",
       "      <th>2018-08-31 23:40:00</th>\n",
       "      <td>39</td>\n",
       "    </tr>\n",
       "    <tr>\n",
       "      <th>2018-08-31 23:50:00</th>\n",
       "      <td>53</td>\n",
       "    </tr>\n",
       "  </tbody>\n",
       "</table>\n",
       "</div>"
      ],
      "text/plain": [
       "                     num_orders\n",
       "datetime                       \n",
       "2018-08-31 23:10:00          32\n",
       "2018-08-31 23:20:00          24\n",
       "2018-08-31 23:30:00          27\n",
       "2018-08-31 23:40:00          39\n",
       "2018-08-31 23:50:00          53"
      ]
     },
     "metadata": {},
     "output_type": "display_data"
    },
    {
     "name": "stdout",
     "output_type": "stream",
     "text": [
      "\n",
      "\u001b[1mInfo:\n",
      "\n",
      "<class 'pandas.core.frame.DataFrame'>\n",
      "DatetimeIndex: 26496 entries, 2018-03-01 00:00:00 to 2018-08-31 23:50:00\n",
      "Data columns (total 1 columns):\n",
      " #   Column      Non-Null Count  Dtype\n",
      "---  ------      --------------  -----\n",
      " 0   num_orders  26496 non-null  int64\n",
      "dtypes: int64(1)\n",
      "memory usage: 414.0 KB\n"
     ]
    },
    {
     "data": {
      "text/plain": [
       "None"
      ]
     },
     "metadata": {},
     "output_type": "display_data"
    },
    {
     "name": "stdout",
     "output_type": "stream",
     "text": [
      "\n",
      "\u001b[1mDescribe:\n",
      "\n"
     ]
    },
    {
     "data": {
      "text/html": [
       "<div>\n",
       "<style scoped>\n",
       "    .dataframe tbody tr th:only-of-type {\n",
       "        vertical-align: middle;\n",
       "    }\n",
       "\n",
       "    .dataframe tbody tr th {\n",
       "        vertical-align: top;\n",
       "    }\n",
       "\n",
       "    .dataframe thead th {\n",
       "        text-align: right;\n",
       "    }\n",
       "</style>\n",
       "<table border=\"1\" class=\"dataframe\">\n",
       "  <thead>\n",
       "    <tr style=\"text-align: right;\">\n",
       "      <th></th>\n",
       "      <th>num_orders</th>\n",
       "    </tr>\n",
       "  </thead>\n",
       "  <tbody>\n",
       "    <tr>\n",
       "      <th>count</th>\n",
       "      <td>26496.000000</td>\n",
       "    </tr>\n",
       "    <tr>\n",
       "      <th>mean</th>\n",
       "      <td>14.070463</td>\n",
       "    </tr>\n",
       "    <tr>\n",
       "      <th>std</th>\n",
       "      <td>9.211330</td>\n",
       "    </tr>\n",
       "    <tr>\n",
       "      <th>min</th>\n",
       "      <td>0.000000</td>\n",
       "    </tr>\n",
       "    <tr>\n",
       "      <th>25%</th>\n",
       "      <td>8.000000</td>\n",
       "    </tr>\n",
       "    <tr>\n",
       "      <th>50%</th>\n",
       "      <td>13.000000</td>\n",
       "    </tr>\n",
       "    <tr>\n",
       "      <th>75%</th>\n",
       "      <td>19.000000</td>\n",
       "    </tr>\n",
       "    <tr>\n",
       "      <th>max</th>\n",
       "      <td>119.000000</td>\n",
       "    </tr>\n",
       "  </tbody>\n",
       "</table>\n",
       "</div>"
      ],
      "text/plain": [
       "         num_orders\n",
       "count  26496.000000\n",
       "mean      14.070463\n",
       "std        9.211330\n",
       "min        0.000000\n",
       "25%        8.000000\n",
       "50%       13.000000\n",
       "75%       19.000000\n",
       "max      119.000000"
      ]
     },
     "metadata": {},
     "output_type": "display_data"
    },
    {
     "name": "stdout",
     "output_type": "stream",
     "text": [
      "\n",
      "\u001b[1mDescribe include: all :\n",
      "\n"
     ]
    },
    {
     "data": {
      "text/html": [
       "<div>\n",
       "<style scoped>\n",
       "    .dataframe tbody tr th:only-of-type {\n",
       "        vertical-align: middle;\n",
       "    }\n",
       "\n",
       "    .dataframe tbody tr th {\n",
       "        vertical-align: top;\n",
       "    }\n",
       "\n",
       "    .dataframe thead th {\n",
       "        text-align: right;\n",
       "    }\n",
       "</style>\n",
       "<table border=\"1\" class=\"dataframe\">\n",
       "  <thead>\n",
       "    <tr style=\"text-align: right;\">\n",
       "      <th></th>\n",
       "      <th>num_orders</th>\n",
       "    </tr>\n",
       "  </thead>\n",
       "  <tbody>\n",
       "    <tr>\n",
       "      <th>count</th>\n",
       "      <td>26496.000000</td>\n",
       "    </tr>\n",
       "    <tr>\n",
       "      <th>mean</th>\n",
       "      <td>14.070463</td>\n",
       "    </tr>\n",
       "    <tr>\n",
       "      <th>std</th>\n",
       "      <td>9.211330</td>\n",
       "    </tr>\n",
       "    <tr>\n",
       "      <th>min</th>\n",
       "      <td>0.000000</td>\n",
       "    </tr>\n",
       "    <tr>\n",
       "      <th>25%</th>\n",
       "      <td>8.000000</td>\n",
       "    </tr>\n",
       "    <tr>\n",
       "      <th>50%</th>\n",
       "      <td>13.000000</td>\n",
       "    </tr>\n",
       "    <tr>\n",
       "      <th>75%</th>\n",
       "      <td>19.000000</td>\n",
       "    </tr>\n",
       "    <tr>\n",
       "      <th>max</th>\n",
       "      <td>119.000000</td>\n",
       "    </tr>\n",
       "  </tbody>\n",
       "</table>\n",
       "</div>"
      ],
      "text/plain": [
       "         num_orders\n",
       "count  26496.000000\n",
       "mean      14.070463\n",
       "std        9.211330\n",
       "min        0.000000\n",
       "25%        8.000000\n",
       "50%       13.000000\n",
       "75%       19.000000\n",
       "max      119.000000"
      ]
     },
     "metadata": {},
     "output_type": "display_data"
    },
    {
     "name": "stdout",
     "output_type": "stream",
     "text": [
      "\n",
      "\u001b[1mnulls in the columns:\n",
      "\n",
      "\n",
      "\u001b[1mThere are no columns with NA.\u001b[0m\n"
     ]
    },
    {
     "data": {
      "text/plain": [
       "None"
      ]
     },
     "metadata": {},
     "output_type": "display_data"
    },
    {
     "name": "stdout",
     "output_type": "stream",
     "text": [
      "\n",
      "\u001b[1mZeros in the columns:\n",
      "\n",
      "num_orders 537\n"
     ]
    },
    {
     "data": {
      "text/plain": [
       "None"
      ]
     },
     "metadata": {},
     "output_type": "display_data"
    },
    {
     "name": "stdout",
     "output_type": "stream",
     "text": [
      "\n",
      "\u001b[1mShape: (26496, 1)\n",
      "\n",
      "\n",
      "Duplicated: \u001b[1mWe have 26415 duplicated rows\n",
      "\u001b[0m\n",
      "\n",
      "\u001b[1mDtypes:\n"
     ]
    },
    {
     "data": {
      "text/plain": [
       "num_orders    int64\n",
       "dtype: object"
      ]
     },
     "metadata": {},
     "output_type": "display_data"
    },
    {
     "name": "stdout",
     "output_type": "stream",
     "text": [
      "\n",
      "\u001b[1mcorrelation:\n"
     ]
    },
    {
     "data": {
      "text/html": [
       "<div>\n",
       "<style scoped>\n",
       "    .dataframe tbody tr th:only-of-type {\n",
       "        vertical-align: middle;\n",
       "    }\n",
       "\n",
       "    .dataframe tbody tr th {\n",
       "        vertical-align: top;\n",
       "    }\n",
       "\n",
       "    .dataframe thead th {\n",
       "        text-align: right;\n",
       "    }\n",
       "</style>\n",
       "<table border=\"1\" class=\"dataframe\">\n",
       "  <thead>\n",
       "    <tr style=\"text-align: right;\">\n",
       "      <th></th>\n",
       "      <th>num_orders</th>\n",
       "    </tr>\n",
       "  </thead>\n",
       "  <tbody>\n",
       "    <tr>\n",
       "      <th>num_orders</th>\n",
       "      <td>1.0</td>\n",
       "    </tr>\n",
       "  </tbody>\n",
       "</table>\n",
       "</div>"
      ],
      "text/plain": [
       "            num_orders\n",
       "num_orders         1.0"
      ]
     },
     "metadata": {},
     "output_type": "display_data"
    },
    {
     "name": "stdout",
     "output_type": "stream",
     "text": [
      "\n",
      "\n"
     ]
    }
   ],
   "source": [
    "#print our info data\n",
    "print('information about Our \"taxi\" dataset:')\n",
    "general_info(taxi)\n",
    "print()"
   ]
  },
  {
   "cell_type": "markdown",
   "metadata": {},
   "source": [
    "<hr><h2>Short brief of what we have part I:</h2>\n",
    "\n",
    "- We load our libraries and dataset which we did parse_dates when it's load\n",
    "<br>\n",
    "- <u><b>we did first inspection to our data:</b></u>\n",
    "  - our data is from Mar to Aug 2018  \n",
    "  - base on dates and orders\n",
    "  - there is 26415 duplicated rows\n",
    "  - 'num_orders' have 537, 0's\n",
    "  - 26496 rows  \n",
    "<hr>"
   ]
  },
  {
   "cell_type": "markdown",
   "metadata": {},
   "source": [
    "## Preparation"
   ]
  },
  {
   "cell_type": "code",
   "execution_count": 5,
   "metadata": {},
   "outputs": [
    {
     "data": {
      "text/html": [
       "<div>\n",
       "<style scoped>\n",
       "    .dataframe tbody tr th:only-of-type {\n",
       "        vertical-align: middle;\n",
       "    }\n",
       "\n",
       "    .dataframe tbody tr th {\n",
       "        vertical-align: top;\n",
       "    }\n",
       "\n",
       "    .dataframe thead th {\n",
       "        text-align: right;\n",
       "    }\n",
       "</style>\n",
       "<table border=\"1\" class=\"dataframe\">\n",
       "  <thead>\n",
       "    <tr style=\"text-align: right;\">\n",
       "      <th></th>\n",
       "      <th>num_orders</th>\n",
       "    </tr>\n",
       "    <tr>\n",
       "      <th>datetime</th>\n",
       "      <th></th>\n",
       "    </tr>\n",
       "  </thead>\n",
       "  <tbody>\n",
       "    <tr>\n",
       "      <th>2018-03-01 00:00:00</th>\n",
       "      <td>124</td>\n",
       "    </tr>\n",
       "    <tr>\n",
       "      <th>2018-03-01 01:00:00</th>\n",
       "      <td>85</td>\n",
       "    </tr>\n",
       "    <tr>\n",
       "      <th>2018-03-01 02:00:00</th>\n",
       "      <td>71</td>\n",
       "    </tr>\n",
       "    <tr>\n",
       "      <th>2018-03-01 03:00:00</th>\n",
       "      <td>66</td>\n",
       "    </tr>\n",
       "    <tr>\n",
       "      <th>2018-03-01 04:00:00</th>\n",
       "      <td>43</td>\n",
       "    </tr>\n",
       "    <tr>\n",
       "      <th>...</th>\n",
       "      <td>...</td>\n",
       "    </tr>\n",
       "    <tr>\n",
       "      <th>2018-08-31 19:00:00</th>\n",
       "      <td>136</td>\n",
       "    </tr>\n",
       "    <tr>\n",
       "      <th>2018-08-31 20:00:00</th>\n",
       "      <td>154</td>\n",
       "    </tr>\n",
       "    <tr>\n",
       "      <th>2018-08-31 21:00:00</th>\n",
       "      <td>159</td>\n",
       "    </tr>\n",
       "    <tr>\n",
       "      <th>2018-08-31 22:00:00</th>\n",
       "      <td>223</td>\n",
       "    </tr>\n",
       "    <tr>\n",
       "      <th>2018-08-31 23:00:00</th>\n",
       "      <td>205</td>\n",
       "    </tr>\n",
       "  </tbody>\n",
       "</table>\n",
       "<p>4416 rows × 1 columns</p>\n",
       "</div>"
      ],
      "text/plain": [
       "                     num_orders\n",
       "datetime                       \n",
       "2018-03-01 00:00:00         124\n",
       "2018-03-01 01:00:00          85\n",
       "2018-03-01 02:00:00          71\n",
       "2018-03-01 03:00:00          66\n",
       "2018-03-01 04:00:00          43\n",
       "...                         ...\n",
       "2018-08-31 19:00:00         136\n",
       "2018-08-31 20:00:00         154\n",
       "2018-08-31 21:00:00         159\n",
       "2018-08-31 22:00:00         223\n",
       "2018-08-31 23:00:00         205\n",
       "\n",
       "[4416 rows x 1 columns]"
      ]
     },
     "execution_count": 5,
     "metadata": {},
     "output_type": "execute_result"
    }
   ],
   "source": [
    "taxi = taxi.resample('1H').sum()\n",
    "taxi.sort_index(inplace=True)\n",
    "taxi"
   ]
  },
  {
   "cell_type": "code",
   "execution_count": 6,
   "metadata": {},
   "outputs": [
    {
     "data": {
      "text/html": [
       "<div>\n",
       "<style scoped>\n",
       "    .dataframe tbody tr th:only-of-type {\n",
       "        vertical-align: middle;\n",
       "    }\n",
       "\n",
       "    .dataframe tbody tr th {\n",
       "        vertical-align: top;\n",
       "    }\n",
       "\n",
       "    .dataframe thead th {\n",
       "        text-align: right;\n",
       "    }\n",
       "</style>\n",
       "<table border=\"1\" class=\"dataframe\">\n",
       "  <thead>\n",
       "    <tr style=\"text-align: right;\">\n",
       "      <th></th>\n",
       "      <th>num_orders</th>\n",
       "      <th>rolling_mean</th>\n",
       "      <th>std</th>\n",
       "    </tr>\n",
       "    <tr>\n",
       "      <th>datetime</th>\n",
       "      <th></th>\n",
       "      <th></th>\n",
       "      <th></th>\n",
       "    </tr>\n",
       "  </thead>\n",
       "  <tbody>\n",
       "    <tr>\n",
       "      <th>2018-03-01 00:00:00</th>\n",
       "      <td>124</td>\n",
       "      <td>NaN</td>\n",
       "      <td>NaN</td>\n",
       "    </tr>\n",
       "    <tr>\n",
       "      <th>2018-03-01 01:00:00</th>\n",
       "      <td>85</td>\n",
       "      <td>NaN</td>\n",
       "      <td>NaN</td>\n",
       "    </tr>\n",
       "    <tr>\n",
       "      <th>2018-03-01 02:00:00</th>\n",
       "      <td>71</td>\n",
       "      <td>NaN</td>\n",
       "      <td>NaN</td>\n",
       "    </tr>\n",
       "    <tr>\n",
       "      <th>2018-03-01 03:00:00</th>\n",
       "      <td>66</td>\n",
       "      <td>NaN</td>\n",
       "      <td>NaN</td>\n",
       "    </tr>\n",
       "    <tr>\n",
       "      <th>2018-03-01 04:00:00</th>\n",
       "      <td>43</td>\n",
       "      <td>NaN</td>\n",
       "      <td>NaN</td>\n",
       "    </tr>\n",
       "    <tr>\n",
       "      <th>...</th>\n",
       "      <td>...</td>\n",
       "      <td>...</td>\n",
       "      <td>...</td>\n",
       "    </tr>\n",
       "    <tr>\n",
       "      <th>2018-08-31 19:00:00</th>\n",
       "      <td>136</td>\n",
       "      <td>167.541667</td>\n",
       "      <td>63.268908</td>\n",
       "    </tr>\n",
       "    <tr>\n",
       "      <th>2018-08-31 20:00:00</th>\n",
       "      <td>154</td>\n",
       "      <td>168.041667</td>\n",
       "      <td>63.105487</td>\n",
       "    </tr>\n",
       "    <tr>\n",
       "      <th>2018-08-31 21:00:00</th>\n",
       "      <td>159</td>\n",
       "      <td>166.416667</td>\n",
       "      <td>62.801908</td>\n",
       "    </tr>\n",
       "    <tr>\n",
       "      <th>2018-08-31 22:00:00</th>\n",
       "      <td>223</td>\n",
       "      <td>169.125000</td>\n",
       "      <td>63.816525</td>\n",
       "    </tr>\n",
       "    <tr>\n",
       "      <th>2018-08-31 23:00:00</th>\n",
       "      <td>205</td>\n",
       "      <td>167.416667</td>\n",
       "      <td>62.197383</td>\n",
       "    </tr>\n",
       "  </tbody>\n",
       "</table>\n",
       "<p>4416 rows × 3 columns</p>\n",
       "</div>"
      ],
      "text/plain": [
       "                     num_orders  rolling_mean        std\n",
       "datetime                                                \n",
       "2018-03-01 00:00:00         124           NaN        NaN\n",
       "2018-03-01 01:00:00          85           NaN        NaN\n",
       "2018-03-01 02:00:00          71           NaN        NaN\n",
       "2018-03-01 03:00:00          66           NaN        NaN\n",
       "2018-03-01 04:00:00          43           NaN        NaN\n",
       "...                         ...           ...        ...\n",
       "2018-08-31 19:00:00         136    167.541667  63.268908\n",
       "2018-08-31 20:00:00         154    168.041667  63.105487\n",
       "2018-08-31 21:00:00         159    166.416667  62.801908\n",
       "2018-08-31 22:00:00         223    169.125000  63.816525\n",
       "2018-08-31 23:00:00         205    167.416667  62.197383\n",
       "\n",
       "[4416 rows x 3 columns]"
      ]
     },
     "execution_count": 6,
     "metadata": {},
     "output_type": "execute_result"
    }
   ],
   "source": [
    "taxi['rolling_mean'] = taxi.rolling(24).mean()\n",
    "taxi['std'] = taxi['num_orders'].rolling(24).std()\n",
    "taxi"
   ]
  },
  {
   "cell_type": "code",
   "execution_count": 7,
   "metadata": {},
   "outputs": [
    {
     "data": {
      "text/plain": [
       "num_orders      0\n",
       "rolling_mean    0\n",
       "std             0\n",
       "dtype: int64"
      ]
     },
     "execution_count": 7,
     "metadata": {},
     "output_type": "execute_result"
    }
   ],
   "source": [
    "taxi.dropna(inplace=True)\n",
    "taxi.isna().sum()"
   ]
  },
  {
   "cell_type": "markdown",
   "metadata": {},
   "source": [
    "<hr><h2>Short brief of what we did part II:</h2>\n",
    "\n",
    "- We resampled our date to 1 hour\n",
    "\n",
    "- Add rolling mean and standard deviation columns\n",
    "\n",
    "- Fill our missing values with backfill method\n",
    "<hr>"
   ]
  },
  {
   "cell_type": "markdown",
   "metadata": {},
   "source": [
    "## Analysis"
   ]
  },
  {
   "cell_type": "code",
   "execution_count": 8,
   "metadata": {
    "scrolled": true
   },
   "outputs": [
    {
     "data": {
      "image/png": "[encoded data removed]",
      "text/plain": [
       "<Figure size 1440x360 with 2 Axes>"
      ]
     },
     "metadata": {},
     "output_type": "display_data"
    },
    {
     "name": "stdout",
     "output_type": "stream",
     "text": [
      "Num of orders has a normal distribution with several outliers\n"
     ]
    }
   ],
   "source": [
    "#Plot Num of orders to see the distribution and if there is outliers\n",
    "fig,ax = plt.subplots(1,2,figsize=(20,5))\n",
    "sns.boxplot(taxi[\"num_orders\"], ax=ax[0])\n",
    "sns.distplot(taxi[\"num_orders\"], fit=norm, ax=ax[1])\n",
    "plt.show();\n",
    "print('Num of orders has a normal distribution with several outliers')"
   ]
  },
  {
   "cell_type": "code",
   "execution_count": 9,
   "metadata": {
    "scrolled": true
   },
   "outputs": [
    {
     "data": {
      "image/png": "[encoded data removed]",
      "text/plain": [
       "<Figure size 1152x360 with 1 Axes>"
      ]
     },
     "metadata": {},
     "output_type": "display_data"
    }
   ],
   "source": [
    "#Plot taxi data distribution hour from march 18 to Auguest 18\n",
    "taxi.plot(grid=True,alpha=0.75,figsize=(16,5));\n",
    "plt.title('Taxi distribution per hour March 2018 : Auguest 18');\n",
    "plt.xlabel('Datetime');\n",
    "plt.ylabel('Orders count');\n",
    "plt.show();"
   ]
  },
  {
   "cell_type": "code",
   "execution_count": 10,
   "metadata": {},
   "outputs": [
    {
     "data": {
      "image/png": "[encoded data removed]",
      "text/plain": [
       "<Figure size 1152x360 with 1 Axes>"
      ]
     },
     "metadata": {},
     "output_type": "display_data"
    }
   ],
   "source": [
    "#Plot taxi data 'num orders' distribution hour from march 18 to Auguest 18 \n",
    "plt.figure(figsize=(16,5))\n",
    "taxi['num_orders'].plot()\n",
    "plt.title('Taxi distribution per hour March 2018 : Auguest 18')\n",
    "plt.xlabel('Datetime')\n",
    "plt.ylabel('Orders count')\n",
    "plt.show();"
   ]
  },
  {
   "cell_type": "code",
   "execution_count": 11,
   "metadata": {},
   "outputs": [
    {
     "data": {
      "image/png": "[encoded data removed]",
      "text/plain": [
       "<Figure size 1152x720 with 3 Axes>"
      ]
     },
     "metadata": {},
     "output_type": "display_data"
    }
   ],
   "source": [
    "#Plotting Trend, Seasonality & Residuals\n",
    "decomposed = seasonal_decompose(taxi['num_orders'])\n",
    "plt.figure(figsize=(16,10))\n",
    "plt.subplot(311)\n",
    "decomposed.trend.plot(ax=plt.gca())\n",
    "plt.title('Trend')\n",
    "plt.xlabel('')\n",
    "plt.subplot(312)\n",
    "decomposed.seasonal['2018-08-01':'2018-08-31'].plot(ax=plt.gca())\n",
    "plt.title('Seasonality')\n",
    "plt.xlabel('')\n",
    "plt.subplot(313)\n",
    "decomposed.resid.plot(ax=plt.gca())\n",
    "plt.title('Residuals')\n",
    "plt.xlabel('Datetime')\n",
    "plt.show();"
   ]
  },
  {
   "cell_type": "code",
   "execution_count": 12,
   "metadata": {},
   "outputs": [],
   "source": [
    "#Creating a stationary time series\n",
    "#taxi_data = taxi - taxi.shift()\n",
    "taxi_data = taxi.drop(['rolling_mean'], axis=1)\n",
    "taxi_data = taxi.drop(['std'], axis=1)"
   ]
  },
  {
   "cell_type": "code",
   "execution_count": 13,
   "metadata": {},
   "outputs": [
    {
     "data": {
      "image/png": "[encoded data removed]",
      "text/plain": [
       "<Figure size 1152x288 with 1 Axes>"
      ]
     },
     "metadata": {},
     "output_type": "display_data"
    }
   ],
   "source": [
    "#plot Taxi differences by hours March 2018 : Auguest 18\n",
    "plt.figure(figsize=(16,4))\n",
    "taxi_data['num_orders'].plot()\n",
    "plt.title('Taxi differences by hours March 2018 : Auguest 18')\n",
    "plt.xlabel('Datetime')\n",
    "plt.ylabel('Orders count')\n",
    "plt.show();"
   ]
  },
  {
   "cell_type": "markdown",
   "metadata": {},
   "source": [
    "<hr><h2>Short brief of what we did part III:</h2>\n",
    "\n",
    "- Plot distribution of orders per hour on the entire data\n",
    "\n",
    "- Plot distribution with rolling mean and standard deviation\n",
    "\n",
    "- Plot & analyzed trend, seasonality, residuals for 'num_orders' column\n",
    "\n",
    "- Drop all the columns except for 'num_orders' to return to initial data  without calculations\n",
    "\n",
    "<b>What we found looking at our EDA</b>\n",
    "\n",
    "First we can see that our 'num_orders' column have normal distribution with several outliers, also we notice that our 'trend' is increasing order when the summer months is coming when the highest peak as we can see is in Aug which is also the last month in our data.\n",
    "\n",
    "when i look at our 'Seasonality' we can't see any dramatic movement and it's stay the same from start to the end and finally the 'residuals' it's not very clear i guess since our data is only few months long we can see some tiny movement over time and bigger one in the end.\n",
    "\n",
    "we can see that our highest order peak is 00:00 , after it around ~16:00 and 10:00 , the lowest time is early morning around ~6:00. \n",
    "<hr>"
   ]
  },
  {
   "cell_type": "markdown",
   "metadata": {},
   "source": [
    "## Training"
   ]
  },
  {
   "cell_type": "code",
   "execution_count": 18,
   "metadata": {},
   "outputs": [
    {
     "name": "stdout",
     "output_type": "stream",
     "text": [
      "(4393, 2)\n",
      "(3953, 2)\n",
      "(440, 2)\n"
     ]
    }
   ],
   "source": [
    "#split data set (80-20 train-test sets)\n",
    "train, test = train_test_split(taxi_data, shuffle=False, test_size=0.1)\n",
    "\n",
    "#confirm size of datasets\n",
    "print(taxi_data.shape)\n",
    "print(train.shape)\n",
    "print(test.shape)"
   ]
  },
  {
   "cell_type": "code",
   "execution_count": 19,
   "metadata": {},
   "outputs": [
    {
     "name": "stdout",
     "output_type": "stream",
     "text": [
      "2018-03-01 23:00:00 2018-08-13 15:00:00\n",
      "2018-08-13 16:00:00 2018-08-31 23:00:00\n"
     ]
    }
   ],
   "source": [
    "print(train.index.min(), train.index.max())\n",
    "print(test.index.min(), test.index.max())"
   ]
  },
  {
   "cell_type": "code",
   "execution_count": 20,
   "metadata": {},
   "outputs": [
    {
     "name": "stdout",
     "output_type": "stream",
     "text": [
      "Median daily taxi orders: 135.0\n",
      "RMSE: 77.23639233074204\n"
     ]
    }
   ],
   "source": [
    "#using a constant value: median level of taxi orders so that you can correlate it with RMSE value\n",
    "print('Median daily taxi orders:', test['num_orders'].median())\n",
    "pred_median = np.ones(test.shape) * train['num_orders'].median()\n",
    "print('RMSE:', np.sqrt(mean_squared_error(test, pred_median)))"
   ]
  },
  {
   "cell_type": "code",
   "execution_count": 21,
   "metadata": {},
   "outputs": [
    {
     "name": "stdout",
     "output_type": "stream",
     "text": [
      "Median daily taxi orders: 135.0\n",
      "RMSE: 58.881776776551476\n"
     ]
    }
   ],
   "source": [
    "#using the previous value in the series to predict the taxi orders and find the RMSE value for this prediction\n",
    "print('Median daily taxi orders:', test['num_orders'].median())\n",
    "pred_previous = np.ones(test.shape[0]) * test['num_orders'].shift(fill_value=train['num_orders'].iloc[-1])\n",
    "print('RMSE:', np.sqrt(mean_squared_error(test['num_orders'], pred_previous)))"
   ]
  },
  {
   "cell_type": "code",
   "execution_count": 22,
   "metadata": {},
   "outputs": [
    {
     "data": {
      "text/html": [
       "<div>\n",
       "<style scoped>\n",
       "    .dataframe tbody tr th:only-of-type {\n",
       "        vertical-align: middle;\n",
       "    }\n",
       "\n",
       "    .dataframe tbody tr th {\n",
       "        vertical-align: top;\n",
       "    }\n",
       "\n",
       "    .dataframe thead th {\n",
       "        text-align: right;\n",
       "    }\n",
       "</style>\n",
       "<table border=\"1\" class=\"dataframe\">\n",
       "  <thead>\n",
       "    <tr style=\"text-align: right;\">\n",
       "      <th></th>\n",
       "      <th>num_orders</th>\n",
       "      <th>rolling_mean</th>\n",
       "      <th>year</th>\n",
       "      <th>month</th>\n",
       "      <th>week</th>\n",
       "      <th>dayofweek</th>\n",
       "      <th>day</th>\n",
       "      <th>hour</th>\n",
       "      <th>lag_1</th>\n",
       "      <th>lag_2</th>\n",
       "      <th>lag_3</th>\n",
       "      <th>lag_4</th>\n",
       "      <th>lag_5</th>\n",
       "      <th>std</th>\n",
       "    </tr>\n",
       "    <tr>\n",
       "      <th>datetime</th>\n",
       "      <th></th>\n",
       "      <th></th>\n",
       "      <th></th>\n",
       "      <th></th>\n",
       "      <th></th>\n",
       "      <th></th>\n",
       "      <th></th>\n",
       "      <th></th>\n",
       "      <th></th>\n",
       "      <th></th>\n",
       "      <th></th>\n",
       "      <th></th>\n",
       "      <th></th>\n",
       "      <th></th>\n",
       "    </tr>\n",
       "  </thead>\n",
       "  <tbody>\n",
       "    <tr>\n",
       "      <th>2018-03-02 09:00:00</th>\n",
       "      <td>45</td>\n",
       "      <td>50.2</td>\n",
       "      <td>2018</td>\n",
       "      <td>3</td>\n",
       "      <td>9</td>\n",
       "      <td>4</td>\n",
       "      <td>2</td>\n",
       "      <td>9</td>\n",
       "      <td>46.0</td>\n",
       "      <td>7.0</td>\n",
       "      <td>11.0</td>\n",
       "      <td>11.0</td>\n",
       "      <td>20.0</td>\n",
       "      <td>50.2</td>\n",
       "    </tr>\n",
       "    <tr>\n",
       "      <th>2018-03-02 10:00:00</th>\n",
       "      <td>54</td>\n",
       "      <td>48.9</td>\n",
       "      <td>2018</td>\n",
       "      <td>3</td>\n",
       "      <td>9</td>\n",
       "      <td>4</td>\n",
       "      <td>2</td>\n",
       "      <td>10</td>\n",
       "      <td>45.0</td>\n",
       "      <td>46.0</td>\n",
       "      <td>7.0</td>\n",
       "      <td>11.0</td>\n",
       "      <td>11.0</td>\n",
       "      <td>48.9</td>\n",
       "    </tr>\n",
       "    <tr>\n",
       "      <th>2018-03-02 11:00:00</th>\n",
       "      <td>91</td>\n",
       "      <td>45.3</td>\n",
       "      <td>2018</td>\n",
       "      <td>3</td>\n",
       "      <td>9</td>\n",
       "      <td>4</td>\n",
       "      <td>2</td>\n",
       "      <td>11</td>\n",
       "      <td>54.0</td>\n",
       "      <td>45.0</td>\n",
       "      <td>46.0</td>\n",
       "      <td>7.0</td>\n",
       "      <td>11.0</td>\n",
       "      <td>45.3</td>\n",
       "    </tr>\n",
       "    <tr>\n",
       "      <th>2018-03-02 12:00:00</th>\n",
       "      <td>36</td>\n",
       "      <td>42.4</td>\n",
       "      <td>2018</td>\n",
       "      <td>3</td>\n",
       "      <td>9</td>\n",
       "      <td>4</td>\n",
       "      <td>2</td>\n",
       "      <td>12</td>\n",
       "      <td>91.0</td>\n",
       "      <td>54.0</td>\n",
       "      <td>45.0</td>\n",
       "      <td>46.0</td>\n",
       "      <td>7.0</td>\n",
       "      <td>42.4</td>\n",
       "    </tr>\n",
       "    <tr>\n",
       "      <th>2018-03-02 13:00:00</th>\n",
       "      <td>45</td>\n",
       "      <td>38.5</td>\n",
       "      <td>2018</td>\n",
       "      <td>3</td>\n",
       "      <td>9</td>\n",
       "      <td>4</td>\n",
       "      <td>2</td>\n",
       "      <td>13</td>\n",
       "      <td>36.0</td>\n",
       "      <td>91.0</td>\n",
       "      <td>54.0</td>\n",
       "      <td>45.0</td>\n",
       "      <td>46.0</td>\n",
       "      <td>38.5</td>\n",
       "    </tr>\n",
       "    <tr>\n",
       "      <th>...</th>\n",
       "      <td>...</td>\n",
       "      <td>...</td>\n",
       "      <td>...</td>\n",
       "      <td>...</td>\n",
       "      <td>...</td>\n",
       "      <td>...</td>\n",
       "      <td>...</td>\n",
       "      <td>...</td>\n",
       "      <td>...</td>\n",
       "      <td>...</td>\n",
       "      <td>...</td>\n",
       "      <td>...</td>\n",
       "      <td>...</td>\n",
       "      <td>...</td>\n",
       "    </tr>\n",
       "    <tr>\n",
       "      <th>2018-08-31 19:00:00</th>\n",
       "      <td>136</td>\n",
       "      <td>173.3</td>\n",
       "      <td>2018</td>\n",
       "      <td>8</td>\n",
       "      <td>35</td>\n",
       "      <td>4</td>\n",
       "      <td>31</td>\n",
       "      <td>19</td>\n",
       "      <td>207.0</td>\n",
       "      <td>217.0</td>\n",
       "      <td>197.0</td>\n",
       "      <td>116.0</td>\n",
       "      <td>133.0</td>\n",
       "      <td>173.3</td>\n",
       "    </tr>\n",
       "    <tr>\n",
       "      <th>2018-08-31 20:00:00</th>\n",
       "      <td>154</td>\n",
       "      <td>166.6</td>\n",
       "      <td>2018</td>\n",
       "      <td>8</td>\n",
       "      <td>35</td>\n",
       "      <td>4</td>\n",
       "      <td>31</td>\n",
       "      <td>20</td>\n",
       "      <td>136.0</td>\n",
       "      <td>207.0</td>\n",
       "      <td>217.0</td>\n",
       "      <td>197.0</td>\n",
       "      <td>116.0</td>\n",
       "      <td>166.6</td>\n",
       "    </tr>\n",
       "    <tr>\n",
       "      <th>2018-08-31 21:00:00</th>\n",
       "      <td>159</td>\n",
       "      <td>162.9</td>\n",
       "      <td>2018</td>\n",
       "      <td>8</td>\n",
       "      <td>35</td>\n",
       "      <td>4</td>\n",
       "      <td>31</td>\n",
       "      <td>21</td>\n",
       "      <td>154.0</td>\n",
       "      <td>136.0</td>\n",
       "      <td>207.0</td>\n",
       "      <td>217.0</td>\n",
       "      <td>197.0</td>\n",
       "      <td>162.9</td>\n",
       "    </tr>\n",
       "    <tr>\n",
       "      <th>2018-08-31 22:00:00</th>\n",
       "      <td>223</td>\n",
       "      <td>162.1</td>\n",
       "      <td>2018</td>\n",
       "      <td>8</td>\n",
       "      <td>35</td>\n",
       "      <td>4</td>\n",
       "      <td>31</td>\n",
       "      <td>22</td>\n",
       "      <td>159.0</td>\n",
       "      <td>154.0</td>\n",
       "      <td>136.0</td>\n",
       "      <td>207.0</td>\n",
       "      <td>217.0</td>\n",
       "      <td>162.1</td>\n",
       "    </tr>\n",
       "    <tr>\n",
       "      <th>2018-08-31 23:00:00</th>\n",
       "      <td>205</td>\n",
       "      <td>170.8</td>\n",
       "      <td>2018</td>\n",
       "      <td>8</td>\n",
       "      <td>35</td>\n",
       "      <td>4</td>\n",
       "      <td>31</td>\n",
       "      <td>23</td>\n",
       "      <td>223.0</td>\n",
       "      <td>159.0</td>\n",
       "      <td>154.0</td>\n",
       "      <td>136.0</td>\n",
       "      <td>207.0</td>\n",
       "      <td>170.8</td>\n",
       "    </tr>\n",
       "  </tbody>\n",
       "</table>\n",
       "<p>4383 rows × 14 columns</p>\n",
       "</div>"
      ],
      "text/plain": [
       "                     num_orders  rolling_mean  year  month  week  dayofweek  \\\n",
       "datetime                                                                      \n",
       "2018-03-02 09:00:00          45          50.2  2018      3     9          4   \n",
       "2018-03-02 10:00:00          54          48.9  2018      3     9          4   \n",
       "2018-03-02 11:00:00          91          45.3  2018      3     9          4   \n",
       "2018-03-02 12:00:00          36          42.4  2018      3     9          4   \n",
       "2018-03-02 13:00:00          45          38.5  2018      3     9          4   \n",
       "...                         ...           ...   ...    ...   ...        ...   \n",
       "2018-08-31 19:00:00         136         173.3  2018      8    35          4   \n",
       "2018-08-31 20:00:00         154         166.6  2018      8    35          4   \n",
       "2018-08-31 21:00:00         159         162.9  2018      8    35          4   \n",
       "2018-08-31 22:00:00         223         162.1  2018      8    35          4   \n",
       "2018-08-31 23:00:00         205         170.8  2018      8    35          4   \n",
       "\n",
       "                     day  hour  lag_1  lag_2  lag_3  lag_4  lag_5    std  \n",
       "datetime                                                                  \n",
       "2018-03-02 09:00:00    2     9   46.0    7.0   11.0   11.0   20.0   50.2  \n",
       "2018-03-02 10:00:00    2    10   45.0   46.0    7.0   11.0   11.0   48.9  \n",
       "2018-03-02 11:00:00    2    11   54.0   45.0   46.0    7.0   11.0   45.3  \n",
       "2018-03-02 12:00:00    2    12   91.0   54.0   45.0   46.0    7.0   42.4  \n",
       "2018-03-02 13:00:00    2    13   36.0   91.0   54.0   45.0   46.0   38.5  \n",
       "...                  ...   ...    ...    ...    ...    ...    ...    ...  \n",
       "2018-08-31 19:00:00   31    19  207.0  217.0  197.0  116.0  133.0  173.3  \n",
       "2018-08-31 20:00:00   31    20  136.0  207.0  217.0  197.0  116.0  166.6  \n",
       "2018-08-31 21:00:00   31    21  154.0  136.0  207.0  217.0  197.0  162.9  \n",
       "2018-08-31 22:00:00   31    22  159.0  154.0  136.0  207.0  217.0  162.1  \n",
       "2018-08-31 23:00:00   31    23  223.0  159.0  154.0  136.0  207.0  170.8  \n",
       "\n",
       "[4383 rows x 14 columns]"
      ]
     },
     "execution_count": 22,
     "metadata": {},
     "output_type": "execute_result"
    }
   ],
   "source": [
    "#Creating features\n",
    "def make_features(data, max_lag, rolling_mean_size, std_mean_size):\n",
    "    taxi_data['year'] = taxi_data.index.year\n",
    "    taxi_data['month'] = taxi_data.index.month\n",
    "    taxi_data['week'] = taxi_data.index.week\n",
    "    taxi_data['dayofweek'] = taxi_data.index.dayofweek\n",
    "    taxi_data['day'] = taxi_data.index.day\n",
    "    taxi_data['hour'] = taxi_data.index.hour\n",
    "    \n",
    "    for lag in range(1, max_lag + 1):\n",
    "        taxi_data['lag_{}'.format(lag)] = taxi_data['num_orders'].shift(lag)\n",
    "    \n",
    "    taxi_data['rolling_mean'] = taxi_data['num_orders'].shift().rolling(rolling_mean_size).mean()\n",
    "    taxi_data['std'] = taxi_data['num_orders'].shift().rolling(std_mean_size).mean()\n",
    "    \n",
    "make_features(taxi_data, 5, 10,10)\n",
    "taxi_data.dropna(inplace=True)\n",
    "taxi_data"
   ]
  },
  {
   "cell_type": "code",
   "execution_count": 23,
   "metadata": {},
   "outputs": [],
   "source": [
    "train, test = train_test_split(taxi_data, shuffle=False, test_size=0.1)\n",
    "features_train = train.drop('num_orders', axis=1)\n",
    "target_train = train['num_orders']\n",
    "features_test = test.drop('num_orders', axis=1)\n",
    "target_test = test['num_orders']"
   ]
  },
  {
   "cell_type": "code",
   "execution_count": 24,
   "metadata": {},
   "outputs": [
    {
     "data": {
      "text/html": [
       "<div>\n",
       "<style scoped>\n",
       "    .dataframe tbody tr th:only-of-type {\n",
       "        vertical-align: middle;\n",
       "    }\n",
       "\n",
       "    .dataframe tbody tr th {\n",
       "        vertical-align: top;\n",
       "    }\n",
       "\n",
       "    .dataframe thead th {\n",
       "        text-align: right;\n",
       "    }\n",
       "</style>\n",
       "<table border=\"1\" class=\"dataframe\">\n",
       "  <thead>\n",
       "    <tr style=\"text-align: right;\">\n",
       "      <th></th>\n",
       "      <th>num_orders</th>\n",
       "      <th>rolling_mean</th>\n",
       "      <th>year</th>\n",
       "      <th>month</th>\n",
       "      <th>week</th>\n",
       "      <th>dayofweek</th>\n",
       "      <th>day</th>\n",
       "      <th>hour</th>\n",
       "      <th>lag_1</th>\n",
       "      <th>lag_2</th>\n",
       "      <th>lag_3</th>\n",
       "      <th>lag_4</th>\n",
       "      <th>lag_5</th>\n",
       "      <th>std</th>\n",
       "    </tr>\n",
       "    <tr>\n",
       "      <th>datetime</th>\n",
       "      <th></th>\n",
       "      <th></th>\n",
       "      <th></th>\n",
       "      <th></th>\n",
       "      <th></th>\n",
       "      <th></th>\n",
       "      <th></th>\n",
       "      <th></th>\n",
       "      <th></th>\n",
       "      <th></th>\n",
       "      <th></th>\n",
       "      <th></th>\n",
       "      <th></th>\n",
       "      <th></th>\n",
       "    </tr>\n",
       "  </thead>\n",
       "  <tbody>\n",
       "    <tr>\n",
       "      <th>2018-03-02 09:00:00</th>\n",
       "      <td>45</td>\n",
       "      <td>50.2</td>\n",
       "      <td>2018</td>\n",
       "      <td>3</td>\n",
       "      <td>9</td>\n",
       "      <td>4</td>\n",
       "      <td>2</td>\n",
       "      <td>9</td>\n",
       "      <td>46.0</td>\n",
       "      <td>7.0</td>\n",
       "      <td>11.0</td>\n",
       "      <td>11.0</td>\n",
       "      <td>20.0</td>\n",
       "      <td>50.2</td>\n",
       "    </tr>\n",
       "    <tr>\n",
       "      <th>2018-03-02 10:00:00</th>\n",
       "      <td>54</td>\n",
       "      <td>48.9</td>\n",
       "      <td>2018</td>\n",
       "      <td>3</td>\n",
       "      <td>9</td>\n",
       "      <td>4</td>\n",
       "      <td>2</td>\n",
       "      <td>10</td>\n",
       "      <td>45.0</td>\n",
       "      <td>46.0</td>\n",
       "      <td>7.0</td>\n",
       "      <td>11.0</td>\n",
       "      <td>11.0</td>\n",
       "      <td>48.9</td>\n",
       "    </tr>\n",
       "    <tr>\n",
       "      <th>2018-03-02 11:00:00</th>\n",
       "      <td>91</td>\n",
       "      <td>45.3</td>\n",
       "      <td>2018</td>\n",
       "      <td>3</td>\n",
       "      <td>9</td>\n",
       "      <td>4</td>\n",
       "      <td>2</td>\n",
       "      <td>11</td>\n",
       "      <td>54.0</td>\n",
       "      <td>45.0</td>\n",
       "      <td>46.0</td>\n",
       "      <td>7.0</td>\n",
       "      <td>11.0</td>\n",
       "      <td>45.3</td>\n",
       "    </tr>\n",
       "    <tr>\n",
       "      <th>2018-03-02 12:00:00</th>\n",
       "      <td>36</td>\n",
       "      <td>42.4</td>\n",
       "      <td>2018</td>\n",
       "      <td>3</td>\n",
       "      <td>9</td>\n",
       "      <td>4</td>\n",
       "      <td>2</td>\n",
       "      <td>12</td>\n",
       "      <td>91.0</td>\n",
       "      <td>54.0</td>\n",
       "      <td>45.0</td>\n",
       "      <td>46.0</td>\n",
       "      <td>7.0</td>\n",
       "      <td>42.4</td>\n",
       "    </tr>\n",
       "    <tr>\n",
       "      <th>2018-03-02 13:00:00</th>\n",
       "      <td>45</td>\n",
       "      <td>38.5</td>\n",
       "      <td>2018</td>\n",
       "      <td>3</td>\n",
       "      <td>9</td>\n",
       "      <td>4</td>\n",
       "      <td>2</td>\n",
       "      <td>13</td>\n",
       "      <td>36.0</td>\n",
       "      <td>91.0</td>\n",
       "      <td>54.0</td>\n",
       "      <td>45.0</td>\n",
       "      <td>46.0</td>\n",
       "      <td>38.5</td>\n",
       "    </tr>\n",
       "    <tr>\n",
       "      <th>...</th>\n",
       "      <td>...</td>\n",
       "      <td>...</td>\n",
       "      <td>...</td>\n",
       "      <td>...</td>\n",
       "      <td>...</td>\n",
       "      <td>...</td>\n",
       "      <td>...</td>\n",
       "      <td>...</td>\n",
       "      <td>...</td>\n",
       "      <td>...</td>\n",
       "      <td>...</td>\n",
       "      <td>...</td>\n",
       "      <td>...</td>\n",
       "      <td>...</td>\n",
       "    </tr>\n",
       "    <tr>\n",
       "      <th>2018-08-13 12:00:00</th>\n",
       "      <td>92</td>\n",
       "      <td>146.4</td>\n",
       "      <td>2018</td>\n",
       "      <td>8</td>\n",
       "      <td>33</td>\n",
       "      <td>0</td>\n",
       "      <td>13</td>\n",
       "      <td>12</td>\n",
       "      <td>144.0</td>\n",
       "      <td>156.0</td>\n",
       "      <td>137.0</td>\n",
       "      <td>91.0</td>\n",
       "      <td>39.0</td>\n",
       "      <td>146.4</td>\n",
       "    </tr>\n",
       "    <tr>\n",
       "      <th>2018-08-13 13:00:00</th>\n",
       "      <td>119</td>\n",
       "      <td>111.9</td>\n",
       "      <td>2018</td>\n",
       "      <td>8</td>\n",
       "      <td>33</td>\n",
       "      <td>0</td>\n",
       "      <td>13</td>\n",
       "      <td>13</td>\n",
       "      <td>92.0</td>\n",
       "      <td>144.0</td>\n",
       "      <td>156.0</td>\n",
       "      <td>137.0</td>\n",
       "      <td>91.0</td>\n",
       "      <td>111.9</td>\n",
       "    </tr>\n",
       "    <tr>\n",
       "      <th>2018-08-13 14:00:00</th>\n",
       "      <td>102</td>\n",
       "      <td>107.0</td>\n",
       "      <td>2018</td>\n",
       "      <td>8</td>\n",
       "      <td>33</td>\n",
       "      <td>0</td>\n",
       "      <td>13</td>\n",
       "      <td>14</td>\n",
       "      <td>119.0</td>\n",
       "      <td>92.0</td>\n",
       "      <td>144.0</td>\n",
       "      <td>156.0</td>\n",
       "      <td>137.0</td>\n",
       "      <td>107.0</td>\n",
       "    </tr>\n",
       "    <tr>\n",
       "      <th>2018-08-13 15:00:00</th>\n",
       "      <td>175</td>\n",
       "      <td>102.9</td>\n",
       "      <td>2018</td>\n",
       "      <td>8</td>\n",
       "      <td>33</td>\n",
       "      <td>0</td>\n",
       "      <td>13</td>\n",
       "      <td>15</td>\n",
       "      <td>102.0</td>\n",
       "      <td>119.0</td>\n",
       "      <td>92.0</td>\n",
       "      <td>144.0</td>\n",
       "      <td>156.0</td>\n",
       "      <td>102.9</td>\n",
       "    </tr>\n",
       "    <tr>\n",
       "      <th>2018-08-13 16:00:00</th>\n",
       "      <td>144</td>\n",
       "      <td>112.1</td>\n",
       "      <td>2018</td>\n",
       "      <td>8</td>\n",
       "      <td>33</td>\n",
       "      <td>0</td>\n",
       "      <td>13</td>\n",
       "      <td>16</td>\n",
       "      <td>175.0</td>\n",
       "      <td>102.0</td>\n",
       "      <td>119.0</td>\n",
       "      <td>92.0</td>\n",
       "      <td>144.0</td>\n",
       "      <td>112.1</td>\n",
       "    </tr>\n",
       "  </tbody>\n",
       "</table>\n",
       "<p>3944 rows × 14 columns</p>\n",
       "</div>"
      ],
      "text/plain": [
       "                     num_orders  rolling_mean  year  month  week  dayofweek  \\\n",
       "datetime                                                                      \n",
       "2018-03-02 09:00:00          45          50.2  2018      3     9          4   \n",
       "2018-03-02 10:00:00          54          48.9  2018      3     9          4   \n",
       "2018-03-02 11:00:00          91          45.3  2018      3     9          4   \n",
       "2018-03-02 12:00:00          36          42.4  2018      3     9          4   \n",
       "2018-03-02 13:00:00          45          38.5  2018      3     9          4   \n",
       "...                         ...           ...   ...    ...   ...        ...   \n",
       "2018-08-13 12:00:00          92         146.4  2018      8    33          0   \n",
       "2018-08-13 13:00:00         119         111.9  2018      8    33          0   \n",
       "2018-08-13 14:00:00         102         107.0  2018      8    33          0   \n",
       "2018-08-13 15:00:00         175         102.9  2018      8    33          0   \n",
       "2018-08-13 16:00:00         144         112.1  2018      8    33          0   \n",
       "\n",
       "                     day  hour  lag_1  lag_2  lag_3  lag_4  lag_5    std  \n",
       "datetime                                                                  \n",
       "2018-03-02 09:00:00    2     9   46.0    7.0   11.0   11.0   20.0   50.2  \n",
       "2018-03-02 10:00:00    2    10   45.0   46.0    7.0   11.0   11.0   48.9  \n",
       "2018-03-02 11:00:00    2    11   54.0   45.0   46.0    7.0   11.0   45.3  \n",
       "2018-03-02 12:00:00    2    12   91.0   54.0   45.0   46.0    7.0   42.4  \n",
       "2018-03-02 13:00:00    2    13   36.0   91.0   54.0   45.0   46.0   38.5  \n",
       "...                  ...   ...    ...    ...    ...    ...    ...    ...  \n",
       "2018-08-13 12:00:00   13    12  144.0  156.0  137.0   91.0   39.0  146.4  \n",
       "2018-08-13 13:00:00   13    13   92.0  144.0  156.0  137.0   91.0  111.9  \n",
       "2018-08-13 14:00:00   13    14  119.0   92.0  144.0  156.0  137.0  107.0  \n",
       "2018-08-13 15:00:00   13    15  102.0  119.0   92.0  144.0  156.0  102.9  \n",
       "2018-08-13 16:00:00   13    16  175.0  102.0  119.0   92.0  144.0  112.1  \n",
       "\n",
       "[3944 rows x 14 columns]"
      ]
     },
     "execution_count": 24,
     "metadata": {},
     "output_type": "execute_result"
    }
   ],
   "source": [
    "train"
   ]
  },
  {
   "cell_type": "code",
   "execution_count": 25,
   "metadata": {},
   "outputs": [
    {
     "data": {
      "text/html": [
       "<div>\n",
       "<style scoped>\n",
       "    .dataframe tbody tr th:only-of-type {\n",
       "        vertical-align: middle;\n",
       "    }\n",
       "\n",
       "    .dataframe tbody tr th {\n",
       "        vertical-align: top;\n",
       "    }\n",
       "\n",
       "    .dataframe thead th {\n",
       "        text-align: right;\n",
       "    }\n",
       "</style>\n",
       "<table border=\"1\" class=\"dataframe\">\n",
       "  <thead>\n",
       "    <tr style=\"text-align: right;\">\n",
       "      <th></th>\n",
       "      <th>num_orders</th>\n",
       "      <th>rolling_mean</th>\n",
       "      <th>year</th>\n",
       "      <th>month</th>\n",
       "      <th>week</th>\n",
       "      <th>dayofweek</th>\n",
       "      <th>day</th>\n",
       "      <th>hour</th>\n",
       "      <th>lag_1</th>\n",
       "      <th>lag_2</th>\n",
       "      <th>lag_3</th>\n",
       "      <th>lag_4</th>\n",
       "      <th>lag_5</th>\n",
       "      <th>std</th>\n",
       "    </tr>\n",
       "    <tr>\n",
       "      <th>datetime</th>\n",
       "      <th></th>\n",
       "      <th></th>\n",
       "      <th></th>\n",
       "      <th></th>\n",
       "      <th></th>\n",
       "      <th></th>\n",
       "      <th></th>\n",
       "      <th></th>\n",
       "      <th></th>\n",
       "      <th></th>\n",
       "      <th></th>\n",
       "      <th></th>\n",
       "      <th></th>\n",
       "      <th></th>\n",
       "    </tr>\n",
       "  </thead>\n",
       "  <tbody>\n",
       "    <tr>\n",
       "      <th>2018-08-13 17:00:00</th>\n",
       "      <td>152</td>\n",
       "      <td>119.9</td>\n",
       "      <td>2018</td>\n",
       "      <td>8</td>\n",
       "      <td>33</td>\n",
       "      <td>0</td>\n",
       "      <td>13</td>\n",
       "      <td>17</td>\n",
       "      <td>144.0</td>\n",
       "      <td>175.0</td>\n",
       "      <td>102.0</td>\n",
       "      <td>119.0</td>\n",
       "      <td>92.0</td>\n",
       "      <td>119.9</td>\n",
       "    </tr>\n",
       "    <tr>\n",
       "      <th>2018-08-13 18:00:00</th>\n",
       "      <td>104</td>\n",
       "      <td>131.2</td>\n",
       "      <td>2018</td>\n",
       "      <td>8</td>\n",
       "      <td>33</td>\n",
       "      <td>0</td>\n",
       "      <td>13</td>\n",
       "      <td>18</td>\n",
       "      <td>152.0</td>\n",
       "      <td>144.0</td>\n",
       "      <td>175.0</td>\n",
       "      <td>102.0</td>\n",
       "      <td>119.0</td>\n",
       "      <td>131.2</td>\n",
       "    </tr>\n",
       "    <tr>\n",
       "      <th>2018-08-13 19:00:00</th>\n",
       "      <td>91</td>\n",
       "      <td>132.5</td>\n",
       "      <td>2018</td>\n",
       "      <td>8</td>\n",
       "      <td>33</td>\n",
       "      <td>0</td>\n",
       "      <td>13</td>\n",
       "      <td>19</td>\n",
       "      <td>104.0</td>\n",
       "      <td>152.0</td>\n",
       "      <td>144.0</td>\n",
       "      <td>175.0</td>\n",
       "      <td>102.0</td>\n",
       "      <td>132.5</td>\n",
       "    </tr>\n",
       "    <tr>\n",
       "      <th>2018-08-13 20:00:00</th>\n",
       "      <td>82</td>\n",
       "      <td>127.9</td>\n",
       "      <td>2018</td>\n",
       "      <td>8</td>\n",
       "      <td>33</td>\n",
       "      <td>0</td>\n",
       "      <td>13</td>\n",
       "      <td>20</td>\n",
       "      <td>91.0</td>\n",
       "      <td>104.0</td>\n",
       "      <td>152.0</td>\n",
       "      <td>144.0</td>\n",
       "      <td>175.0</td>\n",
       "      <td>127.9</td>\n",
       "    </tr>\n",
       "    <tr>\n",
       "      <th>2018-08-13 21:00:00</th>\n",
       "      <td>160</td>\n",
       "      <td>120.5</td>\n",
       "      <td>2018</td>\n",
       "      <td>8</td>\n",
       "      <td>33</td>\n",
       "      <td>0</td>\n",
       "      <td>13</td>\n",
       "      <td>21</td>\n",
       "      <td>82.0</td>\n",
       "      <td>91.0</td>\n",
       "      <td>104.0</td>\n",
       "      <td>152.0</td>\n",
       "      <td>144.0</td>\n",
       "      <td>120.5</td>\n",
       "    </tr>\n",
       "    <tr>\n",
       "      <th>...</th>\n",
       "      <td>...</td>\n",
       "      <td>...</td>\n",
       "      <td>...</td>\n",
       "      <td>...</td>\n",
       "      <td>...</td>\n",
       "      <td>...</td>\n",
       "      <td>...</td>\n",
       "      <td>...</td>\n",
       "      <td>...</td>\n",
       "      <td>...</td>\n",
       "      <td>...</td>\n",
       "      <td>...</td>\n",
       "      <td>...</td>\n",
       "      <td>...</td>\n",
       "    </tr>\n",
       "    <tr>\n",
       "      <th>2018-08-31 19:00:00</th>\n",
       "      <td>136</td>\n",
       "      <td>173.3</td>\n",
       "      <td>2018</td>\n",
       "      <td>8</td>\n",
       "      <td>35</td>\n",
       "      <td>4</td>\n",
       "      <td>31</td>\n",
       "      <td>19</td>\n",
       "      <td>207.0</td>\n",
       "      <td>217.0</td>\n",
       "      <td>197.0</td>\n",
       "      <td>116.0</td>\n",
       "      <td>133.0</td>\n",
       "      <td>173.3</td>\n",
       "    </tr>\n",
       "    <tr>\n",
       "      <th>2018-08-31 20:00:00</th>\n",
       "      <td>154</td>\n",
       "      <td>166.6</td>\n",
       "      <td>2018</td>\n",
       "      <td>8</td>\n",
       "      <td>35</td>\n",
       "      <td>4</td>\n",
       "      <td>31</td>\n",
       "      <td>20</td>\n",
       "      <td>136.0</td>\n",
       "      <td>207.0</td>\n",
       "      <td>217.0</td>\n",
       "      <td>197.0</td>\n",
       "      <td>116.0</td>\n",
       "      <td>166.6</td>\n",
       "    </tr>\n",
       "    <tr>\n",
       "      <th>2018-08-31 21:00:00</th>\n",
       "      <td>159</td>\n",
       "      <td>162.9</td>\n",
       "      <td>2018</td>\n",
       "      <td>8</td>\n",
       "      <td>35</td>\n",
       "      <td>4</td>\n",
       "      <td>31</td>\n",
       "      <td>21</td>\n",
       "      <td>154.0</td>\n",
       "      <td>136.0</td>\n",
       "      <td>207.0</td>\n",
       "      <td>217.0</td>\n",
       "      <td>197.0</td>\n",
       "      <td>162.9</td>\n",
       "    </tr>\n",
       "    <tr>\n",
       "      <th>2018-08-31 22:00:00</th>\n",
       "      <td>223</td>\n",
       "      <td>162.1</td>\n",
       "      <td>2018</td>\n",
       "      <td>8</td>\n",
       "      <td>35</td>\n",
       "      <td>4</td>\n",
       "      <td>31</td>\n",
       "      <td>22</td>\n",
       "      <td>159.0</td>\n",
       "      <td>154.0</td>\n",
       "      <td>136.0</td>\n",
       "      <td>207.0</td>\n",
       "      <td>217.0</td>\n",
       "      <td>162.1</td>\n",
       "    </tr>\n",
       "    <tr>\n",
       "      <th>2018-08-31 23:00:00</th>\n",
       "      <td>205</td>\n",
       "      <td>170.8</td>\n",
       "      <td>2018</td>\n",
       "      <td>8</td>\n",
       "      <td>35</td>\n",
       "      <td>4</td>\n",
       "      <td>31</td>\n",
       "      <td>23</td>\n",
       "      <td>223.0</td>\n",
       "      <td>159.0</td>\n",
       "      <td>154.0</td>\n",
       "      <td>136.0</td>\n",
       "      <td>207.0</td>\n",
       "      <td>170.8</td>\n",
       "    </tr>\n",
       "  </tbody>\n",
       "</table>\n",
       "<p>439 rows × 14 columns</p>\n",
       "</div>"
      ],
      "text/plain": [
       "                     num_orders  rolling_mean  year  month  week  dayofweek  \\\n",
       "datetime                                                                      \n",
       "2018-08-13 17:00:00         152         119.9  2018      8    33          0   \n",
       "2018-08-13 18:00:00         104         131.2  2018      8    33          0   \n",
       "2018-08-13 19:00:00          91         132.5  2018      8    33          0   \n",
       "2018-08-13 20:00:00          82         127.9  2018      8    33          0   \n",
       "2018-08-13 21:00:00         160         120.5  2018      8    33          0   \n",
       "...                         ...           ...   ...    ...   ...        ...   \n",
       "2018-08-31 19:00:00         136         173.3  2018      8    35          4   \n",
       "2018-08-31 20:00:00         154         166.6  2018      8    35          4   \n",
       "2018-08-31 21:00:00         159         162.9  2018      8    35          4   \n",
       "2018-08-31 22:00:00         223         162.1  2018      8    35          4   \n",
       "2018-08-31 23:00:00         205         170.8  2018      8    35          4   \n",
       "\n",
       "                     day  hour  lag_1  lag_2  lag_3  lag_4  lag_5    std  \n",
       "datetime                                                                  \n",
       "2018-08-13 17:00:00   13    17  144.0  175.0  102.0  119.0   92.0  119.9  \n",
       "2018-08-13 18:00:00   13    18  152.0  144.0  175.0  102.0  119.0  131.2  \n",
       "2018-08-13 19:00:00   13    19  104.0  152.0  144.0  175.0  102.0  132.5  \n",
       "2018-08-13 20:00:00   13    20   91.0  104.0  152.0  144.0  175.0  127.9  \n",
       "2018-08-13 21:00:00   13    21   82.0   91.0  104.0  152.0  144.0  120.5  \n",
       "...                  ...   ...    ...    ...    ...    ...    ...    ...  \n",
       "2018-08-31 19:00:00   31    19  207.0  217.0  197.0  116.0  133.0  173.3  \n",
       "2018-08-31 20:00:00   31    20  136.0  207.0  217.0  197.0  116.0  166.6  \n",
       "2018-08-31 21:00:00   31    21  154.0  136.0  207.0  217.0  197.0  162.9  \n",
       "2018-08-31 22:00:00   31    22  159.0  154.0  136.0  207.0  217.0  162.1  \n",
       "2018-08-31 23:00:00   31    23  223.0  159.0  154.0  136.0  207.0  170.8  \n",
       "\n",
       "[439 rows x 14 columns]"
      ]
     },
     "execution_count": 25,
     "metadata": {},
     "output_type": "execute_result"
    }
   ],
   "source": [
    "test"
   ]
  },
  {
   "cell_type": "code",
   "execution_count": 26,
   "metadata": {},
   "outputs": [
    {
     "name": "stdout",
     "output_type": "stream",
     "text": [
      "MAE for the train set: 23.42908741774291\n"
     ]
    }
   ],
   "source": [
    "#Creating a dummy model with LinearRegression\n",
    "model = LinearRegression()\n",
    "model.fit(features_train, target_train)\n",
    "predictions_test = model.predict(features_test)\n",
    "predictions_train = model.predict(features_train)\n",
    "print(\"MAE for the train set:\", mean_absolute_error(predictions_train, target_train))"
   ]
  },
  {
   "cell_type": "code",
   "execution_count": 27,
   "metadata": {},
   "outputs": [],
   "source": [
    "### Creating pipelines\n",
    "pipe_dtr = Pipeline([('scaler0', StandardScaler()), ('DecisionTreeRegressor', DecisionTreeRegressor())])\n",
    "\n",
    "pipe_rfr = Pipeline([('scaler1', StandardScaler()), ('RandomForestRegressor', RandomForestRegressor(n_estimators=100))])\n",
    "\n",
    "pipe_linear = Pipeline([('scaler2', StandardScaler()), ('LinearRegression(Dummy)', LinearRegression())])\n",
    "\n",
    "pipe_cat_boost_r = Pipeline([('scaler3', StandardScaler()), ('CatBoostRegressor', CatBoostRegressor(verbose=500))])\n",
    "\n",
    "pipe_lgbm_r =  Pipeline([('scaler4', StandardScaler()), ('LGBMRegressor', LGBMRegressor())])\n",
    "\n",
    "pipe_xgb_r = Pipeline([('scaler5', StandardScaler()), ('XGBRegressor', XGBRegressor())])"
   ]
  },
  {
   "cell_type": "code",
   "execution_count": 28,
   "metadata": {},
   "outputs": [],
   "source": [
    "#Creating list of pipelines\n",
    "pipelines = [pipe_dtr, pipe_rfr, pipe_linear, pipe_cat_boost_r, pipe_lgbm_r, pipe_xgb_r]\n",
    "\n",
    "#Creating a dict of pipelines\n",
    "pipe_dict = {pipe_dtr: 'DecisionTreeRegressor', pipe_rfr:'RandomForestRegressor', pipe_linear:'LinearRegression',\\\n",
    "             pipe_cat_boost_r: 'CatBoostRegressor', pipe_lgbm_r: 'LGBMRegressor', pipe_xgb_r:'XGBRegressor'}"
   ]
  },
  {
   "cell_type": "code",
   "execution_count": 29,
   "metadata": {},
   "outputs": [],
   "source": [
    "#Defining a fn to calc RMSE\n",
    "def rmse(target,predictions): \n",
    "    score = mean_squared_error(target, predictions)\n",
    "    score = score **0.5\n",
    "    return score"
   ]
  },
  {
   "cell_type": "code",
   "execution_count": 30,
   "metadata": {},
   "outputs": [
    {
     "name": "stdout",
     "output_type": "stream",
     "text": [
      "DecisionTreeRegressor\n",
      "[-29.94373211 -30.42104335 -33.57077532 -36.31544111 -39.07998277]\n",
      "RandomForestRegressor\n",
      "[-23.50423164 -22.20179724 -23.93459324 -24.30460369 -30.7866844 ]\n",
      "LinearRegression\n",
      "[-27.16995685 -28.79829867 -30.28601204 -32.07088589 -39.53796341]\n",
      "CatBoostRegressor\n",
      "Learning rate set to 0.038332\n",
      "0:\tlearn: 28.9415685\ttotal: 142ms\tremaining: 2m 22s\n",
      "500:\tlearn: 8.9943617\ttotal: 1.19s\tremaining: 1.18s\n",
      "999:\tlearn: 4.8034668\ttotal: 2.32s\tremaining: 0us\n",
      "Learning rate set to 0.042758\n",
      "0:\tlearn: 29.9442115\ttotal: 4.73ms\tremaining: 4.73s\n",
      "500:\tlearn: 11.0749096\ttotal: 1.15s\tremaining: 1.15s\n",
      "999:\tlearn: 7.2831317\ttotal: 2.39s\tremaining: 0us\n",
      "Learning rate set to 0.045584\n",
      "0:\tlearn: 31.3658970\ttotal: 3.16ms\tremaining: 3.16s\n",
      "500:\tlearn: 12.5534797\ttotal: 1.35s\tremaining: 1.34s\n",
      "999:\tlearn: 8.8710081\ttotal: 2.78s\tremaining: 0us\n",
      "Learning rate set to 0.047702\n",
      "0:\tlearn: 32.6616819\ttotal: 3.64ms\tremaining: 3.63s\n",
      "500:\tlearn: 13.8681475\ttotal: 1.49s\tremaining: 1.48s\n",
      "999:\tlearn: 10.3349714\ttotal: 3.07s\tremaining: 0us\n",
      "Learning rate set to 0.049412\n",
      "0:\tlearn: 34.0398663\ttotal: 3.35ms\tremaining: 3.34s\n",
      "500:\tlearn: 14.7176334\ttotal: 1.56s\tremaining: 1.55s\n",
      "999:\tlearn: 11.3546773\ttotal: 3.04s\tremaining: 0us\n",
      "[-22.85640654 -22.99737599 -23.15989765 -23.90888438 -30.79139407]\n",
      "LGBMRegressor\n",
      "[-24.29811064 -22.62465403 -23.24919552 -24.6736808  -30.28577295]\n",
      "XGBRegressor\n",
      "[-25.43729403 -23.98090809 -25.20231701 -26.10046783 -31.85922627]\n"
     ]
    }
   ],
   "source": [
    "#obtain Time Series Split\n",
    "tscv = TimeSeriesSplit()\n",
    "\n",
    "#Looping trough pipelines to obtain cross validation scores\n",
    "rmse = make_scorer(rmse, greater_is_better=False)\n",
    "for pipe in pipelines:\n",
    "    print(pipe_dict[pipe])\n",
    "    print(cross_val_score(pipe, features_train, target_train, scoring = rmse, cv = tscv))"
   ]
  },
  {
   "cell_type": "code",
   "execution_count": 31,
   "metadata": {},
   "outputs": [
    {
     "name": "stdout",
     "output_type": "stream",
     "text": [
      "RandomForestRegressor(criterion='mse', max_depth=19, n_estimators=110,\n",
      "                      random_state=0)\n",
      "-24.77028810486548\n"
     ]
    }
   ],
   "source": [
    "#Creating a tree based model with best hyperparameters\n",
    "parameters = {'n_estimators': (110,150,200,230,250,80,300),'max_depth': (7,8,10,12,16,19,25)} \n",
    "\n",
    "#Creating a grid model\n",
    "RF_grid=GridSearchCV(RandomForestRegressor(random_state=0,criterion='mse'),param_grid=parameters, cv=tscv, scoring=rmse,\n",
    "                     n_jobs=-1)\n",
    "RF_grid_model = RF_grid.fit(features_train, target_train)\n",
    "print(RF_grid_model.best_estimator_)\n",
    "print(RF_grid_model.best_score_)"
   ]
  },
  {
   "cell_type": "code",
   "execution_count": 32,
   "metadata": {},
   "outputs": [
    {
     "name": "stdout",
     "output_type": "stream",
     "text": [
      "XGBRegressor(base_score=0.5, booster='gbtree', callbacks=None,\n",
      "             colsample_bylevel=1, colsample_bynode=1, colsample_bytree=1,\n",
      "             early_stopping_rounds=None, enable_categorical=False,\n",
      "             eval_metric=None, gamma=0, gpu_id=-1, grow_policy='depthwise',\n",
      "             importance_type=None, interaction_constraints='',\n",
      "             learning_rate=0.1, max_bin=256, max_cat_to_onehot=4,\n",
      "             max_delta_step=0, max_depth=6, max_leaves=0, min_child_weight=1,\n",
      "             missing=nan, monotone_constraints='()', n_estimators=120, n_jobs=0,\n",
      "             num_parallel_tree=1, predictor='auto', random_state=0, reg_alpha=0,\n",
      "             reg_lambda=1, ...)\n",
      "-25.825373809418988\n"
     ]
    }
   ],
   "source": [
    "#Creating a gradient boosting descent model with best hyperparameters\n",
    "parameters = {'learning_rate': (0.15,0.1,0.2,0.3,0.25,0.05),'n_estimators': (200,350,450,150,100,120),\n",
    "              'base_score': (0.25, 0.5, 0.75)} \n",
    "\n",
    "#Creating a grid model\n",
    "XGB_grid = GridSearchCV(XGBRegressor(), param_grid=parameters, cv=tscv, scoring=rmse, n_jobs=-1) \n",
    "XGB_grid_model = XGB_grid.fit(features_train, target_train)\n",
    "print(XGB_grid_model.best_estimator_)\n",
    "print(XGB_grid_model.best_score_)"
   ]
  },
  {
   "cell_type": "code",
   "execution_count": 33,
   "metadata": {},
   "outputs": [
    {
     "name": "stdout",
     "output_type": "stream",
     "text": [
      "LGBMRegressor(learning_rate=0.03, n_estimators=200)\n",
      "-24.870804049862738\n"
     ]
    }
   ],
   "source": [
    "#Creating a gradient boosting descent model tuning best hyperparameters\n",
    "parameters = {'learning_rate': (0.05,0.04,0.03,0.02,0.06,0.07,0.08),'n_estimators': (200,350,450,150,100,120)} \n",
    "\n",
    "#Creating a grid model\n",
    "LGBM_grid = GridSearchCV(LGBMRegressor(), param_grid=parameters, cv=tscv, scoring=rmse, n_jobs=1) \n",
    "LGBM_grid_model = LGBM_grid.fit(features_train, target_train)\n",
    "print(LGBM_grid_model.best_estimator_)\n",
    "print(LGBM_grid_model.best_score_)"
   ]
  },
  {
   "cell_type": "markdown",
   "metadata": {},
   "source": [
    "<hr><h2>Short brief of what we did part IV:</h2>\n",
    "\n",
    "Divided train and test assign test size = 0.1, shuffle = False\n",
    "\n",
    "<b>Train index:</b> \\\n",
    "2018-03-01 23:00:00 2018-08-13 15:00:00\n",
    "\n",
    "<b>Test index:</b> \\\n",
    "2018-08-13 16:00:00 2018-08-31 23:00:00\n",
    "\n",
    "<hr>\n",
    "We calculating MAE using median and previous prediction method obtained:\n",
    "\n",
    "<b>Median method returned RMSE:</b> \\\n",
    "77.23639233074204\n",
    "\n",
    "<b>Previous value method returned RMSE:</b> \\\n",
    "58.881776776551476\n",
    "\n",
    "<hr>\n",
    "We create features of the data extract: day , month and year from the index , assign five level of lags. 10 of them was the chosen value to calc again rolling_mean and standard deviation from the final shift values. Recreate train and test set with the same parameters after adding the new features column.\n",
    "\n",
    "<hr>\n",
    "With a base of 'Linear Regression(Dummy model)' calc the 'MAE':\n",
    "\n",
    "<b>MAE for the training set :</b> \\\n",
    "23.429087417742917\n",
    "\n",
    "<hr>\n",
    "Create a Pipelines for the CV on the main models, After CV on training set we got the follow results:\n",
    "\n",
    "<b>DecisionTreeRegressor :</b> \\\n",
    "[-33.32161895 -40.36237115]\n",
    "\n",
    "<b>RandomForestRegressor :</b> \\\n",
    "[-24.80131275 -30.95330194]\n",
    "\n",
    "<b>LinearRegression :</b> \\\n",
    "[-29.79124355 -36.31491973]\n",
    "\n",
    "<b>CatBoostRegressor :</b> \\\n",
    "[-25.53956266 -30.42970528]\n",
    "\n",
    "<b>LGBMRegressor :</b> \\\n",
    "[-25.17324933 -30.72094304]\n",
    "\n",
    "<b>XGBRegressor :</b> \\\n",
    "[-26.85527657 -33.15660012]\n",
    "\n",
    "<hr>\n",
    "We decided to tune with <b>'hyperparameters'</b> the <b>RandomForestRegressor</b> & <b>XGBRegressor</b> (gradient descent algorithim) \n",
    "<hr>"
   ]
  },
  {
   "cell_type": "markdown",
   "metadata": {},
   "source": [
    "<hr>"
   ]
  },
  {
   "cell_type": "markdown",
   "metadata": {},
   "source": [
    "## Final Choice Testing model"
   ]
  },
  {
   "cell_type": "code",
   "execution_count": 35,
   "metadata": {},
   "outputs": [
    {
     "name": "stdout",
     "output_type": "stream",
     "text": [
      "Model RMSE for the test set: 43.03925572796831\n"
     ]
    }
   ],
   "source": [
    "model = Pipeline([('scaler2', StandardScaler()),\n",
    "        ('XGBRegressor', XGBRegressor(base_score=0.5, booster='gbtree', colsample_bylevel=1,\n",
    "             colsample_bynode=1, colsample_bytree=1, gamma=0,\n",
    "             importance_type='gain', learning_rate=0.15, max_delta_step=0,\n",
    "             max_depth=3, min_child_weight=1, missing=1, n_estimators=200,\n",
    "             n_jobs=1, nthread=None, objective='reg:squarederror', random_state=0,\n",
    "             reg_alpha=0, reg_lambda=1, scale_pos_weight=1, seed=None,\n",
    "             silent=None, subsample=1, verbosity=1))])\n",
    "model.fit(features_train, target_train)\n",
    "predictions_test = model.predict(features_test)\n",
    "print('Model RMSE for the test set:', mean_squared_error(predictions_test, target_test)**0.5)"
   ]
  },
  {
   "cell_type": "markdown",
   "metadata": {},
   "source": [
    "<hr><h2>Short brief of what we did part V:</h2>\n",
    "\n",
    "Our final model in test set is our best one in the train set 'XGBRegressor' with RMSE 25.82 , as we can see that our model bring combo of great values and didn't pass the max value goal project 48.\n",
    "\n",
    "<b>XGBRegressor :</b> \\\n",
    "43.03925572796831"
   ]
  },
  {
   "cell_type": "markdown",
   "metadata": {},
   "source": [
    "<hr><h2>Overall Conclusion</h2>\n",
    "\n",
    "In this project we been ask to build a model to predict the amount of orders for the next hour for <b>Sweet Lift Taxi company</b> the requirement was that the model 'RMSE' metric on the test set will not pass the value of 48. After preparing and analyzing the data we start to train and test phase. We tried couple of different models and preformed the task pretty similar ways. Obtain better result then the stated one. Our best result in both testing was 'XGBRegressor ' with 25.82 in RMSE (train set) and 43.03 in RMSE (test set)."
   ]
  },
  {
   "cell_type": "markdown",
   "metadata": {},
   "source": [
    "# Review checklist"
   ]
  },
  {
   "cell_type": "markdown",
   "metadata": {},
   "source": [
    "- [x]  Jupyter Notebook is open\n",
    "- [x]  The code is error-free\n",
    "- [x]  The cells with the code have been arranged in order of execution\n",
    "- [x]  The data has been downloaded and prepared\n",
    "- [x]  The data has been analyzed\n",
    "- [x]  The model has been trained and hyperparameters have been selected\n",
    "- [x]  The models have been evaluated. Conclusion has been provided\n",
    "- [x] *RMSE* for the test set is not more than 48"
   ]
  }
 ],
 "metadata": {
  "ExecuteTimeLog": [
   {
    "duration": 1716,
    "start_time": "2022-08-01T16:59:35.776Z"
   },
   {
    "duration": 116,
    "start_time": "2022-08-01T16:59:37.494Z"
   },
   {
    "duration": 13,
    "start_time": "2022-08-01T16:59:37.612Z"
   },
   {
    "duration": 114,
    "start_time": "2022-08-01T16:59:37.627Z"
   },
   {
    "duration": 20,
    "start_time": "2022-08-01T16:59:37.742Z"
   },
   {
    "duration": 19,
    "start_time": "2022-08-01T16:59:37.764Z"
   },
   {
    "duration": 51,
    "start_time": "2022-08-01T16:59:37.785Z"
   },
   {
    "duration": 363,
    "start_time": "2022-08-01T16:59:37.838Z"
   },
   {
    "duration": 551,
    "start_time": "2022-08-01T16:59:38.203Z"
   },
   {
    "duration": 377,
    "start_time": "2022-08-01T16:59:38.757Z"
   },
   {
    "duration": 825,
    "start_time": "2022-08-01T16:59:39.135Z"
   },
   {
    "duration": 6,
    "start_time": "2022-08-01T16:59:39.962Z"
   },
   {
    "duration": 319,
    "start_time": "2022-08-01T16:59:39.969Z"
   },
   {
    "duration": 14,
    "start_time": "2022-08-01T16:59:40.290Z"
   },
   {
    "duration": 30,
    "start_time": "2022-08-01T16:59:40.306Z"
   },
   {
    "duration": 10,
    "start_time": "2022-08-01T16:59:40.337Z"
   },
   {
    "duration": 447,
    "start_time": "2022-08-01T16:59:40.349Z"
   },
   {
    "duration": 14,
    "start_time": "2022-08-01T16:59:40.798Z"
   },
   {
    "duration": 49,
    "start_time": "2022-08-01T16:59:40.814Z"
   },
   {
    "duration": 6,
    "start_time": "2022-08-01T16:59:40.864Z"
   },
   {
    "duration": 24,
    "start_time": "2022-08-01T16:59:40.872Z"
   },
   {
    "duration": 43,
    "start_time": "2022-08-01T16:59:40.898Z"
   },
   {
    "duration": 97,
    "start_time": "2022-08-01T16:59:40.942Z"
   },
   {
    "duration": 98,
    "start_time": "2022-08-01T16:59:41.041Z"
   },
   {
    "duration": 9,
    "start_time": "2022-08-01T16:59:41.141Z"
   },
   {
    "duration": 8,
    "start_time": "2022-08-01T16:59:41.151Z"
   },
   {
    "duration": 65874,
    "start_time": "2022-08-01T16:59:41.160Z"
   },
   {
    "duration": 13967,
    "start_time": "2022-08-01T17:00:47.038Z"
   },
   {
    "duration": 0,
    "start_time": "2022-08-01T17:01:01.006Z"
   },
   {
    "duration": 0,
    "start_time": "2022-08-01T17:01:01.007Z"
   },
   {
    "duration": 0,
    "start_time": "2022-08-01T17:01:01.009Z"
   },
   {
    "duration": 0,
    "start_time": "2022-08-01T17:01:01.009Z"
   },
   {
    "duration": 0,
    "start_time": "2022-08-01T17:01:01.010Z"
   },
   {
    "duration": 0,
    "start_time": "2022-08-01T17:01:01.011Z"
   },
   {
    "duration": 1482,
    "start_time": "2022-08-01T17:11:46.677Z"
   },
   {
    "duration": 49,
    "start_time": "2022-08-01T17:11:48.162Z"
   },
   {
    "duration": 9,
    "start_time": "2022-08-01T17:11:48.213Z"
   },
   {
    "duration": 67,
    "start_time": "2022-08-01T17:11:48.225Z"
   },
   {
    "duration": 53,
    "start_time": "2022-08-01T17:11:48.293Z"
   },
   {
    "duration": 15,
    "start_time": "2022-08-01T17:11:48.347Z"
   },
   {
    "duration": 8,
    "start_time": "2022-08-01T17:11:48.363Z"
   },
   {
    "duration": 377,
    "start_time": "2022-08-01T17:11:48.373Z"
   },
   {
    "duration": 485,
    "start_time": "2022-08-01T17:11:48.751Z"
   },
   {
    "duration": 324,
    "start_time": "2022-08-01T17:11:49.239Z"
   },
   {
    "duration": 797,
    "start_time": "2022-08-01T17:11:49.565Z"
   },
   {
    "duration": 6,
    "start_time": "2022-08-01T17:11:50.364Z"
   },
   {
    "duration": 331,
    "start_time": "2022-08-01T17:11:50.372Z"
   },
   {
    "duration": 11,
    "start_time": "2022-08-01T17:11:50.705Z"
   },
   {
    "duration": 27,
    "start_time": "2022-08-01T17:11:50.717Z"
   },
   {
    "duration": 6,
    "start_time": "2022-08-01T17:11:50.746Z"
   },
   {
    "duration": 463,
    "start_time": "2022-08-01T17:11:50.754Z"
   },
   {
    "duration": 24,
    "start_time": "2022-08-01T17:11:51.219Z"
   },
   {
    "duration": 34,
    "start_time": "2022-08-01T17:11:51.245Z"
   },
   {
    "duration": 9,
    "start_time": "2022-08-01T17:11:51.281Z"
   },
   {
    "duration": 62,
    "start_time": "2022-08-01T17:11:51.292Z"
   },
   {
    "duration": 29,
    "start_time": "2022-08-01T17:11:51.356Z"
   },
   {
    "duration": 147,
    "start_time": "2022-08-01T17:11:51.387Z"
   },
   {
    "duration": 7,
    "start_time": "2022-08-01T17:11:51.535Z"
   },
   {
    "duration": 98,
    "start_time": "2022-08-01T17:11:51.543Z"
   },
   {
    "duration": 11,
    "start_time": "2022-08-01T17:11:51.642Z"
   },
   {
    "duration": 159827,
    "start_time": "2022-08-01T17:11:51.654Z"
   },
   {
    "duration": 613908,
    "start_time": "2022-08-01T17:14:31.533Z"
   },
   {
    "duration": 1594,
    "start_time": "2022-08-01T18:02:56.606Z"
   },
   {
    "duration": 52,
    "start_time": "2022-08-01T18:02:58.202Z"
   },
   {
    "duration": 14,
    "start_time": "2022-08-01T18:02:58.257Z"
   },
   {
    "duration": 109,
    "start_time": "2022-08-01T18:02:58.274Z"
   },
   {
    "duration": 56,
    "start_time": "2022-08-01T18:02:58.385Z"
   },
   {
    "duration": 14,
    "start_time": "2022-08-01T18:02:58.443Z"
   },
   {
    "duration": 7,
    "start_time": "2022-08-01T18:02:58.459Z"
   },
   {
    "duration": 374,
    "start_time": "2022-08-01T18:02:58.468Z"
   },
   {
    "duration": 494,
    "start_time": "2022-08-01T18:02:58.844Z"
   },
   {
    "duration": 321,
    "start_time": "2022-08-01T18:02:59.342Z"
   },
   {
    "duration": 808,
    "start_time": "2022-08-01T18:02:59.665Z"
   },
   {
    "duration": 7,
    "start_time": "2022-08-01T18:03:00.475Z"
   },
   {
    "duration": 332,
    "start_time": "2022-08-01T18:03:00.483Z"
   },
   {
    "duration": 17,
    "start_time": "2022-08-01T18:03:00.818Z"
   },
   {
    "duration": 16,
    "start_time": "2022-08-01T18:03:00.836Z"
   },
   {
    "duration": 9,
    "start_time": "2022-08-01T18:03:00.853Z"
   },
   {
    "duration": 499,
    "start_time": "2022-08-01T18:03:00.864Z"
   },
   {
    "duration": 14,
    "start_time": "2022-08-01T18:03:01.365Z"
   },
   {
    "duration": 58,
    "start_time": "2022-08-01T18:03:01.380Z"
   },
   {
    "duration": 6,
    "start_time": "2022-08-01T18:03:01.440Z"
   },
   {
    "duration": 24,
    "start_time": "2022-08-01T18:03:01.447Z"
   },
   {
    "duration": 46,
    "start_time": "2022-08-01T18:03:01.472Z"
   },
   {
    "duration": 217,
    "start_time": "2022-08-01T18:03:01.519Z"
   },
   {
    "duration": 6,
    "start_time": "2022-08-01T18:03:01.738Z"
   },
   {
    "duration": 18,
    "start_time": "2022-08-01T18:03:01.745Z"
   },
   {
    "duration": 20,
    "start_time": "2022-08-01T18:03:01.765Z"
   },
   {
    "duration": 44869,
    "start_time": "2022-08-01T18:03:01.786Z"
   },
   {
    "duration": 582094,
    "start_time": "2022-08-01T18:03:46.659Z"
   },
   {
    "duration": 4096422,
    "start_time": "2022-08-01T18:13:28.755Z"
   },
   {
    "duration": 337455,
    "start_time": "2022-08-01T19:21:45.179Z"
   },
   {
    "duration": 16,
    "start_time": "2022-08-01T19:27:22.636Z"
   },
   {
    "duration": 4749,
    "start_time": "2022-08-01T19:27:22.654Z"
   },
   {
    "duration": 639,
    "start_time": "2022-08-01T19:27:27.405Z"
   },
   {
    "duration": 794,
    "start_time": "2022-08-01T19:27:28.046Z"
   },
   {
    "duration": 1410,
    "start_time": "2022-08-01T19:30:30.892Z"
   },
   {
    "duration": 47,
    "start_time": "2022-08-01T19:30:32.304Z"
   },
   {
    "duration": 9,
    "start_time": "2022-08-01T19:30:32.353Z"
   },
   {
    "duration": 88,
    "start_time": "2022-08-01T19:30:32.365Z"
   },
   {
    "duration": 13,
    "start_time": "2022-08-01T19:30:32.454Z"
   },
   {
    "duration": 14,
    "start_time": "2022-08-01T19:30:32.468Z"
   },
   {
    "duration": 52,
    "start_time": "2022-08-01T19:30:32.483Z"
   },
   {
    "duration": 366,
    "start_time": "2022-08-01T19:30:32.537Z"
   },
   {
    "duration": 444,
    "start_time": "2022-08-01T19:30:32.905Z"
   },
   {
    "duration": 302,
    "start_time": "2022-08-01T19:30:33.352Z"
   },
   {
    "duration": 777,
    "start_time": "2022-08-01T19:30:33.655Z"
   },
   {
    "duration": 7,
    "start_time": "2022-08-01T19:30:34.434Z"
   },
   {
    "duration": 300,
    "start_time": "2022-08-01T19:30:34.443Z"
   },
   {
    "duration": 10,
    "start_time": "2022-08-01T19:30:34.744Z"
   },
   {
    "duration": 12,
    "start_time": "2022-08-01T19:30:34.756Z"
   },
   {
    "duration": 4,
    "start_time": "2022-08-01T19:30:34.770Z"
   },
   {
    "duration": 446,
    "start_time": "2022-08-01T19:30:34.776Z"
   },
   {
    "duration": 17,
    "start_time": "2022-08-01T19:30:35.224Z"
   },
   {
    "duration": 33,
    "start_time": "2022-08-01T19:30:35.243Z"
   },
   {
    "duration": 6,
    "start_time": "2022-08-01T19:30:35.277Z"
   },
   {
    "duration": 50,
    "start_time": "2022-08-01T19:30:35.284Z"
   },
   {
    "duration": 18,
    "start_time": "2022-08-01T19:30:35.336Z"
   },
   {
    "duration": 82,
    "start_time": "2022-08-01T19:30:35.356Z"
   },
   {
    "duration": 96,
    "start_time": "2022-08-01T19:30:35.439Z"
   },
   {
    "duration": 6,
    "start_time": "2022-08-01T19:30:35.536Z"
   },
   {
    "duration": 4,
    "start_time": "2022-08-01T19:30:35.543Z"
   },
   {
    "duration": 41485,
    "start_time": "2022-08-01T19:30:35.549Z"
   },
   {
    "duration": 587389,
    "start_time": "2022-08-01T19:31:17.039Z"
   },
   {
    "duration": 3267538,
    "start_time": "2022-08-01T19:41:04.444Z"
   },
   {
    "duration": 319851,
    "start_time": "2022-08-01T20:35:31.984Z"
   },
   {
    "duration": 11,
    "start_time": "2022-08-01T20:40:51.837Z"
   },
   {
    "duration": 4696,
    "start_time": "2022-08-01T20:40:51.850Z"
   },
   {
    "duration": 606,
    "start_time": "2022-08-01T20:40:56.547Z"
   },
   {
    "duration": 784,
    "start_time": "2022-08-01T20:40:57.154Z"
   },
   {
    "duration": 1776,
    "start_time": "2022-08-07T12:52:01.328Z"
   },
   {
    "duration": 145,
    "start_time": "2022-08-07T12:52:03.106Z"
   },
   {
    "duration": 8,
    "start_time": "2022-08-07T12:52:03.253Z"
   },
   {
    "duration": 63,
    "start_time": "2022-08-07T12:52:03.262Z"
   },
   {
    "duration": 41,
    "start_time": "2022-08-07T12:52:03.326Z"
   },
   {
    "duration": 14,
    "start_time": "2022-08-07T12:52:03.369Z"
   },
   {
    "duration": 7,
    "start_time": "2022-08-07T12:52:03.385Z"
   },
   {
    "duration": 326,
    "start_time": "2022-08-07T12:52:03.394Z"
   },
   {
    "duration": 468,
    "start_time": "2022-08-07T12:52:03.721Z"
   },
   {
    "duration": 275,
    "start_time": "2022-08-07T12:52:04.191Z"
   },
   {
    "duration": 733,
    "start_time": "2022-08-07T12:52:04.467Z"
   },
   {
    "duration": 7,
    "start_time": "2022-08-07T12:52:05.202Z"
   },
   {
    "duration": 307,
    "start_time": "2022-08-07T12:52:05.211Z"
   },
   {
    "duration": 9,
    "start_time": "2022-08-07T12:52:05.520Z"
   },
   {
    "duration": 16,
    "start_time": "2022-08-07T12:52:05.530Z"
   },
   {
    "duration": 5,
    "start_time": "2022-08-07T12:52:05.554Z"
   },
   {
    "duration": 427,
    "start_time": "2022-08-07T12:52:05.560Z"
   },
   {
    "duration": 15,
    "start_time": "2022-08-07T12:52:05.988Z"
   },
   {
    "duration": 46,
    "start_time": "2022-08-07T12:52:06.004Z"
   },
   {
    "duration": 7,
    "start_time": "2022-08-07T12:52:06.051Z"
   },
   {
    "duration": 36,
    "start_time": "2022-08-07T12:52:06.059Z"
   },
   {
    "duration": 22,
    "start_time": "2022-08-07T12:52:06.097Z"
   },
   {
    "duration": 136,
    "start_time": "2022-08-07T12:52:06.120Z"
   },
   {
    "duration": 97,
    "start_time": "2022-08-07T12:52:06.258Z"
   },
   {
    "duration": 10,
    "start_time": "2022-08-07T12:52:06.357Z"
   },
   {
    "duration": 20,
    "start_time": "2022-08-07T12:52:06.369Z"
   },
   {
    "duration": 13066,
    "start_time": "2022-08-07T12:52:06.390Z"
   },
   {
    "duration": 1457,
    "start_time": "2022-08-07T12:53:37.688Z"
   },
   {
    "duration": 47,
    "start_time": "2022-08-07T12:53:39.146Z"
   },
   {
    "duration": 8,
    "start_time": "2022-08-07T12:53:39.194Z"
   },
   {
    "duration": 64,
    "start_time": "2022-08-07T12:53:39.204Z"
   },
   {
    "duration": 12,
    "start_time": "2022-08-07T12:53:39.269Z"
   },
   {
    "duration": 13,
    "start_time": "2022-08-07T12:53:39.282Z"
   },
   {
    "duration": 7,
    "start_time": "2022-08-07T12:53:39.297Z"
   },
   {
    "duration": 356,
    "start_time": "2022-08-07T12:53:39.306Z"
   },
   {
    "duration": 473,
    "start_time": "2022-08-07T12:53:39.664Z"
   },
   {
    "duration": 299,
    "start_time": "2022-08-07T12:53:40.140Z"
   },
   {
    "duration": 754,
    "start_time": "2022-08-07T12:53:40.440Z"
   },
   {
    "duration": 6,
    "start_time": "2022-08-07T12:53:41.195Z"
   },
   {
    "duration": 284,
    "start_time": "2022-08-07T12:53:41.202Z"
   },
   {
    "duration": 9,
    "start_time": "2022-08-07T12:53:41.488Z"
   },
   {
    "duration": 18,
    "start_time": "2022-08-07T12:53:41.499Z"
   },
   {
    "duration": 6,
    "start_time": "2022-08-07T12:53:41.518Z"
   },
   {
    "duration": 400,
    "start_time": "2022-08-07T12:53:41.525Z"
   },
   {
    "duration": 28,
    "start_time": "2022-08-07T12:53:41.927Z"
   },
   {
    "duration": 30,
    "start_time": "2022-08-07T12:53:41.957Z"
   },
   {
    "duration": 6,
    "start_time": "2022-08-07T12:53:41.989Z"
   },
   {
    "duration": 24,
    "start_time": "2022-08-07T12:53:41.997Z"
   },
   {
    "duration": 33,
    "start_time": "2022-08-07T12:53:42.022Z"
   },
   {
    "duration": 15,
    "start_time": "2022-08-07T12:53:42.057Z"
   },
   {
    "duration": 6,
    "start_time": "2022-08-07T12:53:42.155Z"
   },
   {
    "duration": 94,
    "start_time": "2022-08-07T12:53:42.162Z"
   },
   {
    "duration": 5,
    "start_time": "2022-08-07T12:53:42.258Z"
   },
   {
    "duration": 32128,
    "start_time": "2022-08-07T12:53:42.264Z"
   },
   {
    "duration": 1372,
    "start_time": "2022-08-07T12:55:13.114Z"
   },
   {
    "duration": 54,
    "start_time": "2022-08-07T12:55:14.488Z"
   },
   {
    "duration": 8,
    "start_time": "2022-08-07T12:55:14.543Z"
   },
   {
    "duration": 59,
    "start_time": "2022-08-07T12:55:14.552Z"
   },
   {
    "duration": 13,
    "start_time": "2022-08-07T12:55:14.612Z"
   },
   {
    "duration": 39,
    "start_time": "2022-08-07T12:55:14.627Z"
   },
   {
    "duration": 6,
    "start_time": "2022-08-07T12:55:14.668Z"
   },
   {
    "duration": 341,
    "start_time": "2022-08-07T12:55:14.676Z"
   },
   {
    "duration": 445,
    "start_time": "2022-08-07T12:55:15.020Z"
   },
   {
    "duration": 280,
    "start_time": "2022-08-07T12:55:15.467Z"
   },
   {
    "duration": 737,
    "start_time": "2022-08-07T12:55:15.749Z"
   },
   {
    "duration": 6,
    "start_time": "2022-08-07T12:55:16.487Z"
   },
   {
    "duration": 308,
    "start_time": "2022-08-07T12:55:16.495Z"
   },
   {
    "duration": 10,
    "start_time": "2022-08-07T12:55:16.806Z"
   },
   {
    "duration": 111,
    "start_time": "2022-08-07T12:55:16.818Z"
   },
   {
    "duration": 5,
    "start_time": "2022-08-07T12:55:16.931Z"
   },
   {
    "duration": 320,
    "start_time": "2022-08-07T12:55:16.938Z"
   },
   {
    "duration": 14,
    "start_time": "2022-08-07T12:55:17.260Z"
   },
   {
    "duration": 43,
    "start_time": "2022-08-07T12:55:17.275Z"
   },
   {
    "duration": 7,
    "start_time": "2022-08-07T12:55:17.320Z"
   },
   {
    "duration": 48,
    "start_time": "2022-08-07T12:55:17.328Z"
   },
   {
    "duration": 27,
    "start_time": "2022-08-07T12:55:17.378Z"
   },
   {
    "duration": 52,
    "start_time": "2022-08-07T12:55:17.407Z"
   },
   {
    "duration": 103,
    "start_time": "2022-08-07T12:55:17.460Z"
   },
   {
    "duration": 5,
    "start_time": "2022-08-07T12:55:17.565Z"
   },
   {
    "duration": 6,
    "start_time": "2022-08-07T12:55:17.572Z"
   },
   {
    "duration": 13219,
    "start_time": "2022-08-07T12:55:17.580Z"
   },
   {
    "duration": 1431,
    "start_time": "2022-08-07T12:55:56.822Z"
   },
   {
    "duration": 47,
    "start_time": "2022-08-07T12:55:58.255Z"
   },
   {
    "duration": 8,
    "start_time": "2022-08-07T12:55:58.304Z"
   },
   {
    "duration": 66,
    "start_time": "2022-08-07T12:55:58.314Z"
   },
   {
    "duration": 13,
    "start_time": "2022-08-07T12:55:58.382Z"
   },
   {
    "duration": 15,
    "start_time": "2022-08-07T12:55:58.397Z"
   },
   {
    "duration": 47,
    "start_time": "2022-08-07T12:55:58.414Z"
   },
   {
    "duration": 324,
    "start_time": "2022-08-07T12:55:58.463Z"
   },
   {
    "duration": 476,
    "start_time": "2022-08-07T12:55:58.789Z"
   },
   {
    "duration": 274,
    "start_time": "2022-08-07T12:55:59.267Z"
   },
   {
    "duration": 739,
    "start_time": "2022-08-07T12:55:59.542Z"
   },
   {
    "duration": 7,
    "start_time": "2022-08-07T12:56:00.283Z"
   },
   {
    "duration": 294,
    "start_time": "2022-08-07T12:56:00.292Z"
   },
   {
    "duration": 11,
    "start_time": "2022-08-07T12:56:00.588Z"
   },
   {
    "duration": 15,
    "start_time": "2022-08-07T12:56:00.601Z"
   },
   {
    "duration": 8,
    "start_time": "2022-08-07T12:56:00.617Z"
   },
   {
    "duration": 462,
    "start_time": "2022-08-07T12:56:00.627Z"
   },
   {
    "duration": 13,
    "start_time": "2022-08-07T12:56:01.090Z"
   },
   {
    "duration": 29,
    "start_time": "2022-08-07T12:56:01.104Z"
   },
   {
    "duration": 21,
    "start_time": "2022-08-07T12:56:01.134Z"
   },
   {
    "duration": 18,
    "start_time": "2022-08-07T12:56:01.156Z"
   },
   {
    "duration": 20,
    "start_time": "2022-08-07T12:56:01.175Z"
   },
   {
    "duration": 59,
    "start_time": "2022-08-07T12:56:01.197Z"
   },
   {
    "duration": 96,
    "start_time": "2022-08-07T12:56:01.258Z"
   },
   {
    "duration": 6,
    "start_time": "2022-08-07T12:56:01.356Z"
   },
   {
    "duration": 11,
    "start_time": "2022-08-07T12:56:01.363Z"
   },
   {
    "duration": 19925,
    "start_time": "2022-08-07T12:56:01.375Z"
   },
   {
    "duration": 1385,
    "start_time": "2022-08-07T12:59:11.296Z"
   },
   {
    "duration": 46,
    "start_time": "2022-08-07T12:59:12.682Z"
   },
   {
    "duration": 8,
    "start_time": "2022-08-07T12:59:12.729Z"
   },
   {
    "duration": 62,
    "start_time": "2022-08-07T12:59:12.739Z"
   },
   {
    "duration": 12,
    "start_time": "2022-08-07T12:59:12.803Z"
   },
   {
    "duration": 48,
    "start_time": "2022-08-07T12:59:12.816Z"
   },
   {
    "duration": 7,
    "start_time": "2022-08-07T12:59:12.866Z"
   },
   {
    "duration": 319,
    "start_time": "2022-08-07T12:59:12.874Z"
   },
   {
    "duration": 443,
    "start_time": "2022-08-07T12:59:13.194Z"
   },
   {
    "duration": 276,
    "start_time": "2022-08-07T12:59:13.639Z"
   },
   {
    "duration": 742,
    "start_time": "2022-08-07T12:59:13.916Z"
   },
   {
    "duration": 6,
    "start_time": "2022-08-07T12:59:14.660Z"
   },
   {
    "duration": 279,
    "start_time": "2022-08-07T12:59:14.667Z"
   },
   {
    "duration": 12,
    "start_time": "2022-08-07T12:59:14.948Z"
   },
   {
    "duration": 108,
    "start_time": "2022-08-07T12:59:14.961Z"
   },
   {
    "duration": 5,
    "start_time": "2022-08-07T12:59:15.071Z"
   },
   {
    "duration": 323,
    "start_time": "2022-08-07T12:59:15.077Z"
   },
   {
    "duration": 13,
    "start_time": "2022-08-07T12:59:15.402Z"
   },
   {
    "duration": 43,
    "start_time": "2022-08-07T12:59:15.417Z"
   },
   {
    "duration": 5,
    "start_time": "2022-08-07T12:59:15.461Z"
   },
   {
    "duration": 20,
    "start_time": "2022-08-07T12:59:15.468Z"
   },
   {
    "duration": 17,
    "start_time": "2022-08-07T12:59:15.490Z"
   },
   {
    "duration": 149,
    "start_time": "2022-08-07T12:59:15.509Z"
   },
   {
    "duration": 4,
    "start_time": "2022-08-07T12:59:15.659Z"
   },
   {
    "duration": 5,
    "start_time": "2022-08-07T12:59:15.665Z"
   },
   {
    "duration": 5,
    "start_time": "2022-08-07T12:59:15.671Z"
   },
   {
    "duration": 25689,
    "start_time": "2022-08-07T12:59:15.677Z"
   },
   {
    "duration": 1363,
    "start_time": "2022-08-07T13:00:10.908Z"
   },
   {
    "duration": 46,
    "start_time": "2022-08-07T13:00:12.273Z"
   },
   {
    "duration": 8,
    "start_time": "2022-08-07T13:00:12.320Z"
   },
   {
    "duration": 60,
    "start_time": "2022-08-07T13:00:12.329Z"
   },
   {
    "duration": 13,
    "start_time": "2022-08-07T13:00:12.391Z"
   },
   {
    "duration": 12,
    "start_time": "2022-08-07T13:00:12.405Z"
   },
   {
    "duration": 44,
    "start_time": "2022-08-07T13:00:12.418Z"
   },
   {
    "duration": 308,
    "start_time": "2022-08-07T13:00:12.463Z"
   },
   {
    "duration": 444,
    "start_time": "2022-08-07T13:00:12.773Z"
   },
   {
    "duration": 286,
    "start_time": "2022-08-07T13:00:13.219Z"
   },
   {
    "duration": 739,
    "start_time": "2022-08-07T13:00:13.506Z"
   },
   {
    "duration": 12,
    "start_time": "2022-08-07T13:00:14.246Z"
   },
   {
    "duration": 279,
    "start_time": "2022-08-07T13:00:14.259Z"
   },
   {
    "duration": 15,
    "start_time": "2022-08-07T13:00:14.541Z"
   },
   {
    "duration": 100,
    "start_time": "2022-08-07T13:00:14.557Z"
   },
   {
    "duration": 10,
    "start_time": "2022-08-07T13:00:14.658Z"
   },
   {
    "duration": 316,
    "start_time": "2022-08-07T13:00:14.669Z"
   },
   {
    "duration": 14,
    "start_time": "2022-08-07T13:00:14.987Z"
   },
   {
    "duration": 54,
    "start_time": "2022-08-07T13:00:15.002Z"
   },
   {
    "duration": 7,
    "start_time": "2022-08-07T13:00:15.057Z"
   },
   {
    "duration": 23,
    "start_time": "2022-08-07T13:00:15.065Z"
   },
   {
    "duration": 18,
    "start_time": "2022-08-07T13:00:15.089Z"
   },
   {
    "duration": 54,
    "start_time": "2022-08-07T13:00:15.109Z"
   },
   {
    "duration": 94,
    "start_time": "2022-08-07T13:00:15.164Z"
   },
   {
    "duration": 6,
    "start_time": "2022-08-07T13:00:15.260Z"
   },
   {
    "duration": 9,
    "start_time": "2022-08-07T13:00:15.267Z"
   },
   {
    "duration": 33819,
    "start_time": "2022-08-07T13:00:15.278Z"
   },
   {
    "duration": 1349,
    "start_time": "2022-08-07T13:00:54.510Z"
   },
   {
    "duration": 46,
    "start_time": "2022-08-07T13:00:55.861Z"
   },
   {
    "duration": 8,
    "start_time": "2022-08-07T13:00:55.909Z"
   },
   {
    "duration": 62,
    "start_time": "2022-08-07T13:00:55.919Z"
   },
   {
    "duration": 11,
    "start_time": "2022-08-07T13:00:55.983Z"
   },
   {
    "duration": 12,
    "start_time": "2022-08-07T13:00:55.996Z"
   },
   {
    "duration": 6,
    "start_time": "2022-08-07T13:00:56.010Z"
   },
   {
    "duration": 351,
    "start_time": "2022-08-07T13:00:56.018Z"
   },
   {
    "duration": 498,
    "start_time": "2022-08-07T13:00:56.371Z"
   },
   {
    "duration": 287,
    "start_time": "2022-08-07T13:00:56.871Z"
   },
   {
    "duration": 796,
    "start_time": "2022-08-07T13:00:57.159Z"
   },
   {
    "duration": 5,
    "start_time": "2022-08-07T13:00:57.956Z"
   },
   {
    "duration": 282,
    "start_time": "2022-08-07T13:00:57.963Z"
   },
   {
    "duration": 16,
    "start_time": "2022-08-07T13:00:58.248Z"
   },
   {
    "duration": 100,
    "start_time": "2022-08-07T13:00:58.266Z"
   },
   {
    "duration": 6,
    "start_time": "2022-08-07T13:00:58.368Z"
   },
   {
    "duration": 330,
    "start_time": "2022-08-07T13:00:58.376Z"
   },
   {
    "duration": 15,
    "start_time": "2022-08-07T13:00:58.707Z"
   },
   {
    "duration": 47,
    "start_time": "2022-08-07T13:00:58.723Z"
   },
   {
    "duration": 6,
    "start_time": "2022-08-07T13:00:58.772Z"
   },
   {
    "duration": 24,
    "start_time": "2022-08-07T13:00:58.779Z"
   },
   {
    "duration": 23,
    "start_time": "2022-08-07T13:00:58.805Z"
   },
   {
    "duration": 35,
    "start_time": "2022-08-07T13:00:58.830Z"
   },
   {
    "duration": 88,
    "start_time": "2022-08-07T13:00:58.868Z"
   },
   {
    "duration": 10,
    "start_time": "2022-08-07T13:00:58.958Z"
   },
   {
    "duration": 90,
    "start_time": "2022-08-07T13:00:58.969Z"
   },
   {
    "duration": 19640,
    "start_time": "2022-08-07T13:00:59.060Z"
   },
   {
    "duration": 185465,
    "start_time": "2022-08-07T13:01:18.702Z"
   },
   {
    "duration": 1395,
    "start_time": "2022-08-07T13:17:17.869Z"
   },
   {
    "duration": 47,
    "start_time": "2022-08-07T13:17:19.265Z"
   },
   {
    "duration": 8,
    "start_time": "2022-08-07T13:17:19.313Z"
   },
   {
    "duration": 58,
    "start_time": "2022-08-07T13:17:19.323Z"
   },
   {
    "duration": 11,
    "start_time": "2022-08-07T13:17:19.383Z"
   },
   {
    "duration": 13,
    "start_time": "2022-08-07T13:17:19.396Z"
   },
   {
    "duration": 8,
    "start_time": "2022-08-07T13:17:19.410Z"
   },
   {
    "duration": 344,
    "start_time": "2022-08-07T13:17:19.420Z"
   },
   {
    "duration": 467,
    "start_time": "2022-08-07T13:17:19.766Z"
   },
   {
    "duration": 286,
    "start_time": "2022-08-07T13:17:20.236Z"
   },
   {
    "duration": 755,
    "start_time": "2022-08-07T13:17:20.523Z"
   },
   {
    "duration": 6,
    "start_time": "2022-08-07T13:17:21.280Z"
   },
   {
    "duration": 292,
    "start_time": "2022-08-07T13:17:21.287Z"
   },
   {
    "duration": 2,
    "start_time": "2022-08-07T13:17:21.580Z"
   },
   {
    "duration": 5,
    "start_time": "2022-08-07T13:17:21.583Z"
   },
   {
    "duration": 8,
    "start_time": "2022-08-07T13:17:21.590Z"
   },
   {
    "duration": 7,
    "start_time": "2022-08-07T13:17:21.599Z"
   },
   {
    "duration": 100,
    "start_time": "2022-08-07T13:17:21.608Z"
   },
   {
    "duration": 32,
    "start_time": "2022-08-07T13:17:21.710Z"
   },
   {
    "duration": 6,
    "start_time": "2022-08-07T13:17:21.754Z"
   },
   {
    "duration": 25,
    "start_time": "2022-08-07T13:17:21.761Z"
   },
   {
    "duration": 18,
    "start_time": "2022-08-07T13:17:21.787Z"
   },
   {
    "duration": 53,
    "start_time": "2022-08-07T13:17:21.806Z"
   },
   {
    "duration": 93,
    "start_time": "2022-08-07T13:17:21.862Z"
   },
   {
    "duration": 4,
    "start_time": "2022-08-07T13:17:21.957Z"
   },
   {
    "duration": 4,
    "start_time": "2022-08-07T13:17:21.962Z"
   },
   {
    "duration": 20932,
    "start_time": "2022-08-07T13:17:21.968Z"
   },
   {
    "duration": 203823,
    "start_time": "2022-08-07T13:17:42.902Z"
   },
   {
    "duration": 1392,
    "start_time": "2022-08-07T13:23:45.705Z"
   },
   {
    "duration": 47,
    "start_time": "2022-08-07T13:23:47.099Z"
   },
   {
    "duration": 8,
    "start_time": "2022-08-07T13:23:47.147Z"
   },
   {
    "duration": 71,
    "start_time": "2022-08-07T13:23:47.157Z"
   },
   {
    "duration": 35,
    "start_time": "2022-08-07T13:23:47.230Z"
   },
   {
    "duration": 18,
    "start_time": "2022-08-07T13:23:47.267Z"
   },
   {
    "duration": 21,
    "start_time": "2022-08-07T13:23:47.287Z"
   },
   {
    "duration": 373,
    "start_time": "2022-08-07T13:23:47.310Z"
   },
   {
    "duration": 445,
    "start_time": "2022-08-07T13:23:47.684Z"
   },
   {
    "duration": 280,
    "start_time": "2022-08-07T13:23:48.131Z"
   },
   {
    "duration": 731,
    "start_time": "2022-08-07T13:23:48.412Z"
   },
   {
    "duration": 13,
    "start_time": "2022-08-07T13:23:49.145Z"
   },
   {
    "duration": 281,
    "start_time": "2022-08-07T13:23:49.160Z"
   },
   {
    "duration": 19,
    "start_time": "2022-08-07T13:23:49.443Z"
   },
   {
    "duration": 12,
    "start_time": "2022-08-07T13:23:49.464Z"
   },
   {
    "duration": 5,
    "start_time": "2022-08-07T13:23:49.477Z"
   },
   {
    "duration": 413,
    "start_time": "2022-08-07T13:23:49.483Z"
   },
   {
    "duration": 5,
    "start_time": "2022-08-07T13:23:49.897Z"
   },
   {
    "duration": 5,
    "start_time": "2022-08-07T13:23:49.904Z"
   },
   {
    "duration": 9,
    "start_time": "2022-08-07T13:23:49.910Z"
   },
   {
    "duration": 7,
    "start_time": "2022-08-07T13:23:49.920Z"
   },
   {
    "duration": 84,
    "start_time": "2022-08-07T13:23:49.929Z"
   },
   {
    "duration": 0,
    "start_time": "2022-08-07T13:23:50.015Z"
   },
   {
    "duration": 0,
    "start_time": "2022-08-07T13:23:50.016Z"
   },
   {
    "duration": 0,
    "start_time": "2022-08-07T13:23:50.018Z"
   },
   {
    "duration": 0,
    "start_time": "2022-08-07T13:23:50.019Z"
   },
   {
    "duration": 0,
    "start_time": "2022-08-07T13:23:50.020Z"
   },
   {
    "duration": 0,
    "start_time": "2022-08-07T13:23:50.021Z"
   },
   {
    "duration": 0,
    "start_time": "2022-08-07T13:23:50.022Z"
   },
   {
    "duration": 0,
    "start_time": "2022-08-07T13:23:50.023Z"
   },
   {
    "duration": 0,
    "start_time": "2022-08-07T13:23:50.024Z"
   },
   {
    "duration": 0,
    "start_time": "2022-08-07T13:23:50.025Z"
   },
   {
    "duration": 0,
    "start_time": "2022-08-07T13:23:50.026Z"
   },
   {
    "duration": 0,
    "start_time": "2022-08-07T13:23:50.028Z"
   },
   {
    "duration": 0,
    "start_time": "2022-08-07T13:23:50.029Z"
   },
   {
    "duration": 0,
    "start_time": "2022-08-07T13:23:50.030Z"
   },
   {
    "duration": 0,
    "start_time": "2022-08-07T13:23:50.032Z"
   },
   {
    "duration": 0,
    "start_time": "2022-08-07T13:23:50.033Z"
   },
   {
    "duration": 1388,
    "start_time": "2022-08-07T13:25:35.194Z"
   },
   {
    "duration": 45,
    "start_time": "2022-08-07T13:25:36.584Z"
   },
   {
    "duration": 8,
    "start_time": "2022-08-07T13:25:36.631Z"
   },
   {
    "duration": 76,
    "start_time": "2022-08-07T13:25:36.641Z"
   },
   {
    "duration": 42,
    "start_time": "2022-08-07T13:25:36.718Z"
   },
   {
    "duration": 16,
    "start_time": "2022-08-07T13:25:36.762Z"
   },
   {
    "duration": 11,
    "start_time": "2022-08-07T13:25:36.780Z"
   },
   {
    "duration": 364,
    "start_time": "2022-08-07T13:25:36.792Z"
   },
   {
    "duration": 552,
    "start_time": "2022-08-07T13:25:37.157Z"
   },
   {
    "duration": 347,
    "start_time": "2022-08-07T13:25:37.712Z"
   },
   {
    "duration": 826,
    "start_time": "2022-08-07T13:25:38.061Z"
   },
   {
    "duration": 5,
    "start_time": "2022-08-07T13:25:38.889Z"
   },
   {
    "duration": 295,
    "start_time": "2022-08-07T13:25:38.896Z"
   },
   {
    "duration": 10,
    "start_time": "2022-08-07T13:25:39.193Z"
   },
   {
    "duration": 13,
    "start_time": "2022-08-07T13:25:39.204Z"
   },
   {
    "duration": 4,
    "start_time": "2022-08-07T13:25:39.219Z"
   },
   {
    "duration": 369,
    "start_time": "2022-08-07T13:25:39.224Z"
   },
   {
    "duration": 5,
    "start_time": "2022-08-07T13:25:39.594Z"
   },
   {
    "duration": 6,
    "start_time": "2022-08-07T13:25:39.601Z"
   },
   {
    "duration": 7,
    "start_time": "2022-08-07T13:25:39.609Z"
   },
   {
    "duration": 13,
    "start_time": "2022-08-07T13:25:39.618Z"
   },
   {
    "duration": 70,
    "start_time": "2022-08-07T13:25:39.633Z"
   },
   {
    "duration": 0,
    "start_time": "2022-08-07T13:25:39.704Z"
   },
   {
    "duration": 0,
    "start_time": "2022-08-07T13:25:39.705Z"
   },
   {
    "duration": 0,
    "start_time": "2022-08-07T13:25:39.706Z"
   },
   {
    "duration": 0,
    "start_time": "2022-08-07T13:25:39.708Z"
   },
   {
    "duration": 0,
    "start_time": "2022-08-07T13:25:39.709Z"
   },
   {
    "duration": 0,
    "start_time": "2022-08-07T13:25:39.710Z"
   },
   {
    "duration": 0,
    "start_time": "2022-08-07T13:25:39.711Z"
   },
   {
    "duration": 0,
    "start_time": "2022-08-07T13:25:39.712Z"
   },
   {
    "duration": 0,
    "start_time": "2022-08-07T13:25:39.713Z"
   },
   {
    "duration": 0,
    "start_time": "2022-08-07T13:25:39.713Z"
   },
   {
    "duration": 0,
    "start_time": "2022-08-07T13:25:39.714Z"
   },
   {
    "duration": 0,
    "start_time": "2022-08-07T13:25:39.715Z"
   },
   {
    "duration": 0,
    "start_time": "2022-08-07T13:25:39.716Z"
   },
   {
    "duration": 0,
    "start_time": "2022-08-07T13:25:39.717Z"
   },
   {
    "duration": 0,
    "start_time": "2022-08-07T13:25:39.718Z"
   },
   {
    "duration": 0,
    "start_time": "2022-08-07T13:25:39.719Z"
   },
   {
    "duration": 1356,
    "start_time": "2022-08-07T13:26:27.809Z"
   },
   {
    "duration": 47,
    "start_time": "2022-08-07T13:26:29.166Z"
   },
   {
    "duration": 8,
    "start_time": "2022-08-07T13:26:29.214Z"
   },
   {
    "duration": 92,
    "start_time": "2022-08-07T13:26:29.223Z"
   },
   {
    "duration": 11,
    "start_time": "2022-08-07T13:26:29.317Z"
   },
   {
    "duration": 35,
    "start_time": "2022-08-07T13:26:29.330Z"
   },
   {
    "duration": 7,
    "start_time": "2022-08-07T13:26:29.366Z"
   },
   {
    "duration": 320,
    "start_time": "2022-08-07T13:26:29.374Z"
   },
   {
    "duration": 445,
    "start_time": "2022-08-07T13:26:29.696Z"
   },
   {
    "duration": 274,
    "start_time": "2022-08-07T13:26:30.143Z"
   },
   {
    "duration": 737,
    "start_time": "2022-08-07T13:26:30.419Z"
   },
   {
    "duration": 7,
    "start_time": "2022-08-07T13:26:31.157Z"
   },
   {
    "duration": 282,
    "start_time": "2022-08-07T13:26:31.166Z"
   },
   {
    "duration": 12,
    "start_time": "2022-08-07T13:26:31.449Z"
   },
   {
    "duration": 12,
    "start_time": "2022-08-07T13:26:31.463Z"
   },
   {
    "duration": 6,
    "start_time": "2022-08-07T13:26:31.477Z"
   },
   {
    "duration": 377,
    "start_time": "2022-08-07T13:26:31.484Z"
   },
   {
    "duration": 6,
    "start_time": "2022-08-07T13:26:31.863Z"
   },
   {
    "duration": 6,
    "start_time": "2022-08-07T13:26:31.870Z"
   },
   {
    "duration": 10,
    "start_time": "2022-08-07T13:26:31.878Z"
   },
   {
    "duration": 8,
    "start_time": "2022-08-07T13:26:31.889Z"
   },
   {
    "duration": 5,
    "start_time": "2022-08-07T13:26:31.898Z"
   },
   {
    "duration": 61,
    "start_time": "2022-08-07T13:26:31.904Z"
   },
   {
    "duration": 6,
    "start_time": "2022-08-07T13:26:31.966Z"
   },
   {
    "duration": 21,
    "start_time": "2022-08-07T13:26:31.973Z"
   },
   {
    "duration": 19,
    "start_time": "2022-08-07T13:26:31.995Z"
   },
   {
    "duration": 43,
    "start_time": "2022-08-07T13:26:32.015Z"
   },
   {
    "duration": 98,
    "start_time": "2022-08-07T13:26:32.061Z"
   },
   {
    "duration": 5,
    "start_time": "2022-08-07T13:26:32.160Z"
   },
   {
    "duration": 4,
    "start_time": "2022-08-07T13:26:32.167Z"
   },
   {
    "duration": 20519,
    "start_time": "2022-08-07T13:26:32.173Z"
   },
   {
    "duration": 1348,
    "start_time": "2022-08-07T13:28:28.715Z"
   },
   {
    "duration": 46,
    "start_time": "2022-08-07T13:28:30.065Z"
   },
   {
    "duration": 9,
    "start_time": "2022-08-07T13:28:30.113Z"
   },
   {
    "duration": 73,
    "start_time": "2022-08-07T13:28:30.124Z"
   },
   {
    "duration": 13,
    "start_time": "2022-08-07T13:28:30.199Z"
   },
   {
    "duration": 54,
    "start_time": "2022-08-07T13:28:30.214Z"
   },
   {
    "duration": 6,
    "start_time": "2022-08-07T13:28:30.270Z"
   },
   {
    "duration": 334,
    "start_time": "2022-08-07T13:28:30.278Z"
   },
   {
    "duration": 451,
    "start_time": "2022-08-07T13:28:30.614Z"
   },
   {
    "duration": 281,
    "start_time": "2022-08-07T13:28:31.067Z"
   },
   {
    "duration": 724,
    "start_time": "2022-08-07T13:28:31.350Z"
   },
   {
    "duration": 4,
    "start_time": "2022-08-07T13:28:32.075Z"
   },
   {
    "duration": 291,
    "start_time": "2022-08-07T13:28:32.080Z"
   },
   {
    "duration": 11,
    "start_time": "2022-08-07T13:28:32.372Z"
   },
   {
    "duration": 8,
    "start_time": "2022-08-07T13:28:32.385Z"
   },
   {
    "duration": 4,
    "start_time": "2022-08-07T13:28:32.394Z"
   },
   {
    "duration": 361,
    "start_time": "2022-08-07T13:28:32.399Z"
   },
   {
    "duration": 5,
    "start_time": "2022-08-07T13:28:32.761Z"
   },
   {
    "duration": 15,
    "start_time": "2022-08-07T13:28:32.767Z"
   },
   {
    "duration": 25,
    "start_time": "2022-08-07T13:28:32.783Z"
   },
   {
    "duration": 27,
    "start_time": "2022-08-07T13:28:32.809Z"
   },
   {
    "duration": 3,
    "start_time": "2022-08-07T13:28:32.837Z"
   },
   {
    "duration": 59,
    "start_time": "2022-08-07T13:28:32.842Z"
   },
   {
    "duration": 6,
    "start_time": "2022-08-07T13:28:32.902Z"
   },
   {
    "duration": 43,
    "start_time": "2022-08-07T13:28:32.909Z"
   },
   {
    "duration": 43,
    "start_time": "2022-08-07T13:28:32.954Z"
   },
   {
    "duration": 56,
    "start_time": "2022-08-07T13:28:32.999Z"
   },
   {
    "duration": 97,
    "start_time": "2022-08-07T13:28:33.060Z"
   },
   {
    "duration": 28,
    "start_time": "2022-08-07T13:28:33.158Z"
   },
   {
    "duration": 28,
    "start_time": "2022-08-07T13:28:33.187Z"
   },
   {
    "duration": 21080,
    "start_time": "2022-08-07T13:28:33.216Z"
   },
   {
    "duration": 204137,
    "start_time": "2022-08-07T13:28:54.298Z"
   },
   {
    "duration": 1404,
    "start_time": "2022-08-07T13:32:51.366Z"
   },
   {
    "duration": 48,
    "start_time": "2022-08-07T13:32:52.772Z"
   },
   {
    "duration": 7,
    "start_time": "2022-08-07T13:32:52.822Z"
   },
   {
    "duration": 60,
    "start_time": "2022-08-07T13:32:52.830Z"
   },
   {
    "duration": 11,
    "start_time": "2022-08-07T13:32:52.893Z"
   },
   {
    "duration": 12,
    "start_time": "2022-08-07T13:32:52.906Z"
   },
   {
    "duration": 41,
    "start_time": "2022-08-07T13:32:52.919Z"
   },
   {
    "duration": 322,
    "start_time": "2022-08-07T13:32:52.961Z"
   },
   {
    "duration": 425,
    "start_time": "2022-08-07T13:32:53.284Z"
   },
   {
    "duration": 269,
    "start_time": "2022-08-07T13:32:53.711Z"
   },
   {
    "duration": 710,
    "start_time": "2022-08-07T13:32:53.981Z"
   },
   {
    "duration": 3,
    "start_time": "2022-08-07T13:32:54.693Z"
   },
   {
    "duration": 277,
    "start_time": "2022-08-07T13:32:54.698Z"
   },
   {
    "duration": 2,
    "start_time": "2022-08-07T13:32:54.977Z"
   },
   {
    "duration": 7,
    "start_time": "2022-08-07T13:32:54.981Z"
   },
   {
    "duration": 4,
    "start_time": "2022-08-07T13:32:54.989Z"
   },
   {
    "duration": 5,
    "start_time": "2022-08-07T13:32:54.995Z"
   },
   {
    "duration": 5,
    "start_time": "2022-08-07T13:32:55.002Z"
   },
   {
    "duration": 5,
    "start_time": "2022-08-07T13:32:55.009Z"
   },
   {
    "duration": 112,
    "start_time": "2022-08-07T13:32:55.015Z"
   },
   {
    "duration": 5,
    "start_time": "2022-08-07T13:32:55.129Z"
   },
   {
    "duration": 4,
    "start_time": "2022-08-07T13:32:55.136Z"
   },
   {
    "duration": 43,
    "start_time": "2022-08-07T13:32:55.141Z"
   },
   {
    "duration": 6,
    "start_time": "2022-08-07T13:32:55.185Z"
   },
   {
    "duration": 19,
    "start_time": "2022-08-07T13:32:55.192Z"
   },
   {
    "duration": 19,
    "start_time": "2022-08-07T13:32:55.212Z"
   },
   {
    "duration": 29,
    "start_time": "2022-08-07T13:32:55.232Z"
   },
   {
    "duration": 96,
    "start_time": "2022-08-07T13:32:55.263Z"
   },
   {
    "duration": 98,
    "start_time": "2022-08-07T13:32:55.360Z"
   },
   {
    "duration": 5,
    "start_time": "2022-08-07T13:32:55.460Z"
   },
   {
    "duration": 20431,
    "start_time": "2022-08-07T13:32:55.466Z"
   },
   {
    "duration": 203747,
    "start_time": "2022-08-07T13:33:15.899Z"
   },
   {
    "duration": 1389,
    "start_time": "2022-08-07T13:38:07.670Z"
   },
   {
    "duration": 46,
    "start_time": "2022-08-07T13:38:09.060Z"
   },
   {
    "duration": 8,
    "start_time": "2022-08-07T13:38:09.108Z"
   },
   {
    "duration": 87,
    "start_time": "2022-08-07T13:38:09.117Z"
   },
   {
    "duration": 11,
    "start_time": "2022-08-07T13:38:09.206Z"
   },
   {
    "duration": 45,
    "start_time": "2022-08-07T13:38:09.218Z"
   },
   {
    "duration": 7,
    "start_time": "2022-08-07T13:38:09.264Z"
   },
   {
    "duration": 311,
    "start_time": "2022-08-07T13:38:09.273Z"
   },
   {
    "duration": 424,
    "start_time": "2022-08-07T13:38:09.585Z"
   },
   {
    "duration": 282,
    "start_time": "2022-08-07T13:38:10.011Z"
   },
   {
    "duration": 725,
    "start_time": "2022-08-07T13:38:10.295Z"
   },
   {
    "duration": 5,
    "start_time": "2022-08-07T13:38:11.022Z"
   },
   {
    "duration": 285,
    "start_time": "2022-08-07T13:38:11.029Z"
   },
   {
    "duration": 2,
    "start_time": "2022-08-07T13:38:11.316Z"
   },
   {
    "duration": 28,
    "start_time": "2022-08-07T13:38:11.320Z"
   },
   {
    "duration": 15,
    "start_time": "2022-08-07T13:38:11.350Z"
   },
   {
    "duration": 27,
    "start_time": "2022-08-07T13:38:11.366Z"
   },
   {
    "duration": 19,
    "start_time": "2022-08-07T13:38:11.394Z"
   },
   {
    "duration": 8,
    "start_time": "2022-08-07T13:38:11.414Z"
   },
   {
    "duration": 15,
    "start_time": "2022-08-07T13:38:11.424Z"
   },
   {
    "duration": 8,
    "start_time": "2022-08-07T13:38:11.440Z"
   },
   {
    "duration": 12,
    "start_time": "2022-08-07T13:38:11.449Z"
   },
   {
    "duration": 116,
    "start_time": "2022-08-07T13:38:11.463Z"
   },
   {
    "duration": 7,
    "start_time": "2022-08-07T13:38:11.580Z"
   },
   {
    "duration": 27,
    "start_time": "2022-08-07T13:38:11.588Z"
   },
   {
    "duration": 27,
    "start_time": "2022-08-07T13:38:11.616Z"
   },
   {
    "duration": 111,
    "start_time": "2022-08-07T13:38:11.644Z"
   },
   {
    "duration": 107,
    "start_time": "2022-08-07T13:38:11.759Z"
   },
   {
    "duration": 22,
    "start_time": "2022-08-07T13:38:11.868Z"
   },
   {
    "duration": 24,
    "start_time": "2022-08-07T13:38:11.892Z"
   },
   {
    "duration": 20569,
    "start_time": "2022-08-07T13:38:11.917Z"
   },
   {
    "duration": 0,
    "start_time": "2022-08-07T13:39:24.956Z"
   },
   {
    "duration": 1416,
    "start_time": "2022-08-07T13:39:29.298Z"
   },
   {
    "duration": 46,
    "start_time": "2022-08-07T13:39:30.716Z"
   },
   {
    "duration": 8,
    "start_time": "2022-08-07T13:39:30.764Z"
   },
   {
    "duration": 83,
    "start_time": "2022-08-07T13:39:30.773Z"
   },
   {
    "duration": 13,
    "start_time": "2022-08-07T13:39:30.858Z"
   },
   {
    "duration": 13,
    "start_time": "2022-08-07T13:39:30.872Z"
   },
   {
    "duration": 7,
    "start_time": "2022-08-07T13:39:30.887Z"
   },
   {
    "duration": 355,
    "start_time": "2022-08-07T13:39:30.895Z"
   },
   {
    "duration": 450,
    "start_time": "2022-08-07T13:39:31.251Z"
   },
   {
    "duration": 281,
    "start_time": "2022-08-07T13:39:31.702Z"
   },
   {
    "duration": 733,
    "start_time": "2022-08-07T13:39:31.985Z"
   },
   {
    "duration": 4,
    "start_time": "2022-08-07T13:39:32.719Z"
   },
   {
    "duration": 281,
    "start_time": "2022-08-07T13:39:32.725Z"
   },
   {
    "duration": 2,
    "start_time": "2022-08-07T13:39:33.010Z"
   },
   {
    "duration": 6,
    "start_time": "2022-08-07T13:39:33.014Z"
   },
   {
    "duration": 8,
    "start_time": "2022-08-07T13:39:33.021Z"
   },
   {
    "duration": 6,
    "start_time": "2022-08-07T13:39:33.030Z"
   },
   {
    "duration": 6,
    "start_time": "2022-08-07T13:39:33.037Z"
   },
   {
    "duration": 11,
    "start_time": "2022-08-07T13:39:33.045Z"
   },
   {
    "duration": 97,
    "start_time": "2022-08-07T13:39:33.058Z"
   },
   {
    "duration": 5,
    "start_time": "2022-08-07T13:39:33.157Z"
   },
   {
    "duration": 4,
    "start_time": "2022-08-07T13:39:33.163Z"
   },
   {
    "duration": 34,
    "start_time": "2022-08-07T13:39:33.169Z"
   },
   {
    "duration": 5,
    "start_time": "2022-08-07T13:39:33.205Z"
   },
   {
    "duration": 18,
    "start_time": "2022-08-07T13:39:33.211Z"
   },
   {
    "duration": 37,
    "start_time": "2022-08-07T13:39:33.230Z"
   },
   {
    "duration": 186,
    "start_time": "2022-08-07T13:39:33.269Z"
   },
   {
    "duration": 4,
    "start_time": "2022-08-07T13:39:33.457Z"
   },
   {
    "duration": 9,
    "start_time": "2022-08-07T13:39:33.462Z"
   },
   {
    "duration": 6,
    "start_time": "2022-08-07T13:39:33.473Z"
   },
   {
    "duration": 32923,
    "start_time": "2022-08-07T13:39:33.480Z"
   },
   {
    "duration": 1597,
    "start_time": "2022-08-07T13:40:17.653Z"
   },
   {
    "duration": 45,
    "start_time": "2022-08-07T13:40:19.252Z"
   },
   {
    "duration": 8,
    "start_time": "2022-08-07T13:40:19.299Z"
   },
   {
    "duration": 61,
    "start_time": "2022-08-07T13:40:19.310Z"
   },
   {
    "duration": 12,
    "start_time": "2022-08-07T13:40:19.372Z"
   },
   {
    "duration": 12,
    "start_time": "2022-08-07T13:40:19.386Z"
   },
   {
    "duration": 7,
    "start_time": "2022-08-07T13:40:19.399Z"
   },
   {
    "duration": 353,
    "start_time": "2022-08-07T13:40:19.407Z"
   },
   {
    "duration": 459,
    "start_time": "2022-08-07T13:40:19.762Z"
   },
   {
    "duration": 283,
    "start_time": "2022-08-07T13:40:20.224Z"
   },
   {
    "duration": 735,
    "start_time": "2022-08-07T13:40:20.509Z"
   },
   {
    "duration": 12,
    "start_time": "2022-08-07T13:40:21.246Z"
   },
   {
    "duration": 279,
    "start_time": "2022-08-07T13:40:21.260Z"
   },
   {
    "duration": 2,
    "start_time": "2022-08-07T13:40:21.541Z"
   },
   {
    "duration": 12,
    "start_time": "2022-08-07T13:40:21.544Z"
   },
   {
    "duration": 5,
    "start_time": "2022-08-07T13:40:21.557Z"
   },
   {
    "duration": 6,
    "start_time": "2022-08-07T13:40:21.564Z"
   },
   {
    "duration": 8,
    "start_time": "2022-08-07T13:40:21.572Z"
   },
   {
    "duration": 5,
    "start_time": "2022-08-07T13:40:21.582Z"
   },
   {
    "duration": 12,
    "start_time": "2022-08-07T13:40:21.589Z"
   },
   {
    "duration": 6,
    "start_time": "2022-08-07T13:40:21.603Z"
   },
   {
    "duration": 2,
    "start_time": "2022-08-07T13:40:21.611Z"
   },
   {
    "duration": 146,
    "start_time": "2022-08-07T13:40:21.614Z"
   },
   {
    "duration": 5,
    "start_time": "2022-08-07T13:40:21.761Z"
   },
   {
    "duration": 18,
    "start_time": "2022-08-07T13:40:21.768Z"
   },
   {
    "duration": 19,
    "start_time": "2022-08-07T13:40:21.787Z"
   },
   {
    "duration": 50,
    "start_time": "2022-08-07T13:40:21.808Z"
   },
   {
    "duration": 97,
    "start_time": "2022-08-07T13:40:21.861Z"
   },
   {
    "duration": 98,
    "start_time": "2022-08-07T13:40:21.960Z"
   },
   {
    "duration": 5,
    "start_time": "2022-08-07T13:40:22.060Z"
   },
   {
    "duration": 28030,
    "start_time": "2022-08-07T13:40:22.066Z"
   },
   {
    "duration": 1453,
    "start_time": "2022-08-07T13:41:34.073Z"
   },
   {
    "duration": 48,
    "start_time": "2022-08-07T13:41:35.529Z"
   },
   {
    "duration": 10,
    "start_time": "2022-08-07T13:41:35.579Z"
   },
   {
    "duration": 88,
    "start_time": "2022-08-07T13:41:35.591Z"
   },
   {
    "duration": 13,
    "start_time": "2022-08-07T13:41:35.681Z"
   },
   {
    "duration": 15,
    "start_time": "2022-08-07T13:41:35.695Z"
   },
   {
    "duration": 45,
    "start_time": "2022-08-07T13:41:35.711Z"
   },
   {
    "duration": 321,
    "start_time": "2022-08-07T13:41:35.757Z"
   },
   {
    "duration": 438,
    "start_time": "2022-08-07T13:41:36.079Z"
   },
   {
    "duration": 305,
    "start_time": "2022-08-07T13:41:36.519Z"
   },
   {
    "duration": 793,
    "start_time": "2022-08-07T13:41:36.826Z"
   },
   {
    "duration": 4,
    "start_time": "2022-08-07T13:41:37.621Z"
   },
   {
    "duration": 335,
    "start_time": "2022-08-07T13:41:37.626Z"
   },
   {
    "duration": 3,
    "start_time": "2022-08-07T13:41:37.962Z"
   },
   {
    "duration": 6,
    "start_time": "2022-08-07T13:41:37.966Z"
   },
   {
    "duration": 5,
    "start_time": "2022-08-07T13:41:37.973Z"
   },
   {
    "duration": 4,
    "start_time": "2022-08-07T13:41:37.980Z"
   },
   {
    "duration": 6,
    "start_time": "2022-08-07T13:41:37.986Z"
   },
   {
    "duration": 4,
    "start_time": "2022-08-07T13:41:37.993Z"
   },
   {
    "duration": 8,
    "start_time": "2022-08-07T13:41:37.999Z"
   },
   {
    "duration": 5,
    "start_time": "2022-08-07T13:41:38.008Z"
   },
   {
    "duration": 4,
    "start_time": "2022-08-07T13:41:38.014Z"
   },
   {
    "duration": 158,
    "start_time": "2022-08-07T13:41:38.019Z"
   },
   {
    "duration": 6,
    "start_time": "2022-08-07T13:41:38.178Z"
   },
   {
    "duration": 20,
    "start_time": "2022-08-07T13:41:38.186Z"
   },
   {
    "duration": 20,
    "start_time": "2022-08-07T13:41:38.208Z"
   },
   {
    "duration": 127,
    "start_time": "2022-08-07T13:41:38.230Z"
   },
   {
    "duration": 95,
    "start_time": "2022-08-07T13:41:38.361Z"
   },
   {
    "duration": 12,
    "start_time": "2022-08-07T13:41:38.457Z"
   },
   {
    "duration": 4,
    "start_time": "2022-08-07T13:41:38.471Z"
   },
   {
    "duration": 27820,
    "start_time": "2022-08-07T13:41:38.477Z"
   },
   {
    "duration": 269418,
    "start_time": "2022-08-07T13:42:06.299Z"
   },
   {
    "duration": 1458,
    "start_time": "2022-08-07T13:54:39.734Z"
   },
   {
    "duration": 49,
    "start_time": "2022-08-07T13:54:41.194Z"
   },
   {
    "duration": 9,
    "start_time": "2022-08-07T13:54:41.245Z"
   },
   {
    "duration": 77,
    "start_time": "2022-08-07T13:54:41.256Z"
   },
   {
    "duration": 28,
    "start_time": "2022-08-07T13:54:41.335Z"
   },
   {
    "duration": 16,
    "start_time": "2022-08-07T13:54:41.365Z"
   },
   {
    "duration": 12,
    "start_time": "2022-08-07T13:54:41.382Z"
   },
   {
    "duration": 332,
    "start_time": "2022-08-07T13:54:41.396Z"
   },
   {
    "duration": 459,
    "start_time": "2022-08-07T13:54:41.730Z"
   },
   {
    "duration": 284,
    "start_time": "2022-08-07T13:54:42.191Z"
   },
   {
    "duration": 763,
    "start_time": "2022-08-07T13:54:42.476Z"
   },
   {
    "duration": 4,
    "start_time": "2022-08-07T13:54:43.240Z"
   },
   {
    "duration": 287,
    "start_time": "2022-08-07T13:54:43.246Z"
   },
   {
    "duration": 2,
    "start_time": "2022-08-07T13:54:43.536Z"
   },
   {
    "duration": 5,
    "start_time": "2022-08-07T13:54:43.539Z"
   },
   {
    "duration": 10,
    "start_time": "2022-08-07T13:54:43.545Z"
   },
   {
    "duration": 4,
    "start_time": "2022-08-07T13:54:43.557Z"
   },
   {
    "duration": 8,
    "start_time": "2022-08-07T13:54:43.562Z"
   },
   {
    "duration": 5,
    "start_time": "2022-08-07T13:54:43.571Z"
   },
   {
    "duration": 115,
    "start_time": "2022-08-07T13:54:43.577Z"
   },
   {
    "duration": 5,
    "start_time": "2022-08-07T13:54:43.693Z"
   },
   {
    "duration": 34,
    "start_time": "2022-08-07T13:54:43.700Z"
   },
   {
    "duration": 23,
    "start_time": "2022-08-07T13:54:43.736Z"
   },
   {
    "duration": 21,
    "start_time": "2022-08-07T13:54:43.760Z"
   },
   {
    "duration": 22,
    "start_time": "2022-08-07T13:54:43.782Z"
   },
   {
    "duration": 259,
    "start_time": "2022-08-07T13:54:43.805Z"
   },
   {
    "duration": 5,
    "start_time": "2022-08-07T13:54:44.066Z"
   },
   {
    "duration": 7,
    "start_time": "2022-08-07T13:54:44.073Z"
   },
   {
    "duration": 74,
    "start_time": "2022-08-07T13:54:44.082Z"
   },
   {
    "duration": 31736,
    "start_time": "2022-08-07T13:54:44.158Z"
   },
   {
    "duration": 1459,
    "start_time": "2022-08-07T13:57:05.425Z"
   },
   {
    "duration": 46,
    "start_time": "2022-08-07T13:57:06.886Z"
   },
   {
    "duration": 8,
    "start_time": "2022-08-07T13:57:06.933Z"
   },
   {
    "duration": 68,
    "start_time": "2022-08-07T13:57:06.943Z"
   },
   {
    "duration": 44,
    "start_time": "2022-08-07T13:57:07.013Z"
   },
   {
    "duration": 13,
    "start_time": "2022-08-07T13:57:07.059Z"
   },
   {
    "duration": 8,
    "start_time": "2022-08-07T13:57:07.074Z"
   },
   {
    "duration": 375,
    "start_time": "2022-08-07T13:57:07.083Z"
   },
   {
    "duration": 453,
    "start_time": "2022-08-07T13:57:07.460Z"
   },
   {
    "duration": 276,
    "start_time": "2022-08-07T13:57:07.915Z"
   },
   {
    "duration": 768,
    "start_time": "2022-08-07T13:57:08.193Z"
   },
   {
    "duration": 5,
    "start_time": "2022-08-07T13:57:08.962Z"
   },
   {
    "duration": 297,
    "start_time": "2022-08-07T13:57:08.968Z"
   },
   {
    "duration": 2,
    "start_time": "2022-08-07T13:57:09.267Z"
   },
   {
    "duration": 52,
    "start_time": "2022-08-07T13:57:09.270Z"
   },
   {
    "duration": 40,
    "start_time": "2022-08-07T13:57:09.324Z"
   },
   {
    "duration": 20,
    "start_time": "2022-08-07T13:57:09.366Z"
   },
   {
    "duration": 13,
    "start_time": "2022-08-07T13:57:09.388Z"
   },
   {
    "duration": 15,
    "start_time": "2022-08-07T13:57:09.403Z"
   },
   {
    "duration": 15,
    "start_time": "2022-08-07T13:57:09.420Z"
   },
   {
    "duration": 9,
    "start_time": "2022-08-07T13:57:09.437Z"
   },
   {
    "duration": 127,
    "start_time": "2022-08-07T13:57:09.448Z"
   },
   {
    "duration": 6,
    "start_time": "2022-08-07T13:57:09.577Z"
   },
   {
    "duration": 36,
    "start_time": "2022-08-07T13:57:09.584Z"
   },
   {
    "duration": 22,
    "start_time": "2022-08-07T13:57:09.622Z"
   },
   {
    "duration": 310,
    "start_time": "2022-08-07T13:57:09.645Z"
   },
   {
    "duration": 0,
    "start_time": "2022-08-07T13:57:09.957Z"
   },
   {
    "duration": 0,
    "start_time": "2022-08-07T13:57:09.958Z"
   },
   {
    "duration": 0,
    "start_time": "2022-08-07T13:57:09.960Z"
   },
   {
    "duration": 0,
    "start_time": "2022-08-07T13:57:09.962Z"
   },
   {
    "duration": 0,
    "start_time": "2022-08-07T13:57:09.963Z"
   },
   {
    "duration": 0,
    "start_time": "2022-08-07T13:57:09.964Z"
   },
   {
    "duration": 0,
    "start_time": "2022-08-07T13:57:09.965Z"
   },
   {
    "duration": 0,
    "start_time": "2022-08-07T13:57:09.967Z"
   },
   {
    "duration": 0,
    "start_time": "2022-08-07T13:57:09.968Z"
   },
   {
    "duration": 0,
    "start_time": "2022-08-07T13:57:09.969Z"
   },
   {
    "duration": 0,
    "start_time": "2022-08-07T13:57:09.971Z"
   },
   {
    "duration": 1660,
    "start_time": "2022-08-07T13:58:48.553Z"
   },
   {
    "duration": 62,
    "start_time": "2022-08-07T13:58:50.215Z"
   },
   {
    "duration": 8,
    "start_time": "2022-08-07T13:58:50.279Z"
   },
   {
    "duration": 81,
    "start_time": "2022-08-07T13:58:50.289Z"
   },
   {
    "duration": 12,
    "start_time": "2022-08-07T13:58:50.372Z"
   },
   {
    "duration": 14,
    "start_time": "2022-08-07T13:58:50.386Z"
   },
   {
    "duration": 7,
    "start_time": "2022-08-07T13:58:50.402Z"
   },
   {
    "duration": 373,
    "start_time": "2022-08-07T13:58:50.411Z"
   },
   {
    "duration": 456,
    "start_time": "2022-08-07T13:58:50.785Z"
   },
   {
    "duration": 289,
    "start_time": "2022-08-07T13:58:51.243Z"
   },
   {
    "duration": 721,
    "start_time": "2022-08-07T13:58:51.534Z"
   },
   {
    "duration": 4,
    "start_time": "2022-08-07T13:58:52.256Z"
   },
   {
    "duration": 283,
    "start_time": "2022-08-07T13:58:52.261Z"
   },
   {
    "duration": 2,
    "start_time": "2022-08-07T13:58:52.545Z"
   },
   {
    "duration": 7,
    "start_time": "2022-08-07T13:58:52.548Z"
   },
   {
    "duration": 4,
    "start_time": "2022-08-07T13:58:52.557Z"
   },
   {
    "duration": 5,
    "start_time": "2022-08-07T13:58:52.562Z"
   },
   {
    "duration": 7,
    "start_time": "2022-08-07T13:58:52.568Z"
   },
   {
    "duration": 5,
    "start_time": "2022-08-07T13:58:52.576Z"
   },
   {
    "duration": 8,
    "start_time": "2022-08-07T13:58:52.582Z"
   },
   {
    "duration": 6,
    "start_time": "2022-08-07T13:58:52.591Z"
   },
   {
    "duration": 148,
    "start_time": "2022-08-07T13:58:52.598Z"
   },
   {
    "duration": 7,
    "start_time": "2022-08-07T13:58:52.755Z"
   },
   {
    "duration": 19,
    "start_time": "2022-08-07T13:58:52.763Z"
   },
   {
    "duration": 29,
    "start_time": "2022-08-07T13:58:52.783Z"
   },
   {
    "duration": 152,
    "start_time": "2022-08-07T13:58:52.813Z"
   },
   {
    "duration": 7,
    "start_time": "2022-08-07T13:58:53.055Z"
   },
   {
    "duration": 97,
    "start_time": "2022-08-07T13:58:53.065Z"
   },
   {
    "duration": 6,
    "start_time": "2022-08-07T13:58:53.163Z"
   },
   {
    "duration": 26785,
    "start_time": "2022-08-07T13:58:53.171Z"
   },
   {
    "duration": 1429,
    "start_time": "2022-08-07T14:03:40.266Z"
   },
   {
    "duration": 47,
    "start_time": "2022-08-07T14:03:41.697Z"
   },
   {
    "duration": 11,
    "start_time": "2022-08-07T14:03:41.746Z"
   },
   {
    "duration": 71,
    "start_time": "2022-08-07T14:03:41.759Z"
   },
   {
    "duration": 13,
    "start_time": "2022-08-07T14:03:41.856Z"
   },
   {
    "duration": 13,
    "start_time": "2022-08-07T14:03:41.870Z"
   },
   {
    "duration": 7,
    "start_time": "2022-08-07T14:03:41.885Z"
   },
   {
    "duration": 335,
    "start_time": "2022-08-07T14:03:41.894Z"
   },
   {
    "duration": 443,
    "start_time": "2022-08-07T14:03:42.230Z"
   },
   {
    "duration": 274,
    "start_time": "2022-08-07T14:03:42.675Z"
   },
   {
    "duration": 737,
    "start_time": "2022-08-07T14:03:42.951Z"
   },
   {
    "duration": 4,
    "start_time": "2022-08-07T14:03:43.690Z"
   },
   {
    "duration": 310,
    "start_time": "2022-08-07T14:03:43.695Z"
   },
   {
    "duration": 2,
    "start_time": "2022-08-07T14:03:44.008Z"
   },
   {
    "duration": 6,
    "start_time": "2022-08-07T14:03:44.012Z"
   },
   {
    "duration": 5,
    "start_time": "2022-08-07T14:03:44.019Z"
   },
   {
    "duration": 8,
    "start_time": "2022-08-07T14:03:44.025Z"
   },
   {
    "duration": 7,
    "start_time": "2022-08-07T14:03:44.034Z"
   },
   {
    "duration": 14,
    "start_time": "2022-08-07T14:03:44.042Z"
   },
   {
    "duration": 98,
    "start_time": "2022-08-07T14:03:44.057Z"
   },
   {
    "duration": 6,
    "start_time": "2022-08-07T14:03:44.156Z"
   },
   {
    "duration": 38,
    "start_time": "2022-08-07T14:03:44.163Z"
   },
   {
    "duration": 6,
    "start_time": "2022-08-07T14:03:44.202Z"
   },
   {
    "duration": 20,
    "start_time": "2022-08-07T14:03:44.210Z"
   },
   {
    "duration": 37,
    "start_time": "2022-08-07T14:03:44.231Z"
   },
   {
    "duration": 87,
    "start_time": "2022-08-07T14:03:44.270Z"
   },
   {
    "duration": 97,
    "start_time": "2022-08-07T14:03:44.358Z"
   },
   {
    "duration": 7,
    "start_time": "2022-08-07T14:03:44.457Z"
   },
   {
    "duration": 6,
    "start_time": "2022-08-07T14:03:44.465Z"
   },
   {
    "duration": 36112,
    "start_time": "2022-08-07T14:03:44.472Z"
   },
   {
    "duration": 1430,
    "start_time": "2022-08-07T14:04:58.349Z"
   },
   {
    "duration": 46,
    "start_time": "2022-08-07T14:04:59.781Z"
   },
   {
    "duration": 8,
    "start_time": "2022-08-07T14:04:59.829Z"
   },
   {
    "duration": 61,
    "start_time": "2022-08-07T14:04:59.839Z"
   },
   {
    "duration": 12,
    "start_time": "2022-08-07T14:04:59.902Z"
   },
   {
    "duration": 47,
    "start_time": "2022-08-07T14:04:59.916Z"
   },
   {
    "duration": 7,
    "start_time": "2022-08-07T14:04:59.965Z"
   },
   {
    "duration": 327,
    "start_time": "2022-08-07T14:04:59.974Z"
   },
   {
    "duration": 442,
    "start_time": "2022-08-07T14:05:00.303Z"
   },
   {
    "duration": 293,
    "start_time": "2022-08-07T14:05:00.747Z"
   },
   {
    "duration": 740,
    "start_time": "2022-08-07T14:05:01.042Z"
   },
   {
    "duration": 5,
    "start_time": "2022-08-07T14:05:01.784Z"
   },
   {
    "duration": 287,
    "start_time": "2022-08-07T14:05:01.791Z"
   },
   {
    "duration": 2,
    "start_time": "2022-08-07T14:05:02.082Z"
   },
   {
    "duration": 9,
    "start_time": "2022-08-07T14:05:02.086Z"
   },
   {
    "duration": 11,
    "start_time": "2022-08-07T14:05:02.096Z"
   },
   {
    "duration": 15,
    "start_time": "2022-08-07T14:05:02.109Z"
   },
   {
    "duration": 9,
    "start_time": "2022-08-07T14:05:02.126Z"
   },
   {
    "duration": 28,
    "start_time": "2022-08-07T14:05:02.137Z"
   },
   {
    "duration": 103,
    "start_time": "2022-08-07T14:05:02.167Z"
   },
   {
    "duration": 20,
    "start_time": "2022-08-07T14:05:02.272Z"
   },
   {
    "duration": 42,
    "start_time": "2022-08-07T14:05:02.293Z"
   },
   {
    "duration": 5,
    "start_time": "2022-08-07T14:05:02.337Z"
   },
   {
    "duration": 21,
    "start_time": "2022-08-07T14:05:02.344Z"
   },
   {
    "duration": 21,
    "start_time": "2022-08-07T14:05:02.366Z"
   },
   {
    "duration": 366,
    "start_time": "2022-08-07T14:05:02.389Z"
   },
   {
    "duration": 6,
    "start_time": "2022-08-07T14:05:02.757Z"
   },
   {
    "duration": 3,
    "start_time": "2022-08-07T14:05:02.855Z"
   },
   {
    "duration": 5,
    "start_time": "2022-08-07T14:05:02.859Z"
   },
   {
    "duration": 27524,
    "start_time": "2022-08-07T14:05:02.866Z"
   },
   {
    "duration": 270325,
    "start_time": "2022-08-07T14:05:30.391Z"
   },
   {
    "duration": 1361,
    "start_time": "2022-08-07T14:11:42.217Z"
   },
   {
    "duration": 47,
    "start_time": "2022-08-07T14:11:43.579Z"
   },
   {
    "duration": 7,
    "start_time": "2022-08-07T14:11:43.628Z"
   },
   {
    "duration": 57,
    "start_time": "2022-08-07T14:11:43.637Z"
   },
   {
    "duration": 12,
    "start_time": "2022-08-07T14:11:43.695Z"
   },
   {
    "duration": 14,
    "start_time": "2022-08-07T14:11:43.708Z"
   },
   {
    "duration": 9,
    "start_time": "2022-08-07T14:11:43.755Z"
   },
   {
    "duration": 320,
    "start_time": "2022-08-07T14:11:43.766Z"
   },
   {
    "duration": 433,
    "start_time": "2022-08-07T14:11:44.088Z"
   },
   {
    "duration": 286,
    "start_time": "2022-08-07T14:11:44.523Z"
   },
   {
    "duration": 735,
    "start_time": "2022-08-07T14:11:44.810Z"
   },
   {
    "duration": 5,
    "start_time": "2022-08-07T14:11:45.546Z"
   },
   {
    "duration": 280,
    "start_time": "2022-08-07T14:11:45.552Z"
   },
   {
    "duration": 2,
    "start_time": "2022-08-07T14:11:45.834Z"
   },
   {
    "duration": 8,
    "start_time": "2022-08-07T14:11:45.837Z"
   },
   {
    "duration": 9,
    "start_time": "2022-08-07T14:11:45.846Z"
   },
   {
    "duration": 8,
    "start_time": "2022-08-07T14:11:45.856Z"
   },
   {
    "duration": 7,
    "start_time": "2022-08-07T14:11:45.865Z"
   },
   {
    "duration": 6,
    "start_time": "2022-08-07T14:11:45.873Z"
   },
   {
    "duration": 7,
    "start_time": "2022-08-07T14:11:45.881Z"
   },
   {
    "duration": 6,
    "start_time": "2022-08-07T14:11:45.889Z"
   },
   {
    "duration": 131,
    "start_time": "2022-08-07T14:11:45.896Z"
   },
   {
    "duration": 6,
    "start_time": "2022-08-07T14:11:46.028Z"
   },
   {
    "duration": 33,
    "start_time": "2022-08-07T14:11:46.036Z"
   },
   {
    "duration": 18,
    "start_time": "2022-08-07T14:11:46.071Z"
   },
   {
    "duration": 551,
    "start_time": "2022-08-07T14:11:46.090Z"
   },
   {
    "duration": 0,
    "start_time": "2022-08-07T14:11:46.643Z"
   },
   {
    "duration": 0,
    "start_time": "2022-08-07T14:11:46.655Z"
   },
   {
    "duration": 0,
    "start_time": "2022-08-07T14:11:46.655Z"
   },
   {
    "duration": 0,
    "start_time": "2022-08-07T14:11:46.657Z"
   },
   {
    "duration": 0,
    "start_time": "2022-08-07T14:11:46.657Z"
   },
   {
    "duration": 0,
    "start_time": "2022-08-07T14:11:46.658Z"
   },
   {
    "duration": 0,
    "start_time": "2022-08-07T14:11:46.659Z"
   },
   {
    "duration": 0,
    "start_time": "2022-08-07T14:11:46.660Z"
   },
   {
    "duration": 0,
    "start_time": "2022-08-07T14:11:46.661Z"
   },
   {
    "duration": 0,
    "start_time": "2022-08-07T14:11:46.662Z"
   },
   {
    "duration": 0,
    "start_time": "2022-08-07T14:11:46.663Z"
   },
   {
    "duration": 1440,
    "start_time": "2022-08-07T14:15:27.496Z"
   },
   {
    "duration": 50,
    "start_time": "2022-08-07T14:15:28.938Z"
   },
   {
    "duration": 11,
    "start_time": "2022-08-07T14:15:28.989Z"
   },
   {
    "duration": 81,
    "start_time": "2022-08-07T14:15:29.003Z"
   },
   {
    "duration": 13,
    "start_time": "2022-08-07T14:15:29.086Z"
   },
   {
    "duration": 15,
    "start_time": "2022-08-07T14:15:29.101Z"
   },
   {
    "duration": 44,
    "start_time": "2022-08-07T14:15:29.117Z"
   },
   {
    "duration": 357,
    "start_time": "2022-08-07T14:15:29.162Z"
   },
   {
    "duration": 500,
    "start_time": "2022-08-07T14:15:29.521Z"
   },
   {
    "duration": 308,
    "start_time": "2022-08-07T14:15:30.024Z"
   },
   {
    "duration": 799,
    "start_time": "2022-08-07T14:15:30.333Z"
   },
   {
    "duration": 4,
    "start_time": "2022-08-07T14:15:31.134Z"
   },
   {
    "duration": 296,
    "start_time": "2022-08-07T14:15:31.139Z"
   },
   {
    "duration": 2,
    "start_time": "2022-08-07T14:15:31.437Z"
   },
   {
    "duration": 17,
    "start_time": "2022-08-07T14:15:31.441Z"
   },
   {
    "duration": 21,
    "start_time": "2022-08-07T14:15:31.460Z"
   },
   {
    "duration": 25,
    "start_time": "2022-08-07T14:15:31.482Z"
   },
   {
    "duration": 14,
    "start_time": "2022-08-07T14:15:31.509Z"
   },
   {
    "duration": 24,
    "start_time": "2022-08-07T14:15:31.524Z"
   },
   {
    "duration": 18,
    "start_time": "2022-08-07T14:15:31.549Z"
   },
   {
    "duration": 15,
    "start_time": "2022-08-07T14:15:31.569Z"
   },
   {
    "duration": 116,
    "start_time": "2022-08-07T14:15:31.585Z"
   },
   {
    "duration": 6,
    "start_time": "2022-08-07T14:15:31.702Z"
   },
   {
    "duration": 33,
    "start_time": "2022-08-07T14:15:31.709Z"
   },
   {
    "duration": 33,
    "start_time": "2022-08-07T14:15:31.744Z"
   },
   {
    "duration": 381,
    "start_time": "2022-08-07T14:15:31.778Z"
   },
   {
    "duration": 94,
    "start_time": "2022-08-07T14:15:32.161Z"
   },
   {
    "duration": 96,
    "start_time": "2022-08-07T14:15:32.259Z"
   },
   {
    "duration": 3,
    "start_time": "2022-08-07T14:15:32.357Z"
   },
   {
    "duration": 34042,
    "start_time": "2022-08-07T14:15:32.361Z"
   },
   {
    "duration": 1427,
    "start_time": "2022-08-07T14:17:17.797Z"
   },
   {
    "duration": 53,
    "start_time": "2022-08-07T14:17:19.226Z"
   },
   {
    "duration": 8,
    "start_time": "2022-08-07T14:17:19.281Z"
   },
   {
    "duration": 84,
    "start_time": "2022-08-07T14:17:19.291Z"
   },
   {
    "duration": 14,
    "start_time": "2022-08-07T14:17:19.377Z"
   },
   {
    "duration": 13,
    "start_time": "2022-08-07T14:17:19.392Z"
   },
   {
    "duration": 7,
    "start_time": "2022-08-07T14:17:19.406Z"
   },
   {
    "duration": 356,
    "start_time": "2022-08-07T14:17:19.414Z"
   },
   {
    "duration": 437,
    "start_time": "2022-08-07T14:17:19.772Z"
   },
   {
    "duration": 278,
    "start_time": "2022-08-07T14:17:20.211Z"
   },
   {
    "duration": 726,
    "start_time": "2022-08-07T14:17:20.491Z"
   },
   {
    "duration": 4,
    "start_time": "2022-08-07T14:17:21.219Z"
   },
   {
    "duration": 285,
    "start_time": "2022-08-07T14:17:21.225Z"
   },
   {
    "duration": 2,
    "start_time": "2022-08-07T14:17:21.512Z"
   },
   {
    "duration": 4,
    "start_time": "2022-08-07T14:17:21.516Z"
   },
   {
    "duration": 7,
    "start_time": "2022-08-07T14:17:21.521Z"
   },
   {
    "duration": 7,
    "start_time": "2022-08-07T14:17:21.530Z"
   },
   {
    "duration": 6,
    "start_time": "2022-08-07T14:17:21.538Z"
   },
   {
    "duration": 10,
    "start_time": "2022-08-07T14:17:21.546Z"
   },
   {
    "duration": 99,
    "start_time": "2022-08-07T14:17:21.557Z"
   },
   {
    "duration": 6,
    "start_time": "2022-08-07T14:17:21.658Z"
   },
   {
    "duration": 35,
    "start_time": "2022-08-07T14:17:21.666Z"
   },
   {
    "duration": 7,
    "start_time": "2022-08-07T14:17:21.702Z"
   },
   {
    "duration": 20,
    "start_time": "2022-08-07T14:17:21.710Z"
   },
   {
    "duration": 39,
    "start_time": "2022-08-07T14:17:21.731Z"
   },
   {
    "duration": 691,
    "start_time": "2022-08-07T14:17:21.772Z"
   },
   {
    "duration": 94,
    "start_time": "2022-08-07T14:17:22.464Z"
   },
   {
    "duration": 104,
    "start_time": "2022-08-07T14:17:22.560Z"
   },
   {
    "duration": 5,
    "start_time": "2022-08-07T14:17:22.666Z"
   },
   {
    "duration": 27706,
    "start_time": "2022-08-07T14:17:22.672Z"
   },
   {
    "duration": 1428,
    "start_time": "2022-08-07T14:18:18.953Z"
   },
   {
    "duration": 48,
    "start_time": "2022-08-07T14:18:20.383Z"
   },
   {
    "duration": 9,
    "start_time": "2022-08-07T14:18:20.433Z"
   },
   {
    "duration": 59,
    "start_time": "2022-08-07T14:18:20.443Z"
   },
   {
    "duration": 12,
    "start_time": "2022-08-07T14:18:20.503Z"
   },
   {
    "duration": 47,
    "start_time": "2022-08-07T14:18:20.517Z"
   },
   {
    "duration": 6,
    "start_time": "2022-08-07T14:18:20.565Z"
   },
   {
    "duration": 333,
    "start_time": "2022-08-07T14:18:20.573Z"
   },
   {
    "duration": 449,
    "start_time": "2022-08-07T14:18:20.908Z"
   },
   {
    "duration": 296,
    "start_time": "2022-08-07T14:18:21.358Z"
   },
   {
    "duration": 742,
    "start_time": "2022-08-07T14:18:21.655Z"
   },
   {
    "duration": 4,
    "start_time": "2022-08-07T14:18:22.399Z"
   },
   {
    "duration": 280,
    "start_time": "2022-08-07T14:18:22.404Z"
   },
   {
    "duration": 2,
    "start_time": "2022-08-07T14:18:22.687Z"
   },
   {
    "duration": 6,
    "start_time": "2022-08-07T14:18:22.690Z"
   },
   {
    "duration": 5,
    "start_time": "2022-08-07T14:18:22.697Z"
   },
   {
    "duration": 6,
    "start_time": "2022-08-07T14:18:22.703Z"
   },
   {
    "duration": 8,
    "start_time": "2022-08-07T14:18:22.710Z"
   },
   {
    "duration": 5,
    "start_time": "2022-08-07T14:18:22.720Z"
   },
   {
    "duration": 111,
    "start_time": "2022-08-07T14:18:22.726Z"
   },
   {
    "duration": 6,
    "start_time": "2022-08-07T14:18:22.839Z"
   },
   {
    "duration": 40,
    "start_time": "2022-08-07T14:18:22.846Z"
   },
   {
    "duration": 5,
    "start_time": "2022-08-07T14:18:22.888Z"
   },
   {
    "duration": 20,
    "start_time": "2022-08-07T14:18:22.894Z"
   },
   {
    "duration": 18,
    "start_time": "2022-08-07T14:18:22.915Z"
   },
   {
    "duration": 822,
    "start_time": "2022-08-07T14:18:22.934Z"
   },
   {
    "duration": 96,
    "start_time": "2022-08-07T14:18:23.759Z"
   },
   {
    "duration": 5,
    "start_time": "2022-08-07T14:18:23.857Z"
   },
   {
    "duration": 4,
    "start_time": "2022-08-07T14:18:23.863Z"
   },
   {
    "duration": 27326,
    "start_time": "2022-08-07T14:18:23.868Z"
   },
   {
    "duration": 1452,
    "start_time": "2022-08-07T14:19:57.332Z"
   },
   {
    "duration": 50,
    "start_time": "2022-08-07T14:19:58.785Z"
   },
   {
    "duration": 8,
    "start_time": "2022-08-07T14:19:58.836Z"
   },
   {
    "duration": 59,
    "start_time": "2022-08-07T14:19:58.845Z"
   },
   {
    "duration": 12,
    "start_time": "2022-08-07T14:19:58.905Z"
   },
   {
    "duration": 49,
    "start_time": "2022-08-07T14:19:58.918Z"
   },
   {
    "duration": 8,
    "start_time": "2022-08-07T14:19:58.968Z"
   },
   {
    "duration": 328,
    "start_time": "2022-08-07T14:19:58.977Z"
   },
   {
    "duration": 434,
    "start_time": "2022-08-07T14:19:59.307Z"
   },
   {
    "duration": 281,
    "start_time": "2022-08-07T14:19:59.743Z"
   },
   {
    "duration": 760,
    "start_time": "2022-08-07T14:20:00.025Z"
   },
   {
    "duration": 4,
    "start_time": "2022-08-07T14:20:00.786Z"
   },
   {
    "duration": 293,
    "start_time": "2022-08-07T14:20:00.792Z"
   },
   {
    "duration": 2,
    "start_time": "2022-08-07T14:20:01.087Z"
   },
   {
    "duration": 8,
    "start_time": "2022-08-07T14:20:01.090Z"
   },
   {
    "duration": 8,
    "start_time": "2022-08-07T14:20:01.100Z"
   },
   {
    "duration": 8,
    "start_time": "2022-08-07T14:20:01.109Z"
   },
   {
    "duration": 15,
    "start_time": "2022-08-07T14:20:01.118Z"
   },
   {
    "duration": 6,
    "start_time": "2022-08-07T14:20:01.134Z"
   },
   {
    "duration": 9,
    "start_time": "2022-08-07T14:20:01.142Z"
   },
   {
    "duration": 5,
    "start_time": "2022-08-07T14:20:01.153Z"
   },
   {
    "duration": 128,
    "start_time": "2022-08-07T14:20:01.160Z"
   },
   {
    "duration": 6,
    "start_time": "2022-08-07T14:20:01.290Z"
   },
   {
    "duration": 23,
    "start_time": "2022-08-07T14:20:01.297Z"
   },
   {
    "duration": 35,
    "start_time": "2022-08-07T14:20:01.321Z"
   },
   {
    "duration": 306,
    "start_time": "2022-08-07T14:20:01.357Z"
   },
   {
    "duration": 93,
    "start_time": "2022-08-07T14:20:01.665Z"
   },
   {
    "duration": 94,
    "start_time": "2022-08-07T14:20:01.762Z"
   },
   {
    "duration": 5,
    "start_time": "2022-08-07T14:20:01.858Z"
   },
   {
    "duration": 28125,
    "start_time": "2022-08-07T14:20:01.864Z"
   },
   {
    "duration": 1418,
    "start_time": "2022-08-07T14:22:30.759Z"
   },
   {
    "duration": 47,
    "start_time": "2022-08-07T14:22:32.178Z"
   },
   {
    "duration": 8,
    "start_time": "2022-08-07T14:22:32.227Z"
   },
   {
    "duration": 63,
    "start_time": "2022-08-07T14:22:32.237Z"
   },
   {
    "duration": 12,
    "start_time": "2022-08-07T14:22:32.302Z"
   },
   {
    "duration": 51,
    "start_time": "2022-08-07T14:22:32.316Z"
   },
   {
    "duration": 8,
    "start_time": "2022-08-07T14:22:32.369Z"
   },
   {
    "duration": 332,
    "start_time": "2022-08-07T14:22:32.378Z"
   },
   {
    "duration": 433,
    "start_time": "2022-08-07T14:22:32.712Z"
   },
   {
    "duration": 268,
    "start_time": "2022-08-07T14:22:33.147Z"
   },
   {
    "duration": 744,
    "start_time": "2022-08-07T14:22:33.416Z"
   },
   {
    "duration": 4,
    "start_time": "2022-08-07T14:22:34.161Z"
   },
   {
    "duration": 281,
    "start_time": "2022-08-07T14:22:34.167Z"
   },
   {
    "duration": 2,
    "start_time": "2022-08-07T14:22:34.450Z"
   },
   {
    "duration": 7,
    "start_time": "2022-08-07T14:22:34.453Z"
   },
   {
    "duration": 5,
    "start_time": "2022-08-07T14:22:34.461Z"
   },
   {
    "duration": 8,
    "start_time": "2022-08-07T14:22:34.467Z"
   },
   {
    "duration": 7,
    "start_time": "2022-08-07T14:22:34.476Z"
   },
   {
    "duration": 10,
    "start_time": "2022-08-07T14:22:34.485Z"
   },
   {
    "duration": 11,
    "start_time": "2022-08-07T14:22:34.497Z"
   },
   {
    "duration": 6,
    "start_time": "2022-08-07T14:22:34.509Z"
   },
   {
    "duration": 125,
    "start_time": "2022-08-07T14:22:34.516Z"
   },
   {
    "duration": 16,
    "start_time": "2022-08-07T14:22:34.642Z"
   },
   {
    "duration": 17,
    "start_time": "2022-08-07T14:22:34.660Z"
   },
   {
    "duration": 18,
    "start_time": "2022-08-07T14:22:34.679Z"
   },
   {
    "duration": 356,
    "start_time": "2022-08-07T14:22:34.698Z"
   },
   {
    "duration": 6,
    "start_time": "2022-08-07T14:22:35.056Z"
   },
   {
    "duration": 96,
    "start_time": "2022-08-07T14:22:35.066Z"
   },
   {
    "duration": 4,
    "start_time": "2022-08-07T14:22:35.164Z"
   },
   {
    "duration": 27921,
    "start_time": "2022-08-07T14:22:35.170Z"
   },
   {
    "duration": 270338,
    "start_time": "2022-08-07T14:23:03.092Z"
   },
   {
    "duration": 1499,
    "start_time": "2022-08-07T14:37:30.947Z"
   },
   {
    "duration": 50,
    "start_time": "2022-08-07T14:37:32.448Z"
   },
   {
    "duration": 7,
    "start_time": "2022-08-07T14:37:32.500Z"
   },
   {
    "duration": 59,
    "start_time": "2022-08-07T14:37:32.509Z"
   },
   {
    "duration": 14,
    "start_time": "2022-08-07T14:37:32.570Z"
   },
   {
    "duration": 14,
    "start_time": "2022-08-07T14:37:32.585Z"
   },
   {
    "duration": 8,
    "start_time": "2022-08-07T14:37:32.600Z"
   },
   {
    "duration": 349,
    "start_time": "2022-08-07T14:37:32.610Z"
   },
   {
    "duration": 461,
    "start_time": "2022-08-07T14:37:32.960Z"
   },
   {
    "duration": 275,
    "start_time": "2022-08-07T14:37:33.423Z"
   },
   {
    "duration": 741,
    "start_time": "2022-08-07T14:37:33.700Z"
   },
   {
    "duration": 5,
    "start_time": "2022-08-07T14:37:34.442Z"
   },
   {
    "duration": 292,
    "start_time": "2022-08-07T14:37:34.448Z"
   },
   {
    "duration": 2,
    "start_time": "2022-08-07T14:37:34.743Z"
   },
   {
    "duration": 6,
    "start_time": "2022-08-07T14:37:34.746Z"
   },
   {
    "duration": 11,
    "start_time": "2022-08-07T14:37:34.755Z"
   },
   {
    "duration": 6,
    "start_time": "2022-08-07T14:37:34.767Z"
   },
   {
    "duration": 20,
    "start_time": "2022-08-07T14:37:34.774Z"
   },
   {
    "duration": 18,
    "start_time": "2022-08-07T14:37:34.796Z"
   },
   {
    "duration": 108,
    "start_time": "2022-08-07T14:37:34.816Z"
   },
   {
    "duration": 7,
    "start_time": "2022-08-07T14:37:34.925Z"
   },
   {
    "duration": 46,
    "start_time": "2022-08-07T14:37:34.933Z"
   },
   {
    "duration": 8,
    "start_time": "2022-08-07T14:37:34.981Z"
   },
   {
    "duration": 31,
    "start_time": "2022-08-07T14:37:34.995Z"
   },
   {
    "duration": 28,
    "start_time": "2022-08-07T14:37:35.028Z"
   },
   {
    "duration": 602,
    "start_time": "2022-08-07T14:37:35.057Z"
   },
   {
    "duration": 95,
    "start_time": "2022-08-07T14:37:35.660Z"
   },
   {
    "duration": 98,
    "start_time": "2022-08-07T14:37:35.757Z"
   },
   {
    "duration": 6,
    "start_time": "2022-08-07T14:37:35.857Z"
   },
   {
    "duration": 27533,
    "start_time": "2022-08-07T14:37:35.864Z"
   },
   {
    "duration": 269076,
    "start_time": "2022-08-07T14:38:03.399Z"
   },
   {
    "duration": 1464,
    "start_time": "2022-08-07T14:43:27.037Z"
   },
   {
    "duration": 50,
    "start_time": "2022-08-07T14:43:28.503Z"
   },
   {
    "duration": 8,
    "start_time": "2022-08-07T14:43:28.555Z"
   },
   {
    "duration": 61,
    "start_time": "2022-08-07T14:43:28.565Z"
   },
   {
    "duration": 38,
    "start_time": "2022-08-07T14:43:28.628Z"
   },
   {
    "duration": 13,
    "start_time": "2022-08-07T14:43:28.668Z"
   },
   {
    "duration": 10,
    "start_time": "2022-08-07T14:43:28.683Z"
   },
   {
    "duration": 334,
    "start_time": "2022-08-07T14:43:28.695Z"
   },
   {
    "duration": 423,
    "start_time": "2022-08-07T14:43:29.030Z"
   },
   {
    "duration": 283,
    "start_time": "2022-08-07T14:43:29.455Z"
   },
   {
    "duration": 731,
    "start_time": "2022-08-07T14:43:29.739Z"
   },
   {
    "duration": 5,
    "start_time": "2022-08-07T14:43:30.471Z"
   },
   {
    "duration": 305,
    "start_time": "2022-08-07T14:43:30.477Z"
   },
   {
    "duration": 2,
    "start_time": "2022-08-07T14:43:30.783Z"
   },
   {
    "duration": 29,
    "start_time": "2022-08-07T14:43:30.786Z"
   },
   {
    "duration": 16,
    "start_time": "2022-08-07T14:43:30.817Z"
   },
   {
    "duration": 17,
    "start_time": "2022-08-07T14:43:30.834Z"
   },
   {
    "duration": 27,
    "start_time": "2022-08-07T14:43:30.853Z"
   },
   {
    "duration": 14,
    "start_time": "2022-08-07T14:43:30.881Z"
   },
   {
    "duration": 26,
    "start_time": "2022-08-07T14:43:30.897Z"
   },
   {
    "duration": 28,
    "start_time": "2022-08-07T14:43:30.924Z"
   },
   {
    "duration": 131,
    "start_time": "2022-08-07T14:43:30.953Z"
   },
   {
    "duration": 6,
    "start_time": "2022-08-07T14:43:31.085Z"
   },
   {
    "duration": 32,
    "start_time": "2022-08-07T14:43:31.093Z"
   },
   {
    "duration": 39,
    "start_time": "2022-08-07T14:43:31.127Z"
   },
   {
    "duration": 689,
    "start_time": "2022-08-07T14:43:31.167Z"
   },
   {
    "duration": 6,
    "start_time": "2022-08-07T14:43:31.857Z"
   },
   {
    "duration": 97,
    "start_time": "2022-08-07T14:43:31.866Z"
   },
   {
    "duration": 9,
    "start_time": "2022-08-07T14:43:31.965Z"
   },
   {
    "duration": 27097,
    "start_time": "2022-08-07T14:43:31.975Z"
   },
   {
    "duration": 1784,
    "start_time": "2022-08-07T14:44:14.504Z"
   },
   {
    "duration": 49,
    "start_time": "2022-08-07T14:44:16.289Z"
   },
   {
    "duration": 9,
    "start_time": "2022-08-07T14:44:16.339Z"
   },
   {
    "duration": 66,
    "start_time": "2022-08-07T14:44:16.349Z"
   },
   {
    "duration": 40,
    "start_time": "2022-08-07T14:44:16.416Z"
   },
   {
    "duration": 14,
    "start_time": "2022-08-07T14:44:16.457Z"
   },
   {
    "duration": 7,
    "start_time": "2022-08-07T14:44:16.472Z"
   },
   {
    "duration": 367,
    "start_time": "2022-08-07T14:44:16.481Z"
   },
   {
    "duration": 495,
    "start_time": "2022-08-07T14:44:16.850Z"
   },
   {
    "duration": 317,
    "start_time": "2022-08-07T14:44:17.348Z"
   },
   {
    "duration": 759,
    "start_time": "2022-08-07T14:44:17.666Z"
   },
   {
    "duration": 4,
    "start_time": "2022-08-07T14:44:18.427Z"
   },
   {
    "duration": 276,
    "start_time": "2022-08-07T14:44:18.432Z"
   },
   {
    "duration": 2,
    "start_time": "2022-08-07T14:44:18.709Z"
   },
   {
    "duration": 6,
    "start_time": "2022-08-07T14:44:18.713Z"
   },
   {
    "duration": 7,
    "start_time": "2022-08-07T14:44:18.720Z"
   },
   {
    "duration": 6,
    "start_time": "2022-08-07T14:44:18.729Z"
   },
   {
    "duration": 8,
    "start_time": "2022-08-07T14:44:18.736Z"
   },
   {
    "duration": 13,
    "start_time": "2022-08-07T14:44:18.745Z"
   },
   {
    "duration": 7,
    "start_time": "2022-08-07T14:44:18.759Z"
   },
   {
    "duration": 5,
    "start_time": "2022-08-07T14:44:18.768Z"
   },
   {
    "duration": 140,
    "start_time": "2022-08-07T14:44:18.774Z"
   },
   {
    "duration": 5,
    "start_time": "2022-08-07T14:44:18.916Z"
   },
   {
    "duration": 33,
    "start_time": "2022-08-07T14:44:18.922Z"
   },
   {
    "duration": 20,
    "start_time": "2022-08-07T14:44:18.956Z"
   },
   {
    "duration": 380,
    "start_time": "2022-08-07T14:44:18.978Z"
   },
   {
    "duration": 96,
    "start_time": "2022-08-07T14:44:19.359Z"
   },
   {
    "duration": 8,
    "start_time": "2022-08-07T14:44:19.458Z"
   },
   {
    "duration": 6,
    "start_time": "2022-08-07T14:44:19.467Z"
   },
   {
    "duration": 30295,
    "start_time": "2022-08-07T14:44:19.475Z"
   },
   {
    "duration": 1522,
    "start_time": "2022-08-07T14:46:40.398Z"
   },
   {
    "duration": 47,
    "start_time": "2022-08-07T14:46:41.922Z"
   },
   {
    "duration": 8,
    "start_time": "2022-08-07T14:46:41.971Z"
   },
   {
    "duration": 87,
    "start_time": "2022-08-07T14:46:41.981Z"
   },
   {
    "duration": 14,
    "start_time": "2022-08-07T14:46:42.070Z"
   },
   {
    "duration": 14,
    "start_time": "2022-08-07T14:46:42.086Z"
   },
   {
    "duration": 8,
    "start_time": "2022-08-07T14:46:42.101Z"
   },
   {
    "duration": 376,
    "start_time": "2022-08-07T14:46:42.111Z"
   },
   {
    "duration": 448,
    "start_time": "2022-08-07T14:46:42.489Z"
   },
   {
    "duration": 290,
    "start_time": "2022-08-07T14:46:42.939Z"
   },
   {
    "duration": 737,
    "start_time": "2022-08-07T14:46:43.231Z"
   },
   {
    "duration": 4,
    "start_time": "2022-08-07T14:46:43.970Z"
   },
   {
    "duration": 290,
    "start_time": "2022-08-07T14:46:43.976Z"
   },
   {
    "duration": 2,
    "start_time": "2022-08-07T14:46:44.270Z"
   },
   {
    "duration": 6,
    "start_time": "2022-08-07T14:46:44.274Z"
   },
   {
    "duration": 4,
    "start_time": "2022-08-07T14:46:44.282Z"
   },
   {
    "duration": 7,
    "start_time": "2022-08-07T14:46:44.288Z"
   },
   {
    "duration": 8,
    "start_time": "2022-08-07T14:46:44.296Z"
   },
   {
    "duration": 5,
    "start_time": "2022-08-07T14:46:44.306Z"
   },
   {
    "duration": 218,
    "start_time": "2022-08-07T14:46:44.312Z"
   },
   {
    "duration": 1,
    "start_time": "2022-08-07T14:46:44.531Z"
   },
   {
    "duration": 0,
    "start_time": "2022-08-07T14:46:44.533Z"
   },
   {
    "duration": 0,
    "start_time": "2022-08-07T14:46:44.534Z"
   },
   {
    "duration": 0,
    "start_time": "2022-08-07T14:46:44.534Z"
   },
   {
    "duration": 0,
    "start_time": "2022-08-07T14:46:44.536Z"
   },
   {
    "duration": 0,
    "start_time": "2022-08-07T14:46:44.536Z"
   },
   {
    "duration": 0,
    "start_time": "2022-08-07T14:46:44.537Z"
   },
   {
    "duration": 0,
    "start_time": "2022-08-07T14:46:44.538Z"
   },
   {
    "duration": 0,
    "start_time": "2022-08-07T14:46:44.539Z"
   },
   {
    "duration": 0,
    "start_time": "2022-08-07T14:46:44.554Z"
   },
   {
    "duration": 0,
    "start_time": "2022-08-07T14:46:44.555Z"
   },
   {
    "duration": 0,
    "start_time": "2022-08-07T14:46:44.556Z"
   },
   {
    "duration": 0,
    "start_time": "2022-08-07T14:46:44.557Z"
   },
   {
    "duration": 0,
    "start_time": "2022-08-07T14:46:44.558Z"
   },
   {
    "duration": 0,
    "start_time": "2022-08-07T14:46:44.559Z"
   },
   {
    "duration": 0,
    "start_time": "2022-08-07T14:46:44.560Z"
   },
   {
    "duration": 0,
    "start_time": "2022-08-07T14:46:44.561Z"
   },
   {
    "duration": 1466,
    "start_time": "2022-08-07T14:47:56.650Z"
   },
   {
    "duration": 46,
    "start_time": "2022-08-07T14:47:58.118Z"
   },
   {
    "duration": 9,
    "start_time": "2022-08-07T14:47:58.165Z"
   },
   {
    "duration": 82,
    "start_time": "2022-08-07T14:47:58.175Z"
   },
   {
    "duration": 12,
    "start_time": "2022-08-07T14:47:58.259Z"
   },
   {
    "duration": 12,
    "start_time": "2022-08-07T14:47:58.273Z"
   },
   {
    "duration": 7,
    "start_time": "2022-08-07T14:47:58.286Z"
   },
   {
    "duration": 358,
    "start_time": "2022-08-07T14:47:58.294Z"
   },
   {
    "duration": 424,
    "start_time": "2022-08-07T14:47:58.653Z"
   },
   {
    "duration": 270,
    "start_time": "2022-08-07T14:47:59.078Z"
   },
   {
    "duration": 730,
    "start_time": "2022-08-07T14:47:59.349Z"
   },
   {
    "duration": 5,
    "start_time": "2022-08-07T14:48:00.081Z"
   },
   {
    "duration": 285,
    "start_time": "2022-08-07T14:48:00.088Z"
   },
   {
    "duration": 2,
    "start_time": "2022-08-07T14:48:00.376Z"
   },
   {
    "duration": 11,
    "start_time": "2022-08-07T14:48:00.380Z"
   },
   {
    "duration": 7,
    "start_time": "2022-08-07T14:48:00.393Z"
   },
   {
    "duration": 19,
    "start_time": "2022-08-07T14:48:00.401Z"
   },
   {
    "duration": 23,
    "start_time": "2022-08-07T14:48:00.421Z"
   },
   {
    "duration": 13,
    "start_time": "2022-08-07T14:48:00.446Z"
   },
   {
    "duration": 112,
    "start_time": "2022-08-07T14:48:00.460Z"
   },
   {
    "duration": 116,
    "start_time": "2022-08-07T14:48:00.573Z"
   },
   {
    "duration": 0,
    "start_time": "2022-08-07T14:48:00.690Z"
   },
   {
    "duration": 0,
    "start_time": "2022-08-07T14:48:00.691Z"
   },
   {
    "duration": 0,
    "start_time": "2022-08-07T14:48:00.692Z"
   },
   {
    "duration": 0,
    "start_time": "2022-08-07T14:48:00.693Z"
   },
   {
    "duration": 0,
    "start_time": "2022-08-07T14:48:00.694Z"
   },
   {
    "duration": 0,
    "start_time": "2022-08-07T14:48:00.695Z"
   },
   {
    "duration": 0,
    "start_time": "2022-08-07T14:48:00.696Z"
   },
   {
    "duration": 0,
    "start_time": "2022-08-07T14:48:00.697Z"
   },
   {
    "duration": 0,
    "start_time": "2022-08-07T14:48:00.698Z"
   },
   {
    "duration": 0,
    "start_time": "2022-08-07T14:48:00.698Z"
   },
   {
    "duration": 0,
    "start_time": "2022-08-07T14:48:00.700Z"
   },
   {
    "duration": 0,
    "start_time": "2022-08-07T14:48:00.700Z"
   },
   {
    "duration": 0,
    "start_time": "2022-08-07T14:48:00.701Z"
   },
   {
    "duration": 0,
    "start_time": "2022-08-07T14:48:00.702Z"
   },
   {
    "duration": 0,
    "start_time": "2022-08-07T14:48:00.703Z"
   },
   {
    "duration": 0,
    "start_time": "2022-08-07T14:48:00.704Z"
   },
   {
    "duration": 1384,
    "start_time": "2022-08-07T14:48:52.013Z"
   },
   {
    "duration": 46,
    "start_time": "2022-08-07T14:48:53.399Z"
   },
   {
    "duration": 9,
    "start_time": "2022-08-07T14:48:53.447Z"
   },
   {
    "duration": 61,
    "start_time": "2022-08-07T14:48:53.458Z"
   },
   {
    "duration": 39,
    "start_time": "2022-08-07T14:48:53.520Z"
   },
   {
    "duration": 14,
    "start_time": "2022-08-07T14:48:53.560Z"
   },
   {
    "duration": 7,
    "start_time": "2022-08-07T14:48:53.575Z"
   },
   {
    "duration": 328,
    "start_time": "2022-08-07T14:48:53.584Z"
   },
   {
    "duration": 455,
    "start_time": "2022-08-07T14:48:53.914Z"
   },
   {
    "duration": 279,
    "start_time": "2022-08-07T14:48:54.372Z"
   },
   {
    "duration": 761,
    "start_time": "2022-08-07T14:48:54.655Z"
   },
   {
    "duration": 5,
    "start_time": "2022-08-07T14:48:55.417Z"
   },
   {
    "duration": 280,
    "start_time": "2022-08-07T14:48:55.423Z"
   },
   {
    "duration": 2,
    "start_time": "2022-08-07T14:48:55.704Z"
   },
   {
    "duration": 7,
    "start_time": "2022-08-07T14:48:55.708Z"
   },
   {
    "duration": 5,
    "start_time": "2022-08-07T14:48:55.716Z"
   },
   {
    "duration": 6,
    "start_time": "2022-08-07T14:48:55.722Z"
   },
   {
    "duration": 7,
    "start_time": "2022-08-07T14:48:55.729Z"
   },
   {
    "duration": 4,
    "start_time": "2022-08-07T14:48:55.737Z"
   },
   {
    "duration": 18,
    "start_time": "2022-08-07T14:48:55.743Z"
   },
   {
    "duration": 6,
    "start_time": "2022-08-07T14:48:55.762Z"
   },
   {
    "duration": 129,
    "start_time": "2022-08-07T14:48:55.769Z"
   },
   {
    "duration": 6,
    "start_time": "2022-08-07T14:48:55.899Z"
   },
   {
    "duration": 20,
    "start_time": "2022-08-07T14:48:55.906Z"
   },
   {
    "duration": 34,
    "start_time": "2022-08-07T14:48:55.927Z"
   },
   {
    "duration": 700,
    "start_time": "2022-08-07T14:48:55.962Z"
   },
   {
    "duration": 91,
    "start_time": "2022-08-07T14:48:56.664Z"
   },
   {
    "duration": 96,
    "start_time": "2022-08-07T14:48:56.760Z"
   },
   {
    "duration": 5,
    "start_time": "2022-08-07T14:48:56.858Z"
   },
   {
    "duration": 27145,
    "start_time": "2022-08-07T14:48:56.864Z"
   },
   {
    "duration": 274026,
    "start_time": "2022-08-07T14:49:24.011Z"
   },
   {
    "duration": 1460,
    "start_time": "2022-08-07T14:57:23.674Z"
   },
   {
    "duration": 49,
    "start_time": "2022-08-07T14:57:25.136Z"
   },
   {
    "duration": 8,
    "start_time": "2022-08-07T14:57:25.186Z"
   },
   {
    "duration": 70,
    "start_time": "2022-08-07T14:57:25.196Z"
   },
   {
    "duration": 13,
    "start_time": "2022-08-07T14:57:25.267Z"
   },
   {
    "duration": 13,
    "start_time": "2022-08-07T14:57:25.282Z"
   },
   {
    "duration": 7,
    "start_time": "2022-08-07T14:57:25.296Z"
   },
   {
    "duration": 360,
    "start_time": "2022-08-07T14:57:25.304Z"
   },
   {
    "duration": 439,
    "start_time": "2022-08-07T14:57:25.666Z"
   },
   {
    "duration": 315,
    "start_time": "2022-08-07T14:57:26.107Z"
   },
   {
    "duration": 817,
    "start_time": "2022-08-07T14:57:26.423Z"
   },
   {
    "duration": 12,
    "start_time": "2022-08-07T14:57:27.242Z"
   },
   {
    "duration": 347,
    "start_time": "2022-08-07T14:57:27.256Z"
   },
   {
    "duration": 3,
    "start_time": "2022-08-07T14:57:27.604Z"
   },
   {
    "duration": 5,
    "start_time": "2022-08-07T14:57:27.608Z"
   },
   {
    "duration": 5,
    "start_time": "2022-08-07T14:57:27.614Z"
   },
   {
    "duration": 5,
    "start_time": "2022-08-07T14:57:27.620Z"
   },
   {
    "duration": 8,
    "start_time": "2022-08-07T14:57:27.626Z"
   },
   {
    "duration": 22,
    "start_time": "2022-08-07T14:57:27.635Z"
   },
   {
    "duration": 18,
    "start_time": "2022-08-07T14:57:27.659Z"
   },
   {
    "duration": 6,
    "start_time": "2022-08-07T14:57:27.678Z"
   },
   {
    "duration": 127,
    "start_time": "2022-08-07T14:57:27.685Z"
   },
   {
    "duration": 5,
    "start_time": "2022-08-07T14:57:27.814Z"
   },
   {
    "duration": 21,
    "start_time": "2022-08-07T14:57:27.821Z"
   },
   {
    "duration": 23,
    "start_time": "2022-08-07T14:57:27.854Z"
   },
   {
    "duration": 276,
    "start_time": "2022-08-07T14:57:27.879Z"
   },
   {
    "duration": 9,
    "start_time": "2022-08-07T14:57:28.157Z"
   },
   {
    "duration": 100,
    "start_time": "2022-08-07T14:57:28.172Z"
   },
   {
    "duration": 4,
    "start_time": "2022-08-07T14:57:28.274Z"
   },
   {
    "duration": 160782,
    "start_time": "2022-08-07T14:57:28.279Z"
   },
   {
    "duration": 284759,
    "start_time": "2022-08-07T15:00:09.064Z"
   },
   {
    "duration": 1528,
    "start_time": "2022-08-07T18:58:05.933Z"
   },
   {
    "duration": 0,
    "start_time": "2022-08-07T18:58:07.464Z"
   },
   {
    "duration": 0,
    "start_time": "2022-08-07T18:58:07.466Z"
   },
   {
    "duration": 0,
    "start_time": "2022-08-07T18:58:07.467Z"
   },
   {
    "duration": 0,
    "start_time": "2022-08-07T18:58:07.469Z"
   },
   {
    "duration": 0,
    "start_time": "2022-08-07T18:58:07.469Z"
   },
   {
    "duration": 0,
    "start_time": "2022-08-07T18:58:07.471Z"
   },
   {
    "duration": 0,
    "start_time": "2022-08-07T18:58:07.473Z"
   },
   {
    "duration": 0,
    "start_time": "2022-08-07T18:58:07.474Z"
   },
   {
    "duration": 0,
    "start_time": "2022-08-07T18:58:07.475Z"
   },
   {
    "duration": 0,
    "start_time": "2022-08-07T18:58:07.476Z"
   },
   {
    "duration": 0,
    "start_time": "2022-08-07T18:58:07.478Z"
   },
   {
    "duration": 0,
    "start_time": "2022-08-07T18:58:07.479Z"
   },
   {
    "duration": 0,
    "start_time": "2022-08-07T18:58:07.481Z"
   },
   {
    "duration": 0,
    "start_time": "2022-08-07T18:58:07.482Z"
   },
   {
    "duration": 0,
    "start_time": "2022-08-07T18:58:07.484Z"
   },
   {
    "duration": 0,
    "start_time": "2022-08-07T18:58:07.485Z"
   },
   {
    "duration": 0,
    "start_time": "2022-08-07T18:58:07.487Z"
   },
   {
    "duration": 0,
    "start_time": "2022-08-07T18:58:07.488Z"
   },
   {
    "duration": 0,
    "start_time": "2022-08-07T18:58:07.489Z"
   },
   {
    "duration": 0,
    "start_time": "2022-08-07T18:58:07.491Z"
   },
   {
    "duration": 0,
    "start_time": "2022-08-07T18:58:07.492Z"
   },
   {
    "duration": 0,
    "start_time": "2022-08-07T18:58:07.494Z"
   },
   {
    "duration": 0,
    "start_time": "2022-08-07T18:58:07.495Z"
   },
   {
    "duration": 0,
    "start_time": "2022-08-07T18:58:07.496Z"
   },
   {
    "duration": 0,
    "start_time": "2022-08-07T18:58:07.497Z"
   },
   {
    "duration": 0,
    "start_time": "2022-08-07T18:58:07.498Z"
   },
   {
    "duration": 0,
    "start_time": "2022-08-07T18:58:07.499Z"
   },
   {
    "duration": 0,
    "start_time": "2022-08-07T18:58:07.554Z"
   },
   {
    "duration": 0,
    "start_time": "2022-08-07T18:58:07.556Z"
   },
   {
    "duration": 1,
    "start_time": "2022-08-07T18:58:07.556Z"
   },
   {
    "duration": 0,
    "start_time": "2022-08-07T18:58:07.557Z"
   },
   {
    "duration": 0,
    "start_time": "2022-08-07T18:58:07.558Z"
   },
   {
    "duration": 0,
    "start_time": "2022-08-07T18:58:07.559Z"
   },
   {
    "duration": 1408,
    "start_time": "2022-08-07T18:59:13.779Z"
   },
   {
    "duration": 0,
    "start_time": "2022-08-07T18:59:15.190Z"
   },
   {
    "duration": 0,
    "start_time": "2022-08-07T18:59:15.191Z"
   },
   {
    "duration": 0,
    "start_time": "2022-08-07T18:59:15.192Z"
   },
   {
    "duration": 0,
    "start_time": "2022-08-07T18:59:15.193Z"
   },
   {
    "duration": 0,
    "start_time": "2022-08-07T18:59:15.194Z"
   },
   {
    "duration": 0,
    "start_time": "2022-08-07T18:59:15.195Z"
   },
   {
    "duration": 0,
    "start_time": "2022-08-07T18:59:15.196Z"
   },
   {
    "duration": 0,
    "start_time": "2022-08-07T18:59:15.197Z"
   },
   {
    "duration": 0,
    "start_time": "2022-08-07T18:59:15.198Z"
   },
   {
    "duration": 0,
    "start_time": "2022-08-07T18:59:15.199Z"
   },
   {
    "duration": 0,
    "start_time": "2022-08-07T18:59:15.200Z"
   },
   {
    "duration": 0,
    "start_time": "2022-08-07T18:59:15.200Z"
   },
   {
    "duration": 0,
    "start_time": "2022-08-07T18:59:15.201Z"
   },
   {
    "duration": 0,
    "start_time": "2022-08-07T18:59:15.202Z"
   },
   {
    "duration": 0,
    "start_time": "2022-08-07T18:59:15.203Z"
   },
   {
    "duration": 0,
    "start_time": "2022-08-07T18:59:15.204Z"
   },
   {
    "duration": 0,
    "start_time": "2022-08-07T18:59:15.205Z"
   },
   {
    "duration": 0,
    "start_time": "2022-08-07T18:59:15.206Z"
   },
   {
    "duration": 0,
    "start_time": "2022-08-07T18:59:15.207Z"
   },
   {
    "duration": 0,
    "start_time": "2022-08-07T18:59:15.208Z"
   },
   {
    "duration": 0,
    "start_time": "2022-08-07T18:59:15.209Z"
   },
   {
    "duration": 0,
    "start_time": "2022-08-07T18:59:15.210Z"
   },
   {
    "duration": 0,
    "start_time": "2022-08-07T18:59:15.211Z"
   },
   {
    "duration": 0,
    "start_time": "2022-08-07T18:59:15.212Z"
   },
   {
    "duration": 0,
    "start_time": "2022-08-07T18:59:15.213Z"
   },
   {
    "duration": 0,
    "start_time": "2022-08-07T18:59:15.214Z"
   },
   {
    "duration": 0,
    "start_time": "2022-08-07T18:59:15.215Z"
   },
   {
    "duration": 0,
    "start_time": "2022-08-07T18:59:15.216Z"
   },
   {
    "duration": 0,
    "start_time": "2022-08-07T18:59:15.255Z"
   },
   {
    "duration": 0,
    "start_time": "2022-08-07T18:59:15.256Z"
   },
   {
    "duration": 0,
    "start_time": "2022-08-07T18:59:15.257Z"
   },
   {
    "duration": 1,
    "start_time": "2022-08-07T18:59:15.257Z"
   },
   {
    "duration": 0,
    "start_time": "2022-08-07T18:59:15.258Z"
   },
   {
    "duration": 1419,
    "start_time": "2022-08-07T19:00:31.082Z"
   },
   {
    "duration": 0,
    "start_time": "2022-08-07T19:00:32.504Z"
   },
   {
    "duration": 0,
    "start_time": "2022-08-07T19:00:32.505Z"
   },
   {
    "duration": 0,
    "start_time": "2022-08-07T19:00:32.507Z"
   },
   {
    "duration": 0,
    "start_time": "2022-08-07T19:00:32.508Z"
   },
   {
    "duration": 0,
    "start_time": "2022-08-07T19:00:32.509Z"
   },
   {
    "duration": 0,
    "start_time": "2022-08-07T19:00:32.510Z"
   },
   {
    "duration": 0,
    "start_time": "2022-08-07T19:00:32.511Z"
   },
   {
    "duration": 0,
    "start_time": "2022-08-07T19:00:32.512Z"
   },
   {
    "duration": 0,
    "start_time": "2022-08-07T19:00:32.514Z"
   },
   {
    "duration": 0,
    "start_time": "2022-08-07T19:00:32.514Z"
   },
   {
    "duration": 0,
    "start_time": "2022-08-07T19:00:32.515Z"
   },
   {
    "duration": 0,
    "start_time": "2022-08-07T19:00:32.516Z"
   },
   {
    "duration": 0,
    "start_time": "2022-08-07T19:00:32.517Z"
   },
   {
    "duration": 0,
    "start_time": "2022-08-07T19:00:32.518Z"
   },
   {
    "duration": 0,
    "start_time": "2022-08-07T19:00:32.519Z"
   },
   {
    "duration": 0,
    "start_time": "2022-08-07T19:00:32.520Z"
   },
   {
    "duration": 0,
    "start_time": "2022-08-07T19:00:32.521Z"
   },
   {
    "duration": 0,
    "start_time": "2022-08-07T19:00:32.522Z"
   },
   {
    "duration": 0,
    "start_time": "2022-08-07T19:00:32.523Z"
   },
   {
    "duration": 0,
    "start_time": "2022-08-07T19:00:32.523Z"
   },
   {
    "duration": 0,
    "start_time": "2022-08-07T19:00:32.524Z"
   },
   {
    "duration": 0,
    "start_time": "2022-08-07T19:00:32.525Z"
   },
   {
    "duration": 0,
    "start_time": "2022-08-07T19:00:32.526Z"
   },
   {
    "duration": 0,
    "start_time": "2022-08-07T19:00:32.555Z"
   },
   {
    "duration": 0,
    "start_time": "2022-08-07T19:00:32.556Z"
   },
   {
    "duration": 0,
    "start_time": "2022-08-07T19:00:32.557Z"
   },
   {
    "duration": 0,
    "start_time": "2022-08-07T19:00:32.558Z"
   },
   {
    "duration": 0,
    "start_time": "2022-08-07T19:00:32.559Z"
   },
   {
    "duration": 0,
    "start_time": "2022-08-07T19:00:32.559Z"
   },
   {
    "duration": 0,
    "start_time": "2022-08-07T19:00:32.561Z"
   },
   {
    "duration": 0,
    "start_time": "2022-08-07T19:00:32.561Z"
   },
   {
    "duration": 0,
    "start_time": "2022-08-07T19:00:32.562Z"
   },
   {
    "duration": 0,
    "start_time": "2022-08-07T19:00:32.563Z"
   },
   {
    "duration": 1442,
    "start_time": "2022-08-07T19:01:16.132Z"
   },
   {
    "duration": 0,
    "start_time": "2022-08-07T19:01:17.576Z"
   },
   {
    "duration": 0,
    "start_time": "2022-08-07T19:01:17.577Z"
   },
   {
    "duration": 0,
    "start_time": "2022-08-07T19:01:17.578Z"
   },
   {
    "duration": 0,
    "start_time": "2022-08-07T19:01:17.579Z"
   },
   {
    "duration": 0,
    "start_time": "2022-08-07T19:01:17.580Z"
   },
   {
    "duration": 0,
    "start_time": "2022-08-07T19:01:17.581Z"
   },
   {
    "duration": 0,
    "start_time": "2022-08-07T19:01:17.582Z"
   },
   {
    "duration": 0,
    "start_time": "2022-08-07T19:01:17.583Z"
   },
   {
    "duration": 0,
    "start_time": "2022-08-07T19:01:17.584Z"
   },
   {
    "duration": 0,
    "start_time": "2022-08-07T19:01:17.585Z"
   },
   {
    "duration": 0,
    "start_time": "2022-08-07T19:01:17.586Z"
   },
   {
    "duration": 0,
    "start_time": "2022-08-07T19:01:17.587Z"
   },
   {
    "duration": 0,
    "start_time": "2022-08-07T19:01:17.588Z"
   },
   {
    "duration": 0,
    "start_time": "2022-08-07T19:01:17.589Z"
   },
   {
    "duration": 0,
    "start_time": "2022-08-07T19:01:17.590Z"
   },
   {
    "duration": 0,
    "start_time": "2022-08-07T19:01:17.591Z"
   },
   {
    "duration": 0,
    "start_time": "2022-08-07T19:01:17.592Z"
   },
   {
    "duration": 0,
    "start_time": "2022-08-07T19:01:17.593Z"
   },
   {
    "duration": 0,
    "start_time": "2022-08-07T19:01:17.594Z"
   },
   {
    "duration": 0,
    "start_time": "2022-08-07T19:01:17.595Z"
   },
   {
    "duration": 0,
    "start_time": "2022-08-07T19:01:17.596Z"
   },
   {
    "duration": 0,
    "start_time": "2022-08-07T19:01:17.597Z"
   },
   {
    "duration": 0,
    "start_time": "2022-08-07T19:01:17.598Z"
   },
   {
    "duration": 0,
    "start_time": "2022-08-07T19:01:17.598Z"
   },
   {
    "duration": 0,
    "start_time": "2022-08-07T19:01:17.599Z"
   },
   {
    "duration": 0,
    "start_time": "2022-08-07T19:01:17.600Z"
   },
   {
    "duration": 0,
    "start_time": "2022-08-07T19:01:17.601Z"
   },
   {
    "duration": 0,
    "start_time": "2022-08-07T19:01:17.602Z"
   },
   {
    "duration": 0,
    "start_time": "2022-08-07T19:01:17.603Z"
   },
   {
    "duration": 0,
    "start_time": "2022-08-07T19:01:17.604Z"
   },
   {
    "duration": 0,
    "start_time": "2022-08-07T19:01:17.605Z"
   },
   {
    "duration": 0,
    "start_time": "2022-08-07T19:01:17.655Z"
   },
   {
    "duration": 0,
    "start_time": "2022-08-07T19:01:17.656Z"
   },
   {
    "duration": 47,
    "start_time": "2022-08-07T19:07:50.951Z"
   },
   {
    "duration": 10,
    "start_time": "2022-08-07T19:07:51.000Z"
   },
   {
    "duration": 70,
    "start_time": "2022-08-07T19:07:51.012Z"
   },
   {
    "duration": 1865,
    "start_time": "2022-08-07T19:20:09.662Z"
   },
   {
    "duration": 46,
    "start_time": "2022-08-07T19:20:11.529Z"
   },
   {
    "duration": 8,
    "start_time": "2022-08-07T19:20:11.577Z"
   },
   {
    "duration": 78,
    "start_time": "2022-08-07T19:20:11.587Z"
   },
   {
    "duration": 11,
    "start_time": "2022-08-07T19:20:11.667Z"
   },
   {
    "duration": 12,
    "start_time": "2022-08-07T19:20:11.680Z"
   },
   {
    "duration": 7,
    "start_time": "2022-08-07T19:20:11.693Z"
   },
   {
    "duration": 342,
    "start_time": "2022-08-07T19:20:11.701Z"
   },
   {
    "duration": 425,
    "start_time": "2022-08-07T19:20:12.044Z"
   },
   {
    "duration": 276,
    "start_time": "2022-08-07T19:20:12.471Z"
   },
   {
    "duration": 725,
    "start_time": "2022-08-07T19:20:12.749Z"
   },
   {
    "duration": 5,
    "start_time": "2022-08-07T19:20:13.475Z"
   },
   {
    "duration": 280,
    "start_time": "2022-08-07T19:20:13.481Z"
   },
   {
    "duration": 2,
    "start_time": "2022-08-07T19:20:13.762Z"
   },
   {
    "duration": 7,
    "start_time": "2022-08-07T19:20:13.765Z"
   },
   {
    "duration": 7,
    "start_time": "2022-08-07T19:20:13.773Z"
   },
   {
    "duration": 7,
    "start_time": "2022-08-07T19:20:13.781Z"
   },
   {
    "duration": 6,
    "start_time": "2022-08-07T19:20:13.789Z"
   },
   {
    "duration": 5,
    "start_time": "2022-08-07T19:20:13.796Z"
   },
   {
    "duration": 9,
    "start_time": "2022-08-07T19:20:13.802Z"
   },
   {
    "duration": 6,
    "start_time": "2022-08-07T19:20:13.813Z"
   },
   {
    "duration": 134,
    "start_time": "2022-08-07T19:20:13.822Z"
   },
   {
    "duration": 6,
    "start_time": "2022-08-07T19:20:13.957Z"
   },
   {
    "duration": 19,
    "start_time": "2022-08-07T19:20:13.964Z"
   },
   {
    "duration": 20,
    "start_time": "2022-08-07T19:20:13.985Z"
   },
   {
    "duration": 150,
    "start_time": "2022-08-07T19:20:14.007Z"
   },
   {
    "duration": 99,
    "start_time": "2022-08-07T19:20:14.158Z"
   },
   {
    "duration": 4,
    "start_time": "2022-08-07T19:20:14.260Z"
   },
   {
    "duration": 6,
    "start_time": "2022-08-07T19:20:14.265Z"
   },
   {
    "duration": 14972,
    "start_time": "2022-08-07T19:20:14.272Z"
   },
   {
    "duration": 138502,
    "start_time": "2022-08-07T19:20:29.246Z"
   },
   {
    "duration": 1586,
    "start_time": "2022-08-10T01:30:43.606Z"
   },
   {
    "duration": 116,
    "start_time": "2022-08-10T01:30:45.194Z"
   },
   {
    "duration": 8,
    "start_time": "2022-08-10T01:30:45.312Z"
   },
   {
    "duration": 73,
    "start_time": "2022-08-10T01:30:45.322Z"
   },
   {
    "duration": 14,
    "start_time": "2022-08-10T01:30:46.923Z"
   },
   {
    "duration": 14,
    "start_time": "2022-08-10T01:30:47.172Z"
   },
   {
    "duration": 8,
    "start_time": "2022-08-10T01:30:47.357Z"
   },
   {
    "duration": 317,
    "start_time": "2022-08-10T01:30:48.112Z"
   },
   {
    "duration": 447,
    "start_time": "2022-08-10T01:30:48.431Z"
   },
   {
    "duration": 298,
    "start_time": "2022-08-10T01:30:48.880Z"
   },
   {
    "duration": 747,
    "start_time": "2022-08-10T01:30:49.180Z"
   },
   {
    "duration": 4,
    "start_time": "2022-08-10T01:30:49.929Z"
   },
   {
    "duration": 306,
    "start_time": "2022-08-10T01:30:49.934Z"
   },
   {
    "duration": 2,
    "start_time": "2022-08-10T01:30:50.241Z"
   },
   {
    "duration": 8,
    "start_time": "2022-08-10T01:30:50.245Z"
   },
   {
    "duration": 6,
    "start_time": "2022-08-10T01:30:50.255Z"
   },
   {
    "duration": 3,
    "start_time": "2022-08-10T01:30:50.914Z"
   },
   {
    "duration": 5,
    "start_time": "2022-08-10T01:30:52.332Z"
   },
   {
    "duration": 4,
    "start_time": "2022-08-10T01:30:53.007Z"
   },
   {
    "duration": 7,
    "start_time": "2022-08-10T01:30:54.242Z"
   },
   {
    "duration": 7,
    "start_time": "2022-08-10T01:30:54.742Z"
   },
   {
    "duration": 6,
    "start_time": "2022-08-10T01:30:58.527Z"
   },
   {
    "duration": 6,
    "start_time": "2022-08-10T01:31:08.237Z"
   },
   {
    "duration": 6,
    "start_time": "2022-08-10T01:31:18.246Z"
   },
   {
    "duration": 7,
    "start_time": "2022-08-10T01:31:52.157Z"
   }
  ],
  "hide_input": false,
  "kernelspec": {
   "display_name": "Python 3 (ipykernel)",
   "language": "python",
   "name": "python3"
  },
  "language_info": {
   "codemirror_mode": {
    "name": "ipython",
    "version": 3
   },
   "file_extension": ".py",
   "mimetype": "text/x-python",
   "name": "python",
   "nbconvert_exporter": "python",
   "pygments_lexer": "ipython3",
   "version": "3.10.4"
  },
  "toc": {
   "base_numbering": 1,
   "nav_menu": {},
   "number_sections": false,
   "sideBar": true,
   "skip_h1_title": true,
   "title_cell": "Table of Contents",
   "title_sidebar": "Contents",
   "toc_cell": false,
   "toc_position": {
    "height": "calc(100% - 180px)",
    "left": "10px",
    "top": "150px",
    "width": "384px"
   },
   "toc_section_display": true,
   "toc_window_display": false
  },
  "varInspector": {
   "cols": {
    "lenName": 16,
    "lenType": 16,
    "lenVar": 40
   },
   "kernels_config": {
    "python": {
     "delete_cmd_postfix": "",
     "delete_cmd_prefix": "del ",
     "library": "var_list.py",
     "varRefreshCmd": "print(var_dic_list())"
    },
    "r": {
     "delete_cmd_postfix": ") ",
     "delete_cmd_prefix": "rm(",
     "library": "var_list.r",
     "varRefreshCmd": "cat(var_dic_list()) "
    }
   },
   "types_to_exclude": [
    "module",
    "function",
    "builtin_function_or_method",
    "instance",
    "_Feature"
   ],
   "window_display": false
  }
 },
 "nbformat": 4,
 "nbformat_minor": 2
}
